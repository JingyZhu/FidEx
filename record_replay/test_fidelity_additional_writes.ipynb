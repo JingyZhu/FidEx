{
 "cells": [
  {
   "cell_type": "code",
   "execution_count": 1,
   "metadata": {},
   "outputs": [],
   "source": [
    "%load_ext autoreload\n",
    "%autoreload 2"
   ]
  },
  {
   "cell_type": "code",
   "execution_count": 2,
   "metadata": {},
   "outputs": [
    {
     "name": "stderr",
     "output_type": "stream",
     "text": [
      "WARNING: CPU random generator seem to be failing, disabling hardware random number generation\n",
      "WARNING: RDRND generated: 0xffffffff 0xffffffff 0xffffffff 0xffffffff\n"
     ]
    }
   ],
   "source": [
    "import json\n",
    "import pandas as pd\n",
    "import sys\n",
    "sys.path.append(\"../\")\n",
    "from baseline import pixel_diff\n",
    "import cv2"
   ]
  },
  {
   "cell_type": "markdown",
   "metadata": {},
   "source": [
    "## Util functions"
   ]
  },
  {
   "cell_type": "code",
   "execution_count": 3,
   "metadata": {},
   "outputs": [],
   "source": [
    "def writes_diff(dirname):\n",
    "    live_writes = json.load(open(f'writes/{dirname}/live_writes.json', 'r'))\n",
    "    archive_writes = json.load(open(f'writes/{dirname}/archive_writes.json', 'r'))\n",
    "    return len(live_writes['writes']) - len(archive_writes['writes'])\n",
    "\n",
    "# writes_diff('test')"
   ]
  },
  {
   "cell_type": "code",
   "execution_count": 4,
   "metadata": {},
   "outputs": [],
   "source": [
    "def screenshot_simi(dirname):\n",
    "    live_img = f'writes/{dirname}/live.png'\n",
    "    archive_img = f'writes/{dirname}/archive.png'\n",
    "    return pixel_diff.diff(live_img, archive_img, return_diff_img=True)\n",
    "\n",
    "# img_simi = screenshot_simi('test')\n",
    "# print(img_simi[0])\n",
    "# cv2.imwrite(f'test_{img_simi[0]:.2f}.png', img_simi[1])"
   ]
  },
  {
   "cell_type": "markdown",
   "metadata": {},
   "source": [
    "### 0. Check if there is any page with more archive writes than live writes\n",
    "- On 178 sample pages, no page has more archive writes than live writes\n",
    "- New run produces 12 pages with more archive writes.\n",
    "    - www.nrcs.usda.gov_1 (-1): No fidelity issue."
   ]
  },
  {
   "cell_type": "code",
   "execution_count": 7,
   "metadata": {},
   "outputs": [
    {
     "name": "stdout",
     "output_type": "stream",
     "text": [
      "Total number of pages:  178\n",
      "www.nrcs.usda.gov_1 -1\n",
      "www.fws.gov_2 -42\n",
      "www.federalreserve.gov_1 -6\n",
      "www.transportation.gov_1 -2\n",
      "www-curator.jsc.nasa.gov_1 -1\n",
      "www.ce9.uscourts.gov_1 -1\n",
      "geo.arc.nasa.gov_1 -7\n",
      "www.glerl.noaa.gov_1 -1\n",
      "www.speaker.gov_1 -1\n",
      "www.ncpc.gov_1 -2\n",
      "edworkforce.house.gov_1 -1\n",
      "www.usda.gov_1 -4\n",
      "Total number of pages with less live writes:  12\n"
     ]
    }
   ],
   "source": [
    "similarities = json.load(open('screenshots/onload_screenshot_similarity.json', 'r'))\n",
    "print(\"Total number of pages: \", len(similarities))\n",
    "less_live_writes = 0\n",
    "for simi_obj in similarities:\n",
    "    diff = writes_diff(simi_obj['directory'])\n",
    "    if diff < 0:\n",
    "        less_live_writes += 1\n",
    "        print(simi_obj['directory'], diff)\n",
    "print(\"Total number of pages with less live writes: \", less_live_writes)"
   ]
  },
  {
   "cell_type": "markdown",
   "metadata": {},
   "source": [
    "### 1. Relationship between the screenshots similarity and the writes diff"
   ]
  },
  {
   "cell_type": "code",
   "execution_count": 6,
   "metadata": {},
   "outputs": [
    {
     "data": {
      "text/html": [
       "<div>\n",
       "<style scoped>\n",
       "    .dataframe tbody tr th:only-of-type {\n",
       "        vertical-align: middle;\n",
       "    }\n",
       "\n",
       "    .dataframe tbody tr th {\n",
       "        vertical-align: top;\n",
       "    }\n",
       "\n",
       "    .dataframe thead th {\n",
       "        text-align: right;\n",
       "    }\n",
       "</style>\n",
       "<table border=\"1\" class=\"dataframe\">\n",
       "  <thead>\n",
       "    <tr style=\"text-align: right;\">\n",
       "      <th></th>\n",
       "      <th>similarity=1</th>\n",
       "      <th>similarity&lt;1</th>\n",
       "    </tr>\n",
       "    <tr>\n",
       "      <th>type</th>\n",
       "      <th></th>\n",
       "      <th></th>\n",
       "    </tr>\n",
       "  </thead>\n",
       "  <tbody>\n",
       "    <tr>\n",
       "      <th>writes_diff=0</th>\n",
       "      <td>84</td>\n",
       "      <td>59</td>\n",
       "    </tr>\n",
       "    <tr>\n",
       "      <th>writes_diff&gt;0</th>\n",
       "      <td>3</td>\n",
       "      <td>32</td>\n",
       "    </tr>\n",
       "  </tbody>\n",
       "</table>\n",
       "</div>"
      ],
      "text/plain": [
       "               similarity=1  similarity<1\n",
       "type                                     \n",
       "writes_diff=0            84            59\n",
       "writes_diff>0             3            32"
      ]
     },
     "execution_count": 6,
     "metadata": {},
     "output_type": "execute_result"
    }
   ],
   "source": [
    "table = [['type', 'similarity=1', 'similarity<1'],\n",
    "         ['writes_diff=0', 0, 0],\n",
    "         ['writes_diff>0', 0, 0]]\n",
    "df = pd.DataFrame(table[1:], columns=table[0])\n",
    "df.set_index('type', inplace=True)\n",
    "\n",
    "similarities = json.load(open('screenshots/onload_screenshot_similarity.json', 'r'))\n",
    "\n",
    "for simi_obj in similarities:\n",
    "    directory = simi_obj['directory']\n",
    "    similarity = simi_obj['screenshot_similarity']\n",
    "    col = 'similarity=1' if similarity >= 1 else 'similarity<1'\n",
    "    row = 'writes_diff=0' if writes_diff(directory) == 0 else 'writes_diff>0'\n",
    "    df.loc[row, col] += 1\n",
    "df"
   ]
  },
  {
   "cell_type": "markdown",
   "metadata": {},
   "source": [
    "#### 1.1 Check certain type of category in the table\n",
    "- False positive (writes detection falsely detecting a page as fidelity problematic): 3 cases\n",
    "    - weblogin.lanl.gov_1: Set attribute of an element twice (with different value)\n",
    "    - www.whitehouse.gov_1 & www.whitehouse.gov_2: Visibility: hidden element (already fixed)\n",
    "- True positive check:\n",
    "    - www.nist.gov_1: Correct\n",
    "    - www.aoc.gov_1: FIXED. Wrong (liveweb has additional svg. Suspect to be sync between live and archive)\n",
    "    - www.fws.gov_1: FIXED. Exception triggered on measurements.\n",
    "    - www.nrel.gov_1: FIXED\n",
    "    - www.ams.usda.gov_1: FIXED\n",
    "- False negative check:\n",
    "    - photojournal.jpl.nasa.gov_1: ? Looks no fidelity issue\n",
    "    - www.baaqmd.gov_1: False negative. Carousel not working on archive\n",
    "    - ffb.treasury.gov_1: False negative. Because of 503\n",
    "    - www.miwd.uscourts.gov_1: True negative. Screenshot seem to catch the location of search icon wrong\n",
    "    - www.whitehouse.senate.gov_1: False negative. Google translate banner missing on archive"
   ]
  },
  {
   "cell_type": "code",
   "execution_count": 8,
   "metadata": {},
   "outputs": [
    {
     "name": "stdout",
     "output_type": "stream",
     "text": [
      "www.fws.gov_2\n",
      "www-curator.jsc.nasa.gov_1\n",
      "www.ce9.uscourts.gov_1\n"
     ]
    }
   ],
   "source": [
    "similarities = json.load(open('screenshots/onload_screenshot_similarity.json', 'r'))\n",
    "\n",
    "target_row, target_col = 'writes_diff>0', 'similarity=1'\n",
    "for simi_obj in similarities:\n",
    "    directory = simi_obj['directory']\n",
    "    similarity = simi_obj['screenshot_similarity']\n",
    "    col = 'similarity=1' if similarity >= 1 else 'similarity<1'\n",
    "    row = 'writes_diff=0' if writes_diff(directory) == 0 else 'writes_diff>0'\n",
    "    if row == target_row and col == target_col:\n",
    "        print(directory)"
   ]
  }
 ],
 "metadata": {
  "kernelspec": {
   "display_name": "base",
   "language": "python",
   "name": "python3"
  },
  "language_info": {
   "codemirror_mode": {
    "name": "ipython",
    "version": 3
   },
   "file_extension": ".py",
   "mimetype": "text/x-python",
   "name": "python",
   "nbconvert_exporter": "python",
   "pygments_lexer": "ipython3",
   "version": "3.9.13"
  }
 },
 "nbformat": 4,
 "nbformat_minor": 2
}

{
 "cells": [
  {
   "cell_type": "code",
   "execution_count": 1,
   "metadata": {},
   "outputs": [],
   "source": [
    "%load_ext autoreload\n",
    "%autoreload 2"
   ]
  },
  {
   "cell_type": "code",
   "execution_count": 3,
   "metadata": {},
   "outputs": [],
   "source": [
    "import json\n",
    "import os\n",
    "import random"
   ]
  },
  {
   "cell_type": "code",
   "execution_count": 3,
   "metadata": {},
   "outputs": [],
   "source": [
    "dirr = 'osti.gov_13670'\n",
    "result_log = json.load(open(f'writes/{dirr}/result_log.json', 'r'))\n",
    "log = result_log['log'][1]\n",
    "updated_code = log['updated']\n",
    "with open(f'test/overrided.js', 'w+') as f:\n",
    "    f.write(updated_code)"
   ]
  },
  {
   "cell_type": "markdown",
   "metadata": {},
   "source": [
    "### Count uncaught exception and syntax error"
   ]
  },
  {
   "cell_type": "code",
   "execution_count": 6,
   "metadata": {},
   "outputs": [
    {
     "name": "stdout",
     "output_type": "stream",
     "text": [
      "search.dea.gov_6220\n",
      "internal.nren.nasa.gov_6006\n",
      "myssaisanfrancisco.usajobs.gov_7717\n",
      "diversitynews.msfc.nasa.gov_6527\n",
      "www.uscourts.gov_1150\n",
      "martin.floridahealth.gov_13234\n",
      "investors.maine.gov_9477\n",
      "newhaven.jobcorps.gov_10578\n",
      "lni.wa.gov_12080\n",
      "bve.ky.gov_4027\n",
      "www.supremecourt.gov_1215\n",
      "in.gov_7907\n",
      "mpr.ams.usda.gov_3156\n",
      "whigham.georgia.gov_7129\n",
      "afisr.af.mil_6450\n",
      "195wg.ang.af.mil_11356\n",
      "odum.georgia.gov_11194\n",
      "public.govdelivery.com_4953\n",
      "ircalc.usps.gov_9452\n",
      "ihs.gov_13622\n",
      "lance.house.gov_1458\n",
      "ots.gov_5737\n",
      "usafacademyband.af.mil_8934\n",
      "ehealth.ky.gov_4117\n",
      "economist.uat.usajobs.gov_5943\n",
      "siren.illinois.gov_3098\n",
      "guam.gov_7606\n",
      "flickr.com_7265\n",
      "kathleenrice.house.gov_4366\n",
      "nccpaboard.gov_11657\n",
      "info.usitc.gov_12136\n",
      "usgovernment.gov_9914\n",
      "ssaiseattle.usajobs.gov_8322\n",
      "miami.va.gov_5576\n",
      "librarycatalog.dol.gov_2133\n",
      "rader.nrmc.amedd.army.mil_6913\n",
      "youtube.com_5799\n",
      "testwater.weather.gov_3006\n",
      "spanish.malabo.usembassy.gov_11513\n",
      "medicalsurgical.va.gov_8742\n",
      "azsos.gov_2159\n",
      "guam.gov_8185\n",
      "plus.google.com_8518\n",
      "suicideprevention.nv.gov_5851\n",
      "wqic.nal.usda.gov_7573\n",
      "173 45\n",
      "173 27\n"
     ]
    }
   ],
   "source": [
    "total = 0\n",
    "uncaught = []\n",
    "syntax = []\n",
    "dirs = os.listdir('writes')\n",
    "for dirr in dirs:\n",
    "    if not os.path.exists(f'writes/{dirr}/result_log.json'):\n",
    "        continue\n",
    "    result_log = json.load(open(f'writes/{dirr}/result_log.json', 'r'))\n",
    "    log = result_log['log'][0]\n",
    "    total += 1\n",
    "    uncaught.append(log['uncaught'])\n",
    "    if log['uncaught'] > 0:\n",
    "        print(dirr)\n",
    "    syntax.append(log['syntaxError'])\n",
    "print(len(uncaught), len([x for x in uncaught if x > 0]))\n",
    "print(len(syntax), len([x for x in syntax if x > 0]))"
   ]
  },
  {
   "cell_type": "markdown",
   "metadata": {},
   "source": [
    "### Collect archive URLs for eot-1k"
   ]
  },
  {
   "cell_type": "code",
   "execution_count": 4,
   "metadata": {},
   "outputs": [],
   "source": [
    "data = json.load(open('../../fidelity-files/metadata/eot-1k_metadata.json', 'r'))\n",
    "data_list = [{'hostname': v['directory'], 'archive_url': v['archive']} for v in data.values()]\n",
    "data_list = random.sample(data_list, 200)\n",
    "json.dump(data_list, open('eot_1k_sampled_200.json', 'w+'), indent=2)"
   ]
  },
  {
   "cell_type": "markdown",
   "metadata": {},
   "source": [
    "### Check wayback neighbor URLs"
   ]
  },
  {
   "cell_type": "code",
   "execution_count": 5,
   "metadata": {},
   "outputs": [],
   "source": [
    "import requests\n",
    "import time\n",
    "\n",
    "def wayback_index(url, param_dict={}, wait=True, total_link=False, proxies={}):\n",
    "    \"\"\"00\n",
    "    Get the wayback machine index of certain url by querying the CDX\n",
    "    wait: wait unitl not getting block\n",
    "    total_link: Returned url are in full(wayback) links\n",
    "\n",
    "    return: ( [(timestamp, url, stauts_code)], SUCCESS/EMPTY/ERROR_MSG)\n",
    "    \"\"\"\n",
    "    wayback_home = 'http://web.archive.org/web/'\n",
    "    params = {\n",
    "        'output': 'json',\n",
    "        'url': url,\n",
    "        'from': 19700101,\n",
    "        'to': 20241231,\n",
    "    }   \n",
    "    params.update(param_dict)\n",
    "    count = 0\n",
    "    r = None\n",
    "    while True:\n",
    "        try:\n",
    "            r = requests.get('http://web.archive.org/cdx/search/cdx', params=params, proxies=proxies, timeout=120)\n",
    "            r = r.json()\n",
    "            time.sleep(0.5)\n",
    "            break\n",
    "        except requests.exceptions.ConnectionError as e:\n",
    "            time.sleep(20)\n",
    "            continue\n",
    "        except Exception as e:\n",
    "            error_msg = str(e).split('\\n')[0]\n",
    "            if not r or not wait or r.status_code not in [429, 445, 501, 503]:\n",
    "                return [], str(e)\n",
    "            if count > 3:\n",
    "                return [], str(e)\n",
    "            count += 1\n",
    "            time.sleep(10)\n",
    "    if total_link:\n",
    "        r = [(i[1], f\"{wayback_home}{i[1]}/{i[2]}\", i[4]) for i in r[1:]]\n",
    "    else:\n",
    "        r = [(i[1], i[2], i[4]) for i in r[1:]]\n",
    "    if len(r) != 0:\n",
    "        return r, \"Success\",\n",
    "    else:\n",
    "        return [], \"Empty\"\n",
    "\n",
    "prefix = 'https://www.azsos.gov/sites/all/modules/ldap/ldap_user/ldap_user.css*'\n",
    "param_dict = {\n",
    "    'filter': ['statuscode:200'],\n",
    "    'collapse': 'digest'\n",
    "}\n",
    "\n",
    "wi, status = wayback_index(prefix, param_dict=param_dict, total_link=True)"
   ]
  },
  {
   "cell_type": "code",
   "execution_count": 7,
   "metadata": {},
   "outputs": [
    {
     "data": {
      "text/plain": [
       "[('20161115145359',\n",
       "  'http://web.archive.org/web/20161115145359/https://www.azsos.gov/sites/all/modules/ldap/ldap_user/ldap_user.css',\n",
       "  '200'),\n",
       " ('20161116220459',\n",
       "  'http://web.archive.org/web/20161116220459/https://www.azsos.gov/sites/all/modules/ldap/ldap_user/ldap_user.css?ogn7oe',\n",
       "  '200'),\n",
       " ('20161118050600',\n",
       "  'http://web.archive.org/web/20161118050600/https://www.azsos.gov/sites/all/modules/ldap/ldap_user/ldap_user.css?ogt0v0',\n",
       "  '200'),\n",
       " ('20170227204442',\n",
       "  'http://web.archive.org/web/20170227204442/https://www.azsos.gov/sites/all/modules/ldap/ldap_user/ldap_user.css?olwjmc',\n",
       "  '200'),\n",
       " ('20170308144340',\n",
       "  'http://web.archive.org/web/20170308144340/https://www.azsos.gov/sites/all/modules/ldap/ldap_user/ldap_user.css?om70go',\n",
       "  '200')]"
      ]
     },
     "execution_count": 7,
     "metadata": {},
     "output_type": "execute_result"
    }
   ],
   "source": [
    "wi"
   ]
  }
 ],
 "metadata": {
  "kernelspec": {
   "display_name": "base",
   "language": "python",
   "name": "python3"
  },
  "language_info": {
   "codemirror_mode": {
    "name": "ipython",
    "version": 3
   },
   "file_extension": ".py",
   "mimetype": "text/x-python",
   "name": "python",
   "nbconvert_exporter": "python",
   "pygments_lexer": "ipython3",
   "version": "3.8.5"
  }
 },
 "nbformat": 4,
 "nbformat_minor": 2
}

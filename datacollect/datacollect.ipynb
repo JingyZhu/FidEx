{
 "cells": [
  {
   "cell_type": "code",
   "execution_count": 1,
   "metadata": {},
   "outputs": [],
   "source": [
    "%load_ext autoreload\n",
    "%autoreload 2"
   ]
  },
  {
   "cell_type": "code",
   "execution_count": 2,
   "metadata": {},
   "outputs": [],
   "source": [
    "import os\n",
    "import json\n",
    "import random\n",
    "\n",
    "from urllib.parse import urlsplit\n",
    "from collections import defaultdict"
   ]
  },
  {
   "cell_type": "markdown",
   "metadata": {},
   "source": [
    "### Sample urls by hostname (merge carta and eot together)"
   ]
  },
  {
   "cell_type": "code",
   "execution_count": 22,
   "metadata": {},
   "outputs": [
    {
     "name": "stdout",
     "output_type": "stream",
     "text": [
      "17820\n",
      "1500\n"
     ]
    }
   ],
   "source": [
    "data = json.load(open('data/eot_all_good.json', 'r'))\n",
    "host_urls = defaultdict(list)\n",
    "data = [d for d in data if d['broken'] == False]\n",
    "for datum in data:\n",
    "    host = urlsplit(datum['live_url']).netloc.split(':')[0]\n",
    "    host_urls[host].append(datum['live_url'])\n",
    "print(len(host_urls))\n",
    "host_urls = {k: random.sample(v, 1) for k, v in host_urls.items()}\n",
    "host_urls = defaultdict(list, random.sample(list(host_urls.items()), 6000))\n",
    "\n",
    "data = json.load(open('data/carta_all_good.json', 'r'))\n",
    "data = [d for d in data if d['broken'] == False]\n",
    "for datum in data:\n",
    "    host = urlsplit(datum['live_url']).netloc.split(':')[0]\n",
    "    host_urls[host].append(datum['live_url'])\n",
    "host_urls = {k: random.sample(v, 1) for k, v in host_urls.items()}\n",
    "host_urls = dict(random.sample(list(host_urls.items()), 1500))\n",
    "print(len(host_urls))\n",
    "sampled_urls = [{'live_url': url[0]}  for url in host_urls.values()]\n",
    "json.dump(sampled_urls, open('ground_truth_urls.json', 'w+'), indent=2)"
   ]
  },
  {
   "cell_type": "code",
   "execution_count": 9,
   "metadata": {},
   "outputs": [
    {
     "name": "stdout",
     "output_type": "stream",
     "text": [
      "Before 4093\n",
      "After 3786\n"
     ]
    }
   ],
   "source": [
    "filter_list = ['twitter.com', 'facebook.com', 'instagram.com', 'flickr.com']\n",
    "\n",
    "eot_good_all = json.load(open('data/eot_good_all.json'))\n",
    "print(\"Before\", len(eot_good_all))\n",
    "eot_good_all = [e for e in eot_good_all if not any([f in e['live_url'] for f in filter_list])]\n",
    "print(\"After\", len(eot_good_all))\n",
    "eot_300 = random.sample(eot_good_all, 500)\n",
    "json.dump(eot_300, open('ground-truth/ground_truth_eot_500.json', 'w'), indent=2)"
   ]
  },
  {
   "cell_type": "markdown",
   "metadata": {},
   "source": [
    "### Merge determinism results"
   ]
  },
  {
   "cell_type": "code",
   "execution_count": 3,
   "metadata": {},
   "outputs": [
    {
     "name": "stdout",
     "output_type": "stream",
     "text": [
      "0 25\n",
      "1 25\n",
      "2 25\n",
      "3 25\n",
      "4 25\n",
      "5 25\n",
      "6 25\n",
      "7 25\n",
      "8 25\n",
      "9 25\n",
      "10 25\n",
      "11 25\n",
      "12 25\n",
      "13 25\n",
      "14 25\n",
      "15 24\n",
      "397\n"
     ]
    }
   ],
   "source": [
    "num = 16\n",
    "if os.path.exists('ground-truth/determinism_results/determinism_results.json'):\n",
    "    results = {d['url']: d for d in json.load(open(f'ground-truth/determinism_results/determinism_results.json'))}\n",
    "else:\n",
    "    results = {}\n",
    "for i in range(num):\n",
    "    data = json.load(open(f'ground-truth/determinism_results/determinism_results_{i}.json'))\n",
    "    print(i, len(data))\n",
    "    for d in data:\n",
    "        results[d['url']] = d\n",
    "print(len(results))\n",
    "results = list(results.values())\n",
    "json.dump(results, open('ground-truth/determinism_results/determinism_results.json', 'w'), indent=2)"
   ]
  },
  {
   "cell_type": "markdown",
   "metadata": {},
   "source": [
    "### Merge record replay results"
   ]
  },
  {
   "cell_type": "code",
   "execution_count": 5,
   "metadata": {},
   "outputs": [
    {
     "name": "stdout",
     "output_type": "stream",
     "text": [
      "0 5\n",
      "1 13\n",
      "2 8\n",
      "3 13\n",
      "4 11\n",
      "5 11\n",
      "6 13\n",
      "7 3\n",
      "8 11\n",
      "9 12\n",
      "10 10\n",
      "11 10\n",
      "12 13\n",
      "13 8\n",
      "14 10\n",
      "15 11\n",
      "162\n"
     ]
    }
   ],
   "source": [
    "num = 16\n",
    "results = json.load(open(f'ground-truth/metadata/gt_tranco_metadata.json'))\n",
    "for i in range(num):\n",
    "    data = json.load(open(f'ground-truth/metadata/gt_tranco_metadata_{i}.json'))\n",
    "    print(i, len(data))\n",
    "    results.update(data)\n",
    "print(len(results))\n",
    "json.dump(results, open('ground-truth/metadata/gt_tranco_metadata.json', 'w'), indent=2)"
   ]
  },
  {
   "cell_type": "markdown",
   "metadata": {},
   "source": [
    "### Construct the json for revert_rewrite"
   ]
  },
  {
   "cell_type": "code",
   "execution_count": 9,
   "metadata": {},
   "outputs": [],
   "source": [
    "ground_truth = json.load(open('ground-truth/gt_diff.json'))\n",
    "gt_rr = []\n",
    "for obj in random.sample(ground_truth, 200):\n",
    "    gt_rr.append({\n",
    "        'hostname': obj['hostname'],\n",
    "        'archive_url': obj['url'],\n",
    "        'diff': obj['diff']\n",
    "    })\n",
    "json.dump(gt_rr, open('../revert_rewrite/inputs/ground_truth_200.json', 'w+'), indent=2)\n"
   ]
  },
  {
   "cell_type": "markdown",
   "metadata": {},
   "source": [
    "### Update the json for revert_rewrite (200)"
   ]
  },
  {
   "cell_type": "code",
   "execution_count": 18,
   "metadata": {},
   "outputs": [],
   "source": [
    "ground_truth_sample = json.load(open('../revert_rewrite/inputs/ground_truth_200_0.json'))\n",
    "hostnames = set([g['hostname'] for g in ground_truth_sample])\n",
    "gt_diff = json.load(open('ground-truth/gt_diff.json'))\n",
    "gt_diff_sample = [g for g in gt_diff if g['hostname'] in hostnames]\n",
    "json.dump(gt_diff_sample, open('../revert_rewrite/inputs/ground_truth_200.json', 'w+'), indent=2)"
   ]
  },
  {
   "cell_type": "markdown",
   "metadata": {},
   "source": [
    "### Sample more data (merge the previous 200 in)"
   ]
  },
  {
   "cell_type": "code",
   "execution_count": 5,
   "metadata": {},
   "outputs": [],
   "source": [
    "gt_sample = json.load(open('../revert_rewrite/inputs/ground_truth_200.json', 'r'))\n",
    "gt_sample_map = {g['hostname']: g for g in gt_sample}\n",
    "gt_all = json.load(open('ground-truth/gt_diff.json'))\n",
    "gt_all_remain = [g for g in gt_all if g['hostname'] not in gt_sample_map]\n",
    "gt_rr = []\n",
    "for obj in gt_all_remain:\n",
    "    gt_rr.append({\n",
    "        'hostname': obj['hostname'],\n",
    "        'archive_url': obj['url'],\n",
    "        'diff': obj['diff']\n",
    "    })\n",
    "json.dump(gt_rr, open('../revert_rewrite/inputs/ground_truth_remain.json', 'w+'), indent=2)"
   ]
  }
 ],
 "metadata": {
  "kernelspec": {
   "display_name": "base",
   "language": "python",
   "name": "python3"
  },
  "language_info": {
   "codemirror_mode": {
    "name": "ipython",
    "version": 3
   },
   "file_extension": ".py",
   "mimetype": "text/x-python",
   "name": "python",
   "nbconvert_exporter": "python",
   "pygments_lexer": "ipython3",
   "version": "3.8.5"
  }
 },
 "nbformat": 4,
 "nbformat_minor": 2
}

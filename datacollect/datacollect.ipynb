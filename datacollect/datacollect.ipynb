{
 "cells": [
  {
   "cell_type": "code",
   "execution_count": 1,
   "metadata": {},
   "outputs": [],
   "source": [
    "%load_ext autoreload\n",
    "%autoreload 2"
   ]
  },
  {
   "cell_type": "code",
   "execution_count": 9,
   "metadata": {},
   "outputs": [],
   "source": [
    "import os\n",
    "import json\n",
    "import random\n",
    "\n",
    "from urllib.parse import urlsplit\n",
    "from collections import defaultdict"
   ]
  },
  {
   "cell_type": "markdown",
   "metadata": {},
   "source": [
    "### Sample urls by hostname (merge carta and eot together)"
   ]
  },
  {
   "cell_type": "code",
   "execution_count": 22,
   "metadata": {},
   "outputs": [
    {
     "name": "stdout",
     "output_type": "stream",
     "text": [
      "17820\n",
      "1500\n"
     ]
    }
   ],
   "source": [
    "data = json.load(open('data/eot_all_good.json', 'r'))\n",
    "host_urls = defaultdict(list)\n",
    "data = [d for d in data if d['broken'] == False]\n",
    "for datum in data:\n",
    "    host = urlsplit(datum['live_url']).netloc.split(':')[0]\n",
    "    host_urls[host].append(datum['live_url'])\n",
    "print(len(host_urls))\n",
    "host_urls = {k: random.sample(v, 1) for k, v in host_urls.items()}\n",
    "host_urls = defaultdict(list, random.sample(list(host_urls.items()), 6000))\n",
    "\n",
    "data = json.load(open('data/carta_all_good.json', 'r'))\n",
    "data = [d for d in data if d['broken'] == False]\n",
    "for datum in data:\n",
    "    host = urlsplit(datum['live_url']).netloc.split(':')[0]\n",
    "    host_urls[host].append(datum['live_url'])\n",
    "host_urls = {k: random.sample(v, 1) for k, v in host_urls.items()}\n",
    "host_urls = dict(random.sample(list(host_urls.items()), 1500))\n",
    "print(len(host_urls))\n",
    "sampled_urls = [{'live_url': url[0]}  for url in host_urls.values()]\n",
    "json.dump(sampled_urls, open('ground_truth_urls.json', 'w+'), indent=2)"
   ]
  },
  {
   "cell_type": "code",
   "execution_count": 9,
   "metadata": {},
   "outputs": [
    {
     "name": "stdout",
     "output_type": "stream",
     "text": [
      "Before 4093\n",
      "After 3786\n"
     ]
    }
   ],
   "source": [
    "filter_list = ['twitter.com', 'facebook.com', 'instagram.com', 'flickr.com']\n",
    "\n",
    "eot_good_all = json.load(open('data/eot_good_all.json'))\n",
    "print(\"Before\", len(eot_good_all))\n",
    "eot_good_all = [e for e in eot_good_all if not any([f in e['live_url'] for f in filter_list])]\n",
    "print(\"After\", len(eot_good_all))\n",
    "eot_300 = random.sample(eot_good_all, 500)\n",
    "json.dump(eot_300, open('ground-truth/ground_truth_eot_500.json', 'w'), indent=2)"
   ]
  },
  {
   "cell_type": "markdown",
   "metadata": {},
   "source": [
    "### Merge determinism results"
   ]
  },
  {
   "cell_type": "code",
   "execution_count": 25,
   "metadata": {},
   "outputs": [
    {
     "name": "stdout",
     "output_type": "stream",
     "text": [
      "0 56\n",
      "1 42\n",
      "2 22\n",
      "3 71\n",
      "4 62\n",
      "5 42\n",
      "6 72\n",
      "7 42\n",
      "409\n"
     ]
    }
   ],
   "source": [
    "num = 8\n",
    "results = []\n",
    "for i in range(num):\n",
    "    data = json.load(open(f'ground-truth/determinism_results/determinism_results_{i}.json'))\n",
    "    print(i, len(data))\n",
    "    results.extend(data)\n",
    "print(len(results))\n",
    "json.dump(results, open('ground-truth/determinism_results/determinism_results.json', 'w'), indent=2)"
   ]
  },
  {
   "cell_type": "markdown",
   "metadata": {},
   "source": [
    "### Merge record replay results"
   ]
  },
  {
   "cell_type": "code",
   "execution_count": 4,
   "metadata": {},
   "outputs": [
    {
     "name": "stdout",
     "output_type": "stream",
     "text": [
      "312\n"
     ]
    }
   ],
   "source": [
    "num = 8\n",
    "results = {}\n",
    "for i in range(num):\n",
    "    data = json.load(open(f'ground-truth/eot_gt_metadata_{i}.json'))\n",
    "    results.update(data)\n",
    "print(len(results))\n",
    "json.dump(results, open('ground-truth/eot_gt_metadata.json', 'w'), indent=2)"
   ]
  }
 ],
 "metadata": {
  "kernelspec": {
   "display_name": "base",
   "language": "python",
   "name": "python3"
  },
  "language_info": {
   "codemirror_mode": {
    "name": "ipython",
    "version": 3
   },
   "file_extension": ".py",
   "mimetype": "text/x-python",
   "name": "python",
   "nbconvert_exporter": "python",
   "pygments_lexer": "ipython3",
   "version": "3.8.5"
  }
 },
 "nbformat": 4,
 "nbformat_minor": 2
}

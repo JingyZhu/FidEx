{
 "cells": [
  {
   "cell_type": "code",
   "execution_count": 1,
   "metadata": {},
   "outputs": [],
   "source": [
    "%load_ext autoreload\n",
    "%autoreload 2"
   ]
  },
  {
   "cell_type": "code",
   "execution_count": 2,
   "metadata": {},
   "outputs": [],
   "source": [
    "import os\n",
    "import json\n",
    "import random"
   ]
  },
  {
   "cell_type": "code",
   "execution_count": 9,
   "metadata": {},
   "outputs": [
    {
     "name": "stdout",
     "output_type": "stream",
     "text": [
      "Before 4093\n",
      "After 3786\n"
     ]
    }
   ],
   "source": [
    "filter_list = ['twitter.com', 'facebook.com', 'instagram.com', 'flickr.com']\n",
    "\n",
    "eot_good_all = json.load(open('data/eot_good_all.json'))\n",
    "print(\"Before\", len(eot_good_all))\n",
    "eot_good_all = [e for e in eot_good_all if not any([f in e['live_url'] for f in filter_list])]\n",
    "print(\"After\", len(eot_good_all))\n",
    "eot_300 = random.sample(eot_good_all, 500)\n",
    "json.dump(eot_300, open('ground-truth/ground_truth_eot_500.json', 'w'), indent=2)"
   ]
  },
  {
   "cell_type": "markdown",
   "metadata": {},
   "source": [
    "### Merge determinism results"
   ]
  },
  {
   "cell_type": "code",
   "execution_count": 12,
   "metadata": {},
   "outputs": [
    {
     "name": "stdout",
     "output_type": "stream",
     "text": [
      "487\n"
     ]
    }
   ],
   "source": [
    "num = 8\n",
    "results = []\n",
    "for i in range(num):\n",
    "    data = json.load(open(f'ground-truth/determinism_results_{i}.json'))\n",
    "    results.extend(data)\n",
    "print(len(results))\n",
    "json.dump(results, open('ground-truth/determinism_results.json', 'w'), indent=2)"
   ]
  }
 ],
 "metadata": {
  "kernelspec": {
   "display_name": "base",
   "language": "python",
   "name": "python3"
  },
  "language_info": {
   "codemirror_mode": {
    "name": "ipython",
    "version": 3
   },
   "file_extension": ".py",
   "mimetype": "text/x-python",
   "name": "python",
   "nbconvert_exporter": "python",
   "pygments_lexer": "ipython3",
   "version": "3.8.5"
  }
 },
 "nbformat": 4,
 "nbformat_minor": 2
}

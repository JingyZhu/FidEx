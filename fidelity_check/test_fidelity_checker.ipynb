{
 "cells": [
  {
   "cell_type": "code",
   "execution_count": 2,
   "metadata": {},
   "outputs": [],
   "source": [
    "%load_ext autoreload\n",
    "%autoreload 2"
   ]
  },
  {
   "cell_type": "code",
   "execution_count": 3,
   "metadata": {},
   "outputs": [],
   "source": [
    "import json\n",
    "import pandas as pd\n",
    "import sys\n",
    "sys.path.append(\"../\")\n",
    "from utils import fidelity_check"
   ]
  },
  {
   "cell_type": "code",
   "execution_count": 4,
   "metadata": {},
   "outputs": [],
   "source": [
    "screenshot_similarity = json.load(open(\"../record_replay/screenshots/onload_screenshot_similarity.json\", 'r'))\n",
    "screenshot_similarity = {s['directory']: s['screenshot_similarity'] for s in screenshot_similarity for s in screenshot_similarity}"
   ]
  },
  {
   "cell_type": "code",
   "execution_count": 6,
   "metadata": {},
   "outputs": [],
   "source": [
    "def check_fidelity(dirr):\n",
    "    screenshot_simi = screenshot_similarity[dirr.split('/')[-1]]\n",
    "    live_html = open(f\"{dirr}/live.html\").read()\n",
    "    archive_html = open(f\"{dirr}/archive.html\").read()\n",
    "    live_element = json.load(open(f\"{dirr}/live_elements.json\"))\n",
    "    archive_element = json.load(open(f\"{dirr}/archive_elements.json\"))\n",
    "    my_fidelity = fidelity_check.verify(live_html, live_element, archive_html, archive_element)\n",
    "    print(screenshot_simi >= 1, my_fidelity)\n",
    "\n",
    "# check_fidelity('testcases/theftaz.azag.gov_1')"
   ]
  },
  {
   "cell_type": "markdown",
   "metadata": {},
   "source": [
    "## Check archive differences"
   ]
  },
  {
   "cell_type": "code",
   "execution_count": 26,
   "metadata": {},
   "outputs": [
    {
     "name": "stdout",
     "output_type": "stream",
     "text": [
      "archive:\n",
      "                 <a href=\"https://nimhd.nih.gov/disclaimer/\" title=\"External link\">\n",
      "                  <img src=\"https://nimhd.nih.gov/assets/img/exit-icon.png\" data-pin-nopin=\"true\" alt=\"\">\n",
      "\n",
      "archive:\n",
      "                   <a href=\"https://nimhd.nih.gov/disclaimer/\" title=\"External link\">\n",
      "                    <img src=\"https://nimhd.nih.gov/assets/img/exit-icon.png\" data-pin-nopin=\"true\" alt=\"\">\n",
      "\n",
      "archive:\n",
      "                   <a href=\"https://nimhd.nih.gov/disclaimer/\" title=\"External link\">\n",
      "                    <img src=\"https://nimhd.nih.gov/assets/img/exit-icon.png\" data-pin-nopin=\"true\" alt=\"X logo icon\">\n",
      "\n",
      "archive:\n",
      "                   <a href=\"https://nimhd.nih.gov/disclaimer/\" title=\"External link\">\n",
      "                    <img src=\"https://nimhd.nih.gov/assets/img/exit-icon.png\" data-pin-nopin=\"true\" alt=\"\">\n",
      "\n",
      "archive:\n",
      "                   <a href=\"https://nimhd.nih.gov/disclaimer/\" title=\"External link\">\n",
      "                    <img src=\"https://nimhd.nih.gov/assets/img/exit-icon.png\" data-pin-nopin=\"true\" alt=\"\">\n",
      "\n",
      "archive:\n",
      "                   <a href=\"https://nimhd.nih.gov/disclaimer/\" title=\"External link\">\n",
      "                    <img src=\"https://nimhd.nih.gov/assets/img/exit-icon.png\" data-pin-nopin=\"true\" alt=\"\">\n",
      "\n"
     ]
    }
   ],
   "source": [
    "dirr = 'testcases/nimhd.nih.gov_1'\n",
    "\n",
    "live_element = json.load(open(f\"{dirr}/live_elements.json\"))\n",
    "archive_element = json.load(open(f\"{dirr}/archive_elements.json\"))\n",
    "# fidelity_check.verify( live_element, archive_element)\n",
    "live_unique, archive_unique = fidelity_check.diff(live_element, archive_element)\n",
    "for i in live_unique:\n",
    "    print(\"live:\\n\", i)\n",
    "for i in archive_unique:\n",
    "    print(\"archive:\\n\", i)"
   ]
  }
 ],
 "metadata": {
  "kernelspec": {
   "display_name": "base",
   "language": "python",
   "name": "python3"
  },
  "language_info": {
   "codemirror_mode": {
    "name": "ipython",
    "version": 3
   },
   "file_extension": ".py",
   "mimetype": "text/x-python",
   "name": "python",
   "nbconvert_exporter": "python",
   "pygments_lexer": "ipython3",
   "version": "3.9.13"
  }
 },
 "nbformat": 4,
 "nbformat_minor": 2
}

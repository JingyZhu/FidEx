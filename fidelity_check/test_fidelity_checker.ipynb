{
 "cells": [
  {
   "cell_type": "code",
   "execution_count": 1,
   "metadata": {},
   "outputs": [],
   "source": [
    "%load_ext autoreload\n",
    "%autoreload 2"
   ]
  },
  {
   "cell_type": "code",
   "execution_count": 2,
   "metadata": {},
   "outputs": [],
   "source": [
    "import json\n",
    "import pandas as pd\n",
    "import sys\n",
    "sys.path.append(\"../\")\n",
    "from utils import fidelity_check"
   ]
  },
  {
   "cell_type": "code",
   "execution_count": 3,
   "metadata": {},
   "outputs": [],
   "source": [
    "screenshot_similarity = json.load(open(\"../record_replay/screenshots/onload_screenshot_similarity.json\", 'r'))\n",
    "screenshot_similarity = {s['directory']: s['screenshot_similarity'] for s in screenshot_similarity for s in screenshot_similarity}"
   ]
  },
  {
   "cell_type": "code",
   "execution_count": 25,
   "metadata": {},
   "outputs": [
    {
     "name": "stdout",
     "output_type": "stream",
     "text": [
      "False True\n"
     ]
    }
   ],
   "source": [
    "def check_fidelity(dirr):\n",
    "    screenshot_simi = screenshot_similarity[dirr.split('/')[-1]]\n",
    "    live_html = open(f\"{dirr}/live.html\").read()\n",
    "    archive_html = open(f\"{dirr}/archive.html\").read()\n",
    "    live_element = json.load(open(f\"{dirr}/live_elements.json\"))\n",
    "    archive_element = json.load(open(f\"{dirr}/archive_elements.json\"))\n",
    "    my_fidelity = fidelity_check.verify(live_html, live_element, archive_html, archive_element)\n",
    "    print(screenshot_simi >= 1, my_fidelity)\n",
    "\n",
    "check_fidelity('testcases/www.miwd.uscourts.gov_1')"
   ]
  }
 ],
 "metadata": {
  "kernelspec": {
   "display_name": "base",
   "language": "python",
   "name": "python3"
  },
  "language_info": {
   "codemirror_mode": {
    "name": "ipython",
    "version": 3
   },
   "file_extension": ".py",
   "mimetype": "text/x-python",
   "name": "python",
   "nbconvert_exporter": "python",
   "pygments_lexer": "ipython3",
   "version": "3.9.13"
  }
 },
 "nbformat": 4,
 "nbformat_minor": 2
}

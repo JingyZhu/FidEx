{
 "cells": [
  {
   "cell_type": "code",
   "execution_count": 5,
   "metadata": {},
   "outputs": [
    {
     "name": "stdout",
     "output_type": "stream",
     "text": [
      "The autoreload extension is already loaded. To reload it, use:\n",
      "  %reload_ext autoreload\n"
     ]
    }
   ],
   "source": [
    "%load_ext autoreload\n",
    "%autoreload 2"
   ]
  },
  {
   "cell_type": "code",
   "execution_count": 6,
   "metadata": {},
   "outputs": [],
   "source": [
    "import json\n",
    "import pandas as pd\n",
    "import os\n",
    "import sys\n",
    "import cv2\n",
    "sys.path.append('..')\n",
    "import difflib\n",
    "from fidelity_check import find_diff_writes"
   ]
  },
  {
   "cell_type": "code",
   "execution_count": 4,
   "metadata": {},
   "outputs": [],
   "source": [
    "screenshot_similarity = json.load(open(\"../record_replay/screenshots/onload_screenshot_similarity.json\", 'r'))\n",
    "screenshot_similarity = {s['directory']: s['screenshot_similarity'] for s in screenshot_similarity for s in screenshot_similarity}"
   ]
  },
  {
   "cell_type": "code",
   "execution_count": 6,
   "metadata": {},
   "outputs": [],
   "source": [
    "def check_fidelity(dirr):\n",
    "    screenshot_simi = screenshot_similarity[dirr.split('/')[-1]]\n",
    "    live_html = open(f\"{dirr}/live.html\").read()\n",
    "    archive_html = open(f\"{dirr}/archive.html\").read()\n",
    "    live_element = json.load(open(f\"{dirr}/live_elements.json\"))\n",
    "    archive_element = json.load(open(f\"{dirr}/archive_elements.json\"))\n",
    "    my_fidelity = fidelity_check.verify(live_html, live_element, archive_html, archive_element)\n",
    "    print(screenshot_simi >= 1, my_fidelity)\n",
    "\n",
    "# check_fidelity('testcases/theftaz.azag.gov_1')"
   ]
  },
  {
   "cell_type": "markdown",
   "metadata": {},
   "source": [
    "#### Test difflib"
   ]
  },
  {
   "cell_type": "code",
   "execution_count": 27,
   "metadata": {},
   "outputs": [
    {
     "name": "stdout",
     "output_type": "stream",
     "text": [
      "/a/b /a/b True\n"
     ]
    },
    {
     "data": {
      "text/plain": [
       "True"
      ]
     },
     "execution_count": 27,
     "metadata": {},
     "output_type": "execute_result"
    }
   ],
   "source": [
    "e1 = fidelity_check.htmlElement({'xpath': '/a/b', 'text': 'hello'})\n",
    "e2 = fidelity_check.htmlElement({'xpath': '/a/b', 'text': 'hello'})\n",
    "e1 == e2"
   ]
  },
  {
   "cell_type": "markdown",
   "metadata": {},
   "source": [
    "## Check archive differences"
   ]
  },
  {
   "cell_type": "code",
   "execution_count": 10,
   "metadata": {},
   "outputs": [
    {
     "name": "stdout",
     "output_type": "stream",
     "text": [
      "live_unique number [2, 1, 1, 1, 1, 1, 1, 1]\n",
      "archive_unique number [2, 1, 1, 1, 1, 1, 7, 1]\n",
      "8 8\n",
      "live:\n",
      " ['/html[1]/body[1]/div[2]/div[2]/section[1]/div[3]/div[3]/article[1]/div[1]/div[1]/div[1]/div[1]/div[1]/div[1]', '/html[1]/body[1]/div[2]/div[2]/section[1]/div[3]/div[3]/article[1]/div[1]/div[1]/div[1]/div[1]/div[1]/div[1]/picture[1]/img[1]']\n",
      "live:\n",
      " ['/html[1]/body[1]/div[2]/div[2]/section[1]/div[3]/div[3]/article[1]/div[1]/div[1]/div[5]/div[1]/div[1]/div[2]/div[1]/div[1]/div[1]/iframe[1]/html[1]/body[1]/div[1]/div[1]/a[1]/div[1]/div[2]/svg[1]/path[1]']\n",
      "live:\n",
      " ['/html[1]/body[1]/div[2]/div[2]/section[1]/div[3]/div[3]/article[1]/div[1]/div[1]/div[5]/div[1]/div[1]/div[2]/div[1]/div[1]/div[1]/iframe[1]/html[1]/body[1]/div[1]/div[1]/a[1]/div[1]/div[2]/svg[1]/use[1]']\n",
      "live:\n",
      " ['/html[1]/body[1]/div[2]/div[2]/section[1]/div[3]/div[3]/article[1]/div[1]/div[1]/div[5]/div[1]/div[1]/div[2]/div[1]/div[1]/div[1]/iframe[1]/html[1]/body[1]/div[1]/div[1]/div[3]/div[1]/div[1]']\n",
      "live:\n",
      " ['/html[1]/body[1]/div[2]/div[2]/section[1]/div[3]/div[3]/article[1]/div[1]/div[1]/div[5]/div[1]/div[1]/div[2]/div[1]/div[1]/div[1]/iframe[1]/html[1]/body[1]/div[1]/div[1]/div[4]']\n",
      "live:\n",
      " ['/html[1]/body[1]/div[2]/div[2]/section[1]/div[3]/div[3]/article[1]/div[1]/div[1]/div[9]/div[1]/div[1]/div[2]/div[1]/div[1]/div[1]/iframe[1]/html[1]/body[1]/div[1]/div[1]/a[1]/div[1]/div[2]/svg[1]/path[1]']\n",
      "live:\n",
      " ['/html[1]/body[1]/div[2]/div[2]/section[1]/div[3]/div[3]/article[1]/div[1]/div[1]/div[9]/div[1]/div[1]/div[2]/div[1]/div[1]/div[1]/iframe[1]/html[1]/body[1]/div[1]/div[1]/a[1]/div[1]/div[2]/svg[1]/use[1]']\n",
      "live:\n",
      " ['/html[1]/body[1]/div[2]/div[2]/section[1]/div[3]/div[3]/article[1]/div[1]/div[1]/div[9]/div[1]/div[1]/div[2]/div[1]/div[1]/div[1]/iframe[1]/html[1]/body[1]/div[1]/div[1]/div[4]']\n",
      "archive:\n",
      " ['/html[1]/body[1]/div[2]/div[2]/section[1]/div[3]/div[3]/article[1]/div[1]/div[1]/div[1]/div[1]/div[1]/div[1]', '/html[1]/body[1]/div[2]/div[2]/section[1]/div[3]/div[3]/article[1]/div[1]/div[1]/div[1]/div[1]/div[1]/div[1]/picture[1]/img[1]']\n",
      "archive:\n",
      " ['/html[1]/body[1]/div[2]/div[2]/section[1]/div[3]/div[3]/article[1]/div[1]/div[1]/div[5]/div[1]/div[1]/div[2]/div[1]/div[1]/div[1]/iframe[1]/html[1]/body[1]/div[1]/div[1]/a[1]/div[1]/div[2]/svg[1]/path[1]']\n",
      "archive:\n",
      " ['/html[1]/body[1]/div[2]/div[2]/section[1]/div[3]/div[3]/article[1]/div[1]/div[1]/div[5]/div[1]/div[1]/div[2]/div[1]/div[1]/div[1]/iframe[1]/html[1]/body[1]/div[1]/div[1]/a[1]/div[1]/div[2]/svg[1]/use[1]']\n",
      "archive:\n",
      " ['/html[1]/body[1]/div[2]/div[2]/section[1]/div[3]/div[3]/article[1]/div[1]/div[1]/div[5]/div[1]/div[1]/div[2]/div[1]/div[1]/div[1]/iframe[1]/html[1]/body[1]/div[1]/div[1]/div[4]']\n",
      "archive:\n",
      " ['/html[1]/body[1]/div[2]/div[2]/section[1]/div[3]/div[3]/article[1]/div[1]/div[1]/div[9]/div[1]/div[1]/div[2]/div[1]/div[1]/div[1]/iframe[1]/html[1]/body[1]/div[1]/div[1]/a[1]/div[1]/div[2]/svg[1]/path[1]']\n",
      "archive:\n",
      " ['/html[1]/body[1]/div[2]/div[2]/section[1]/div[3]/div[3]/article[1]/div[1]/div[1]/div[9]/div[1]/div[1]/div[2]/div[1]/div[1]/div[1]/iframe[1]/html[1]/body[1]/div[1]/div[1]/a[1]/div[1]/div[2]/svg[1]/use[1]']\n",
      "archive:\n",
      " ['/html[1]/body[1]/div[2]/div[2]/section[1]/div[3]/div[3]/article[1]/div[1]/div[1]/div[9]/div[1]/div[1]/div[2]/div[1]/div[1]/div[1]/iframe[1]/html[1]/body[1]/div[1]/div[1]/div[3]/div[4]/button[2]', '/html[1]/body[1]/div[2]/div[2]/section[1]/div[3]/div[3]/article[1]/div[1]/div[1]/div[9]/div[1]/div[1]/div[2]/div[1]/div[1]/div[1]/iframe[1]/html[1]/body[1]/div[1]/div[1]/div[3]/div[4]/button[2]/div[1]', '/html[1]/body[1]/div[2]/div[2]/section[1]/div[3]/div[3]/article[1]/div[1]/div[1]/div[9]/div[1]/div[1]/div[2]/div[1]/div[1]/div[1]/iframe[1]/html[1]/body[1]/div[1]/div[1]/div[3]/div[4]/button[2]/div[1]/svg[1]', '/html[1]/body[1]/div[2]/div[2]/section[1]/div[3]/div[3]/article[1]/div[1]/div[1]/div[9]/div[1]/div[1]/div[2]/div[1]/div[1]/div[1]/iframe[1]/html[1]/body[1]/div[1]/div[1]/div[3]/div[4]/button[2]/div[1]/svg[1]/path[1]', '/html[1]/body[1]/div[2]/div[2]/section[1]/div[3]/div[3]/article[1]/div[1]/div[1]/div[9]/div[1]/div[1]/div[2]/div[1]/div[1]/div[1]/iframe[1]/html[1]/body[1]/div[1]/div[1]/div[3]/div[4]/button[2]/div[1]/svg[1]/use[1]', '/html[1]/body[1]/div[2]/div[2]/section[1]/div[3]/div[3]/article[1]/div[1]/div[1]/div[9]/div[1]/div[1]/div[2]/div[1]/div[1]/div[1]/iframe[1]/html[1]/body[1]/div[1]/div[1]/div[3]/div[4]/button[2]/div[2]', '/html[1]/body[1]/div[2]/div[2]/section[1]/div[3]/div[3]/article[1]/div[1]/div[1]/div[9]/div[1]/div[1]/div[2]/div[1]/div[1]/div[1]/iframe[1]/html[1]/body[1]/div[1]/div[1]/div[3]/div[4]/button[2]/div[2]/#text[1]']\n",
      "archive:\n",
      " ['/html[1]/body[1]/div[2]/div[2]/section[1]/div[3]/div[3]/article[1]/div[1]/div[1]/div[9]/div[1]/div[1]/div[2]/div[1]/div[1]/div[1]/iframe[1]/html[1]/body[1]/div[1]/div[1]/div[4]']\n"
     ]
    }
   ],
   "source": [
    "dirr = 'testcases/www.slideshare.net_1'\n",
    "dirr = '../execution_match/examples/eta.lbl.gov_2'\n",
    "\n",
    "live_element = json.load(open(f\"{dirr}/live_elements.json\"))\n",
    "archive_element = json.load(open(f\"{dirr}/archive_elements.json\"))\n",
    "# fidelity_check.verify( live_element, archive_element)\n",
    "live_unique, archive_unique = fidelity_check.diff(live_element, archive_element, returnHTML=False)\n",
    "print(len(live_unique), len(archive_unique))\n",
    "for i in live_unique:\n",
    "    print(\"live:\\n\", i)\n",
    "for i in archive_unique:\n",
    "    print(\"archive:\\n\", i)"
   ]
  },
  {
   "cell_type": "code",
   "execution_count": 99,
   "metadata": {},
   "outputs": [
    {
     "name": "stdout",
     "output_type": "stream",
     "text": [
      "{\n",
      "    \"live\": [\n",
      "        {\n",
      "            \"root\": \"<div class=\\\"media media--blazy media--bundle--slideshow-carousel media--slick media--responsive media--image is-b-loaded\\\" style=\\\"\\\" tabindex=\\\"0\\\">\",\n",
      "            \"numlines\": 2\n",
      "        },\n",
      "        {\n",
      "            \"root\": \"<div class=\\\"ytp-title-channel\\\">\",\n",
      "            \"numlines\": 1\n",
      "        },\n",
      "        {\n",
      "            \"root\": \"<div class=\\\"ytp-title-channel\\\">\",\n",
      "            \"numlines\": 1\n",
      "        }\n",
      "    ],\n",
      "    \"archive\": [\n",
      "        {\n",
      "            \"root\": \"<div class=\\\"media media--blazy media--bundle--slideshow-carousel media--slick media--loading is-b-loading media--responsive media--image\\\" style=\\\"\\\" tabindex=\\\"0\\\">\",\n",
      "            \"numlines\": 2\n",
      "        },\n",
      "        {\n",
      "            \"root\": \"<button class=\\\"ytp-watch-later-button ytp-button ytp-show-watch-later-title\\\" data-tooltip-opaque=\\\"true\\\" title=\\\"Watch later\\\" aria-label=\\\"Watch later\\\">\",\n",
      "            \"numlines\": 7\n",
      "        }\n",
      "    ]\n",
      "}\n"
     ]
    }
   ],
   "source": [
    "# * Generate testcase\n",
    "diff = {\"live\": [], \"archive\": []}\n",
    "for lu in live_unique:\n",
    "    first_line = lu.strip().split('\\n')[0]\n",
    "    diff['live'].append({\"root\": first_line, \"numlines\": len(lu.strip().split('\\n'))})\n",
    "for au in archive_unique:\n",
    "    first_line = au.strip().split('\\n')[0]\n",
    "    diff['archive'].append({\"root\": first_line, \"numlines\": len(au.strip().split('\\n'))})\n",
    "print(json.dumps(diff, indent=4))"
   ]
  },
  {
   "cell_type": "markdown",
   "metadata": {},
   "source": [
    "### Check the assumption of archive's writes are always a subset of live"
   ]
  },
  {
   "cell_type": "code",
   "execution_count": 6,
   "metadata": {},
   "outputs": [
    {
     "name": "stdout",
     "output_type": "stream",
     "text": [
      "906 1\n",
      "528 3\n",
      "2 3\n",
      "2 0\n",
      "2 0\n",
      "2 0\n",
      "3 0\n",
      "27 0\n",
      "1 0\n",
      "1 0\n",
      "4 0\n",
      "1 0\n",
      "1 0\n",
      "4 6\n",
      "1 1\n",
      "24 72\n",
      "3 7\n",
      "1 4\n",
      "1 0\n",
      "3 0\n",
      "4 0\n",
      "34 7\n",
      "2 1\n",
      "1 2\n",
      "3 0\n",
      "37 1\n",
      "7 4\n",
      "1 1\n",
      "Total 86\n",
      "Number of different layout trees 41\n",
      "Number of archive's additional writes 28\n"
     ]
    }
   ],
   "source": [
    "dirs = os.listdir('../record_replay/writes')\n",
    "num_diff, num_diff_writes = 0, 0\n",
    "total = 0\n",
    "for dirr in dirs:\n",
    "    if not os.path.exists(f'../record_replay/writes/{dirr}/live_elements.json') or not os.path.exists(f'../record_replay/writes/{dirr}/archive_elements.json'):\n",
    "        continue\n",
    "    key_writes = find_diff_writes.locate_key_writes(f'../record_replay/writes/{dirr}')\n",
    "    live_additional = [len(w['key_related_writes']) for w in key_writes['live']]\n",
    "    archive_additional = [len(w['key_related_writes']) for w in key_writes['archive']]\n",
    "\n",
    "    total += 1\n",
    "    if len(live_additional) > 0 or len(archive_additional) > 0:\n",
    "        num_diff += 1\n",
    "    # if sum(archive_additional) > 0:\n",
    "    #     num_diff_writes += 1\n",
    "\n",
    "    ive_unique_elements, archive_unique_elements = find_diff_writes.find_diff_elements(f'../record_replay/writes/{dirr}')\n",
    "    diff_writes = find_diff_writes.collect_diff_writes(f'../record_replay/writes/{dirr}')\n",
    "    if len(diff_writes['archive']) > 0:\n",
    "        print(len(diff_writes['archive']), len(archive_unique_elements))\n",
    "        num_diff_writes += 1\n",
    "print(\"Total\", total)\n",
    "print(\"Number of different layout trees\", num_diff)\n",
    "print(\"Number of archive's additional writes\", num_diff_writes)"
   ]
  },
  {
   "cell_type": "markdown",
   "metadata": {},
   "source": [
    "### fidelity check on a set of loads"
   ]
  },
  {
   "cell_type": "code",
   "execution_count": 14,
   "metadata": {},
   "outputs": [],
   "source": [
    "def valid_dir(dirr):\n",
    "    valid = os.path.exists(f'{dirr}/live_elements.json') and os.path.exists(f'{dirr}/archive_elements.json')\n",
    "    return valid\n",
    "\n",
    "base = '../record_replay/writes'\n",
    "data = json.load(open(f'{base}/fidelity_check_metadata.json', 'r'))\n",
    "results = []\n",
    "for url, info in list(data.items()):\n",
    "    dirr = info['directory']\n",
    "    if not valid_dir(f\"{base}/{dirr}\"):\n",
    "        continue\n",
    "    issue, _ =  find_diff_writes.fidelity_issue(f\"{base}/{dirr}\")\n",
    "    issue_screenshot, simi = find_diff_writes.fidelity_issue_screenshot(f\"{base}/{dirr}\")\n",
    "    results.append({\n",
    "        'directory': dirr,\n",
    "        'issue': issue,\n",
    "        'issue_screenshot': issue_screenshot,\n",
    "        'screenshot_similarity': simi\n",
    "    })\n",
    "json.dump(results, open('fidelity_check.json', 'w+'), indent=2)"
   ]
  },
  {
   "cell_type": "code",
   "execution_count": 20,
   "metadata": {},
   "outputs": [
    {
     "name": "stdout",
     "output_type": "stream",
     "text": [
      "False [\n",
      "  [],\n",
      "  []\n",
      "]\n"
     ]
    }
   ],
   "source": [
    "dirr = 'its.ntia.gov_1'\n",
    "issue, diffs =  find_diff_writes.fidelity_issue(f\"{base}/{dirr}\")\n",
    "print(issue, json.dumps(diffs, indent=2))"
   ]
  }
 ],
 "metadata": {
  "kernelspec": {
   "display_name": "base",
   "language": "python",
   "name": "python3"
  },
  "language_info": {
   "codemirror_mode": {
    "name": "ipython",
    "version": 3
   },
   "file_extension": ".py",
   "mimetype": "text/x-python",
   "name": "python",
   "nbconvert_exporter": "python",
   "pygments_lexer": "ipython3",
   "version": "3.8.5"
  }
 },
 "nbformat": 4,
 "nbformat_minor": 2
}

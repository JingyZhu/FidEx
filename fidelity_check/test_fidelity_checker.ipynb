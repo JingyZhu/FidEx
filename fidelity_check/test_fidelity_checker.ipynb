{
 "cells": [
  {
   "cell_type": "code",
   "execution_count": 1,
   "metadata": {},
   "outputs": [],
   "source": [
    "%load_ext autoreload\n",
    "%autoreload 2"
   ]
  },
  {
   "cell_type": "code",
   "execution_count": 2,
   "metadata": {},
   "outputs": [],
   "source": [
    "import json\n",
    "import pandas as pd\n",
    "import os\n",
    "import sys\n",
    "import cv2\n",
    "sys.path.append('..')\n",
    "import difflib\n",
    "from fidelity_check import find_diff_writes"
   ]
  },
  {
   "cell_type": "code",
   "execution_count": 4,
   "metadata": {},
   "outputs": [],
   "source": [
    "screenshot_similarity = json.load(open(\"../record_replay/screenshots/onload_screenshot_similarity.json\", 'r'))\n",
    "screenshot_similarity = {s['directory']: s['screenshot_similarity'] for s in screenshot_similarity for s in screenshot_similarity}"
   ]
  },
  {
   "cell_type": "markdown",
   "metadata": {},
   "source": [
    "### Check the assumption of archive's writes are always a subset of live"
   ]
  },
  {
   "cell_type": "markdown",
   "metadata": {},
   "source": [
    "### Fidelity check"
   ]
  },
  {
   "cell_type": "code",
   "execution_count": 5,
   "metadata": {},
   "outputs": [
    {
     "data": {
      "text/plain": [
       "(True,\n",
       " ([['/html[1]/body[1]/form[1]/div[1]/div[2]/div[1]/div[2]/div[2]'],\n",
       "   ['/html[1]/body[1]/form[1]/div[1]/div[2]/div[1]/div[2]/div[3]'],\n",
       "   ['/html[1]/body[1]/form[1]/div[1]/div[2]/div[1]/div[2]/div[4]'],\n",
       "   ['/html[1]/body[1]/form[1]/div[1]/div[2]/div[1]/div[2]/div[5]'],\n",
       "   ['/html[1]/body[1]/form[1]/div[1]/div[2]/div[1]/div[2]/div[6]/div[2]/div[2]/table[1]/tbody[1]/tr[1]/td[1]/input[1]'],\n",
       "   ['/html[1]/body[1]/form[1]/div[1]/div[2]/div[1]/div[2]/div[6]/div[2]/div[2]/table[1]/tbody[1]/tr[1]/td[2]/div[1]/div[1]'],\n",
       "   ['/html[1]/body[1]/form[1]/div[1]/div[2]/div[1]/div[2]/div[6]/div[2]/div[2]/table[1]/tbody[1]/tr[1]/td[3]/input[1]'],\n",
       "   ['/html[1]/body[1]/form[1]/div[1]/div[2]/div[1]/div[2]/div[9]']],\n",
       "  [['/html[1]/body[1]/form[1]/div[1]/div[2]/div[1]/div[2]/div[2]'],\n",
       "   ['/html[1]/body[1]/form[1]/div[1]/div[2]/div[1]/div[2]/div[3]'],\n",
       "   ['/html[1]/body[1]/form[1]/div[1]/div[2]/div[1]/div[2]/div[4]'],\n",
       "   ['/html[1]/body[1]/form[1]/div[1]/div[2]/div[1]/div[2]/div[5]'],\n",
       "   ['/html[1]/body[1]/form[1]/div[1]/div[2]/div[1]/div[2]/div[6]/div[2]/div[2]/table[1]/tbody[1]/tr[1]/td[1]/input[1]'],\n",
       "   ['/html[1]/body[1]/form[1]/div[1]/div[2]/div[1]/div[2]/div[6]/div[2]/div[2]/table[1]/tbody[1]/tr[1]/td[2]/div[1]/div[1]'],\n",
       "   ['/html[1]/body[1]/form[1]/div[1]/div[2]/div[1]/div[2]/div[6]/div[2]/div[2]/table[1]/tbody[1]/tr[1]/td[3]/input[1]'],\n",
       "   ['/html[1]/body[1]/form[1]/div[1]/div[2]/div[1]/div[2]/div[9]']]))"
      ]
     },
     "execution_count": 5,
     "metadata": {},
     "output_type": "execute_result"
    }
   ],
   "source": [
    "dirr = '../revert_rewrite/writes/usps.com'\n",
    "left = 'initial'\n",
    "right = 'exception_SE'\n",
    "find_diff_writes.fidelity_issue(dirr, left, right)\n"
   ]
  },
  {
   "cell_type": "code",
   "execution_count": null,
   "metadata": {},
   "outputs": [],
   "source": [
    "dirs = os.listdir('../record_replay/writes')\n",
    "num_diff, num_diff_writes = 0, 0\n",
    "total = 0\n",
    "for dirr in dirs:\n",
    "    if not os.path.exists(f'../record_replay/writes/{dirr}/live_elements.json') or not os.path.exists(f'../record_replay/writes/{dirr}/archive_elements.json'):\n",
    "        continue\n",
    "    key_writes = find_diff_writes.locate_key_writes(f'../record_replay/writes/{dirr}')\n",
    "    live_additional = [len(w['key_related_writes']) for w in key_writes['live']]\n",
    "    archive_additional = [len(w['key_related_writes']) for w in key_writes['archive']]\n",
    "\n",
    "    total += 1\n",
    "    if len(live_additional) > 0 or len(archive_additional) > 0:\n",
    "        num_diff += 1\n",
    "    # if sum(archive_additional) > 0:\n",
    "    #     num_diff_writes += 1\n",
    "\n",
    "    ive_unique_elements, archive_unique_elements = find_diff_writes.find_diff_elements(f'../record_replay/writes/{dirr}')\n",
    "    diff_writes = find_diff_writes.collect_diff_writes(f'../record_replay/writes/{dirr}')\n",
    "    if len(diff_writes['archive']) > 0:\n",
    "        print(len(diff_writes['archive']), len(archive_unique_elements))\n",
    "        num_diff_writes += 1\n",
    "print(\"Total\", total)\n",
    "print(\"Number of different layout trees\", num_diff)\n",
    "print(\"Number of archive's additional writes\", num_diff_writes)"
   ]
  },
  {
   "cell_type": "markdown",
   "metadata": {},
   "source": [
    "### fidelity check on a set of loads"
   ]
  },
  {
   "cell_type": "code",
   "execution_count": 14,
   "metadata": {},
   "outputs": [],
   "source": [
    "def valid_dir(dirr):\n",
    "    valid = os.path.exists(f'{dirr}/live_elements.json') and os.path.exists(f'{dirr}/archive_elements.json')\n",
    "    return valid\n",
    "\n",
    "base = '../record_replay/writes'\n",
    "data = json.load(open(f'{base}/fidelity_check_metadata.json', 'r'))\n",
    "results = []\n",
    "for url, info in list(data.items()):\n",
    "    dirr = info['directory']\n",
    "    if not valid_dir(f\"{base}/{dirr}\"):\n",
    "        continue\n",
    "    issue, _ =  find_diff_writes.fidelity_issue(f\"{base}/{dirr}\")\n",
    "    issue_screenshot, simi = find_diff_writes.fidelity_issue_screenshot(f\"{base}/{dirr}\")\n",
    "    results.append({\n",
    "        'directory': dirr,\n",
    "        'issue': issue,\n",
    "        'issue_screenshot': issue_screenshot,\n",
    "        'screenshot_similarity': simi\n",
    "    })\n",
    "json.dump(results, open('fidelity_check.json', 'w+'), indent=2)"
   ]
  }
 ],
 "metadata": {
  "kernelspec": {
   "display_name": "base",
   "language": "python",
   "name": "python3"
  },
  "language_info": {
   "codemirror_mode": {
    "name": "ipython",
    "version": 3
   },
   "file_extension": ".py",
   "mimetype": "text/x-python",
   "name": "python",
   "nbconvert_exporter": "python",
   "pygments_lexer": "ipython3",
   "version": "3.9.13"
  }
 },
 "nbformat": 4,
 "nbformat_minor": 2
}

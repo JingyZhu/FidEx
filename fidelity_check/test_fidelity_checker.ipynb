{
 "cells": [
  {
   "cell_type": "code",
   "execution_count": 1,
   "metadata": {},
   "outputs": [],
   "source": [
    "%load_ext autoreload\n",
    "%autoreload 2"
   ]
  },
  {
   "cell_type": "code",
   "execution_count": 5,
   "metadata": {},
   "outputs": [],
   "source": [
    "import json\n",
    "import pandas as pd\n",
    "import os\n",
    "import sys\n",
    "import cv2\n",
    "import numpy as np\n",
    "sys.path.append('..')\n",
    "import matplotlib.pyplot as plt\n",
    "from utils import plotly_utils\n",
    "from fidelity_check import fidelity_detect, check_utils\n",
    "import copy\n",
    "\n",
    "MAX_BR = 5\n",
    "\n",
    "def compare_screenshot(live_img, archive_img):\n",
    "    if not os.path.exists(live_img) or not os.path.exists(archive_img):\n",
    "        return -1\n",
    "    img1 = cv2.imread(live_img)\n",
    "    img2 = cv2.imread(archive_img)\n",
    "    height = min(img1.shape[0], img2.shape[0])\n",
    "    width = min([img1.shape[1], img2.shape[1]])\n",
    "    img1 = img1[:height,:width,:]\n",
    "    img2 = img2[:height,:width,:]\n",
    "    diff = img1 - img2\n",
    "    total = img1.shape[0]*img1.shape[1]*img1.shape[2]\n",
    "    same = np.count_nonzero(diff == 0)\n",
    "    return same / total, diff"
   ]
  },
  {
   "cell_type": "markdown",
   "metadata": {},
   "source": [
    "### Check the assumption of archive's writes are always a subset of live"
   ]
  },
  {
   "cell_type": "markdown",
   "metadata": {},
   "source": [
    "### Fidelity check"
   ]
  },
  {
   "cell_type": "code",
   "execution_count": 12,
   "metadata": {},
   "outputs": [
    {
     "name": "stdout",
     "output_type": "stream",
     "text": [
      "stage load\n",
      "fixedIdx 0_3\n",
      "Elements length 780 469\n",
      "Writes length 669 670\n",
      "False\n",
      "[]\n",
      "[]\n"
     ]
    }
   ],
   "source": [
    "dirr = '../revert_rewrite/writes_carta_check_test/www.mnglassart.org_1063_3_a173c01bea4eb8aa94af54334f5b89af13f8d20b3d460a6cfcc439ddd5786766'\n",
    "# dirr = '../revert_rewrite/test/load_override/writes/test'\n",
    "results = json.load(open(os.path.join(dirr, 'results.json'), 'r'))\n",
    "stage, fixedIdx = None, None\n",
    "for stage, result in results.items():\n",
    "    if result['fixedIdx'] == -1:\n",
    "        continue\n",
    "    fixedIdx = result['fixedIdx']\n",
    "    break\n",
    "# stage = 'interaction_2'\n",
    "# result = results[stage]\n",
    "# fixedIdx = result['fixedIdx']\n",
    "print(\"stage\", stage)\n",
    "print(\"fixedIdx\", fixedIdx)\n",
    "left = f'{stage}_initial'\n",
    "right = f'{stage}_exception_{fixedIdx}'\n",
    "print(\"Elements length\", len(json.load(open(os.path.join(dirr, f'{left}_elements.json')))), len(json.load(open(os.path.join(dirr, f'{right}_elements.json')))))\n",
    "print(\"Writes length\", len(json.load(open(os.path.join(dirr, f'{left}_writes.json')))['rawWrites']), \n",
    "                        len(json.load(open(os.path.join(dirr, f'{right}_writes.json')))['rawWrites']))\n",
    "issue, (left_u, right_u) = fidelity_detect.fidelity_issue(dirr, left, right)\n",
    "print(issue)\n",
    "json_left_u = copy.deepcopy(left_u)\n",
    "for i in range(len(json_left_u)):\n",
    "    json_left_u[i] = json_left_u[i][:MAX_BR] + ['...'] if len(json_left_u[i]) > MAX_BR else json_left_u[i]\n",
    "json_right_u = copy.deepcopy(right_u)\n",
    "for i in range(len(json_right_u)):\n",
    "    json_right_u[i] = json_right_u[i][:MAX_BR] + ['...'] if len(json_right_u[i]) > MAX_BR else json_right_u[i]\n",
    "print(json.dumps(json_left_u, indent=2))\n",
    "print(json.dumps(json_right_u, indent=2))"
   ]
  },
  {
   "cell_type": "markdown",
   "metadata": {},
   "source": [
    "### Screenshot similarity (on results)"
   ]
  },
  {
   "cell_type": "code",
   "execution_count": null,
   "metadata": {},
   "outputs": [],
   "source": [
    "# dirr = '../revert_rewrite/writes_carta_check_test/www.mnglassart.org_1063_3_a173c01bea4eb8aa94af54334f5b89af13f8d20b3d460a6cfcc439ddd5786766'\n",
    "dirr = '../datacollect/ground-truth/determinism/www.dreamhost.com_d45c43ce8b'\n",
    "\n",
    "results = json.load(open(os.path.join(dirr, 'results.json'), 'r'))\n",
    "stage, fixedIdx = None, None\n",
    "for stage, result in results.items():\n",
    "    if result['fixedIdx'] == -1:\n",
    "        continue\n",
    "    fixedIdx = result['fixedIdx']\n",
    "    break\n",
    "\n",
    "left = f'{dirr}/{stage}_initial.png'\n",
    "right = f'{dirr}/{stage}_exception_{fixedIdx}.png'\n",
    "\n",
    "print(left)\n",
    "print(right)\n",
    "\n",
    "simi, diff = compare_screenshot(left, right)\n",
    "print(simi)\n",
    "cv2.imwrite(os.path.join(dirr, 'diff.png'), diff)"
   ]
  },
  {
   "cell_type": "markdown",
   "metadata": {},
   "source": [
    "### Pure screenshot cmp"
   ]
  },
  {
   "cell_type": "code",
   "execution_count": 29,
   "metadata": {},
   "outputs": [
    {
     "name": "stdout",
     "output_type": "stream",
     "text": [
      "0.9999387292892233\n"
     ]
    },
    {
     "data": {
      "text/plain": [
       "True"
      ]
     },
     "execution_count": 29,
     "metadata": {},
     "output_type": "execute_result"
    }
   ],
   "source": [
    "dirr = '../../fidelity-files/writes/gt_tranco/yapolitic.ru_18031db01e'\n",
    "left = 'live.png'\n",
    "right = 'proxy.png'\n",
    "\n",
    "simi, diff = compare_screenshot(os.path.join(dirr, left), os.path.join(dirr, right))\n",
    "print(simi)\n",
    "cv2.imwrite(os.path.join(dirr, 'diff.png'), diff)"
   ]
  },
  {
   "cell_type": "markdown",
   "metadata": {},
   "source": [
    "### Pure layout tree cmp"
   ]
  },
  {
   "cell_type": "code",
   "execution_count": 28,
   "metadata": {},
   "outputs": [
    {
     "name": "stdout",
     "output_type": "stream",
     "text": [
      "[\n",
      "  [],\n",
      "  []\n",
      "]\n"
     ]
    }
   ],
   "source": [
    "dirr = '../../fidelity-files/writes/gt_tranco/yapolitic.ru_18031db01e'\n",
    "left = 'live_elements.json'\n",
    "right = 'proxy_elements.json'\n",
    "\n",
    "left_element = json.load(open(f\"{dirr}/{left}\"))\n",
    "right_element = json.load(open(f\"{dirr}/{right}\"))\n",
    "left_element, right_element = fidelity_detect.dedeup_elements(left_element), fidelity_detect.dedeup_elements(right_element)\n",
    "left_unique, right_unique = check_utils.diff(left_element, right_element, returnHTML=False)\n",
    "print(json.dumps((left_unique, right_unique), indent=2))"
   ]
  },
  {
   "cell_type": "markdown",
   "metadata": {},
   "source": [
    "### Diff writes"
   ]
  },
  {
   "cell_type": "code",
   "execution_count": 30,
   "metadata": {},
   "outputs": [
    {
     "name": "stdout",
     "output_type": "stream",
     "text": [
      "Length of writes 42 43\n"
     ]
    },
    {
     "data": {
      "text/plain": [
       "([('head', 'script', 'appendChild'),\n",
       "  ('head', 'style', 'insertBefore'),\n",
       "  ('div', 'div', 'removeChild')],\n",
       " [('head', 'link', 'appendChild'),\n",
       "  ('div', 'div', 'appendChild'),\n",
       "  ('n.length;s++)o=n', 'iframe', '#text', 'insertBefore')])"
      ]
     },
     "execution_count": 30,
     "metadata": {},
     "output_type": "execute_result"
    }
   ],
   "source": [
    "dirr = '../revert_rewrite/writes/www.nytimes.com_1073_3_aebb2a70fcc39ea0202fcedcc6e8c81852149174e479d139da024d11887cf02b'\n",
    "# dirr = '../revert_rewrite/test/load_override/writes/grunt.ca'\n",
    "stage = 'load'\n",
    "idx = '0_2'\n",
    "attribute = 'rawWrites'\n",
    "left_writes = json.load(open(os.path.join(dirr, f'{stage}_initial_writes.json')))\n",
    "right_writes = json.load(open(os.path.join(dirr, f'{stage}_exception_{idx}_writes.json')))\n",
    "print(\"Length of writes\", len(left_writes[attribute]), len(right_writes[attribute]))\n",
    "left_unique, right_unique = check_utils.diff_writes(left_writes, right_writes, attribute=attribute)\n",
    "# len(left_unique), len(right_unique)\n",
    "list(left_unique.keys()), list(right_unique.keys())"
   ]
  },
  {
   "cell_type": "code",
   "execution_count": null,
   "metadata": {},
   "outputs": [],
   "source": [
    "fixed = json.load(open('../revert_rewrite/fixed_count.json'))\n",
    "attribute = 'rawWrites'\n",
    "for dirr, stage in fixed.items():\n",
    "    print(dirr, stage)\n",
    "    all_dirr = f'../revert_rewrite/writes/{dirr}'\n",
    "    result = json.load(open(os.path.join(all_dirr, 'results.json'), 'r'))[stage]\n",
    "    idx = result['fixedIdx']\n",
    "    left_writes = json.load(open(os.path.join(all_dirr, f'{stage}_initial_writes.json')))\n",
    "    right_writes = json.load(open(os.path.join(all_dirr, f'{stage}_exception_{idx}_writes.json')))\n",
    "    left_unique, right_unique = check_utils.diff_writes(left_writes, right_writes, attribute=attribute)\n",
    "    print(len(left_unique), len(right_unique))"
   ]
  },
  {
   "cell_type": "markdown",
   "metadata": {},
   "source": [
    "### fidelity check on a set of loads"
   ]
  },
  {
   "cell_type": "code",
   "execution_count": 14,
   "metadata": {},
   "outputs": [],
   "source": [
    "def valid_dir(dirr):\n",
    "    valid = os.path.exists(f'{dirr}/live_elements.json') and os.path.exists(f'{dirr}/archive_elements.json')\n",
    "    return valid\n",
    "\n",
    "base = '../record_replay/writes'\n",
    "data = json.load(open(f'{base}/fidelity_check_metadata.json', 'r'))\n",
    "results = []\n",
    "for url, info in list(data.items()):\n",
    "    dirr = info['directory']\n",
    "    if not valid_dir(f\"{base}/{dirr}\"):\n",
    "        continue\n",
    "    issue, _ =  fidelity_detect.fidelity_issue(f\"{base}/{dirr}\")\n",
    "    issue_screenshot, simi = fidelity_detect.fidelity_issue_screenshot(f\"{base}/{dirr}\")\n",
    "    results.append({\n",
    "        'directory': dirr,\n",
    "        'issue': issue,\n",
    "        'issue_screenshot': issue_screenshot,\n",
    "        'screenshot_similarity': simi\n",
    "    })\n",
    "json.dump(results, open('fidelity_check.json', 'w+'), indent=2)"
   ]
  },
  {
   "cell_type": "markdown",
   "metadata": {},
   "source": [
    "### fidelity check (single)"
   ]
  },
  {
   "cell_type": "code",
   "execution_count": 39,
   "metadata": {},
   "outputs": [
    {
     "name": "stdout",
     "output_type": "stream",
     "text": [
      "False\n",
      "[]\n",
      "[]\n"
     ]
    }
   ],
   "source": [
    "base = '/vault-swift/jingyz/fidelity-files/writes/ground_truth/'\n",
    "dirr = 'dceoapps.ildceo.net_91c212044d'\n",
    "issue, (left_u, right_u) = fidelity_detect.fidelity_issue(os.path.join(base, dirr), 'live', 'archive', meaningful=True)\n",
    "print(issue)\n",
    "print(json.dumps(left_u, indent=2))\n",
    "print(json.dumps(right_u, indent=2))"
   ]
  },
  {
   "cell_type": "markdown",
   "metadata": {},
   "source": [
    "### Compare my impact score vs screenshot"
   ]
  },
  {
   "cell_type": "code",
   "execution_count": null,
   "metadata": {},
   "outputs": [],
   "source": [
    "impacts = json.load(open('fidelity_impact.json', 'r'))\n",
    "imports_gt = json.load(open('fidelity_impact_gt.json', 'r'))\n",
    "d = {'ground_truth': [r['impact'] for r in imports_gt], 'detection': [r['impact'] for r in impacts]}\n",
    "df = pd.DataFrame({k: pd.Series(v) for k, v in d.items()})\n",
    "plotly_utils.plot_CDF_log(df, xtitle='Impact score (No. pixels)')\n",
    "    "
   ]
  },
  {
   "cell_type": "markdown",
   "metadata": {},
   "source": [
    "### Heatmap"
   ]
  },
  {
   "cell_type": "code",
   "execution_count": null,
   "metadata": {},
   "outputs": [],
   "source": [
    "array = np.load('fidelity_impact_heatmap_gt.npy')\n",
    "plotly_utils.plot_heatmap(array, 'Fidelity impact heatmap (Ground truth)')\n",
    "\n",
    "array = np.load('fidelity_impact_heatmap.npy')\n",
    "plotly_utils.plot_heatmap(array, 'Fidelity impact heatmap (Detection)')"
   ]
  }
 ],
 "metadata": {
  "kernelspec": {
   "display_name": "base",
   "language": "python",
   "name": "python3"
  },
  "language_info": {
   "codemirror_mode": {
    "name": "ipython",
    "version": 3
   },
   "file_extension": ".py",
   "mimetype": "text/x-python",
   "name": "python",
   "nbconvert_exporter": "python",
   "pygments_lexer": "ipython3",
   "version": "3.8.5"
  }
 },
 "nbformat": 4,
 "nbformat_minor": 2
}

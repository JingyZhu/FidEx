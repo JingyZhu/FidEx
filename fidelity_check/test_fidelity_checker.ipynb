{
 "cells": [
  {
   "cell_type": "code",
   "execution_count": 1,
   "metadata": {},
   "outputs": [],
   "source": [
    "%load_ext autoreload\n",
    "%autoreload 2"
   ]
  },
  {
   "cell_type": "code",
   "execution_count": 2,
   "metadata": {},
   "outputs": [],
   "source": [
    "import json\n",
    "import pandas as pd\n",
    "import sys\n",
    "import difflib\n",
    "sys.path.append(\"../\")\n",
    "from utils import fidelity_check"
   ]
  },
  {
   "cell_type": "code",
   "execution_count": 3,
   "metadata": {},
   "outputs": [],
   "source": [
    "screenshot_similarity = json.load(open(\"../record_replay/screenshots/onload_screenshot_similarity.json\", 'r'))\n",
    "screenshot_similarity = {s['directory']: s['screenshot_similarity'] for s in screenshot_similarity for s in screenshot_similarity}"
   ]
  },
  {
   "cell_type": "code",
   "execution_count": 6,
   "metadata": {},
   "outputs": [],
   "source": [
    "def check_fidelity(dirr):\n",
    "    screenshot_simi = screenshot_similarity[dirr.split('/')[-1]]\n",
    "    live_html = open(f\"{dirr}/live.html\").read()\n",
    "    archive_html = open(f\"{dirr}/archive.html\").read()\n",
    "    live_element = json.load(open(f\"{dirr}/live_elements.json\"))\n",
    "    archive_element = json.load(open(f\"{dirr}/archive_elements.json\"))\n",
    "    my_fidelity = fidelity_check.verify(live_html, live_element, archive_html, archive_element)\n",
    "    print(screenshot_simi >= 1, my_fidelity)\n",
    "\n",
    "# check_fidelity('testcases/theftaz.azag.gov_1')"
   ]
  },
  {
   "cell_type": "markdown",
   "metadata": {},
   "source": [
    "#### Test difflib"
   ]
  },
  {
   "cell_type": "code",
   "execution_count": 27,
   "metadata": {},
   "outputs": [
    {
     "name": "stdout",
     "output_type": "stream",
     "text": [
      "/a/b /a/b True\n"
     ]
    },
    {
     "data": {
      "text/plain": [
       "True"
      ]
     },
     "execution_count": 27,
     "metadata": {},
     "output_type": "execute_result"
    }
   ],
   "source": [
    "e1 = fidelity_check.htmlElement({'xpath': '/a/b', 'text': 'hello'})\n",
    "e2 = fidelity_check.htmlElement({'xpath': '/a/b', 'text': 'hello'})\n",
    "e1 == e2"
   ]
  },
  {
   "cell_type": "markdown",
   "metadata": {},
   "source": [
    "## Check archive differences"
   ]
  },
  {
   "cell_type": "code",
   "execution_count": 4,
   "metadata": {},
   "outputs": [
    {
     "name": "stdout",
     "output_type": "stream",
     "text": [
      "live_unique number [47]\n",
      "archive_unique number [36]\n",
      "1 1\n",
      "live:\n",
      "             <div class=\"shelf--slider\" role=\"toolbar\">\n",
      "              <ul class=\"js-dynamic-mediaslider cf slick-initialized slick-slider js-slider-initialized\" data-slider-items=\"1|3|5\">\n",
      "                <button type=\"button\" data-role=\"none\" class=\"slick-next slick-arrow\" aria-label=\"Next\" role=\"button\" aria-disabled=\"false\">\n",
      "                  Next\n",
      "                <div aria-live=\"polite\" class=\"slick-list draggable\">\n",
      "                  <div class=\"slick-track\" style=\"opacity: 1; width: 2200px; left: 0px;\" role=\"listbox\">\n",
      "                    <li class=\"js-slider-item slick-slide\" data-slick-index=\"9\" aria-hidden=\"true\" style=\"width: 205px;\" tabindex=\"-1\" role=\"option\" aria-describedby=\"slick-slide29\">\n",
      "                        <a href=\"https://www.nato.int/cps/en/natohq/115204.htm\" title=\"NATO-Russia: setting the record straight\" tabindex=\"-1\">\n",
      "                          <a href=\"https://www.nato.int/cps/en/natohq/115204.htm\" title=\"NATO-Russia: setting the record straight\" tabindex=\"-1\">\n",
      "                            \n",
      "                            \n",
      "                    NATO-Russia: setting the record straight\n",
      "                \n",
      "                            \n",
      "                \n",
      "                    \n",
      "                        19 Jan. 2022\n",
      "                    \n",
      "                            \n",
      "                \n",
      "                    <li class=\"js-slider-item slick-slide slick-current slick-active\" data-slick-index=\"0\" aria-hidden=\"false\" style=\"width: 205px;\" tabindex=\"-1\" role=\"option\" aria-describedby=\"slick-slide20\">\n",
      "                        <a href=\"https://www.nato.int/cps/en/natohq/photos_221148.htm\" title=\"Precision in the Skies: Flight Operations on the USS Gerald R. Ford\" tabindex=\"0\">\n",
      "                          <img src=\"https://www.nato.int/nato_static_fl2014/assets/pictures/images_mfu/2023/12/12b-USS-Ford/231212b-001_rdax_375x213s.jpg\" alt=\"Precision in the Skies: Flight Operations on the USS Gerald R. Ford\" title=\"Precision in the Skies: Flight Operations on the USS Gerald R. Ford\" style=\"opacity: 1;\">\n",
      "                          <a href=\"https://www.nato.int/cps/en/natohq/photos_221148.htm\" title=\"Precision in the Skies: Flight Operations on the USS Gerald R. Ford\" tabindex=\"0\">\n",
      "                    <li class=\"js-slider-item slick-slide slick-active\" data-slick-index=\"1\" aria-hidden=\"false\" style=\"width: 205px;\" tabindex=\"-1\" role=\"option\" aria-describedby=\"slick-slide21\">\n",
      "                        <img data-video-id=\"A_UNmbjeK7o\" src=\"https://i.ytimg.com/vi/A_UNmbjeK7o/mqdefault.jpg\" alt=\"Protecting Allied critical undersea infrastructure\" data-lazy=\"https://i.ytimg.com/vi/A_UNmbjeK7o/mqdefault.jpg\">\n",
      "                          <a href=\"https://youtu.be/A_UNmbjeK7o\" target=\"_blank\" title=\"Protecting Allied critical undersea infrastructure\" tabindex=\"0\">\n",
      "                    <li class=\"js-slider-item slick-slide slick-active\" data-slick-index=\"2\" aria-hidden=\"false\" style=\"width: 205px;\" tabindex=\"-1\" role=\"option\" aria-describedby=\"slick-slide22\">\n",
      "                        <a href=\"https://www.nato.int/cps/en/natohq/news_220955.htm\" title=\"Ice Ice Navy – Patrolling Greenland on Denmark’s HDMS Triton\" tabindex=\"0\">\n",
      "                          <img src=\"https://www.nato.int/nato_static_fl2014/assets/pictures/images_mfu/2023/11/stock/231130-patrolling-greenland_rdax_375x211s.jpg\" alt=\"Ice Ice Navy – Patrolling Greenland on Denmark’s HDMS Triton\" title=\"Ice Ice Navy – Patrolling Greenland on Denmark’s HDMS Triton\" style=\"opacity: 1;\">\n",
      "                          <a href=\"https://www.nato.int/cps/en/natohq/news_220955.htm\" title=\"Ice Ice Navy – Patrolling Greenland on Denmark’s HDMS Triton\" tabindex=\"0\">\n",
      "                    <li class=\"js-slider-item slick-slide slick-active\" data-slick-index=\"3\" aria-hidden=\"false\" style=\"width: 205px;\" tabindex=\"-1\" role=\"option\" aria-describedby=\"slick-slide23\">\n",
      "                        <a href=\"https://www.nato.int/cps/en/natohq/photos_220706.htm\" title=\"NATO multinational battlegroup Hungary on the move\" tabindex=\"0\">\n",
      "                          <img src=\"https://www.nato.int/nato_static_fl2014/assets/pictures/images_mfu/2023/11/27b-exercise-hussar/231127b-001_rdax_375x213s.jpg\" alt=\"NATO multinational battlegroup Hungary on the move\" title=\"NATO multinational battlegroup Hungary on the move\" style=\"opacity: 1;\">\n",
      "                          <a href=\"https://www.nato.int/cps/en/natohq/photos_220706.htm\" title=\"NATO multinational battlegroup Hungary on the move\" tabindex=\"0\">\n",
      "                    <li class=\"js-slider-item slick-slide slick-active\" data-slick-index=\"4\" aria-hidden=\"false\" style=\"width: 205px;\" tabindex=\"-1\" role=\"option\" aria-describedby=\"slick-slide24\">\n",
      "                        <a href=\"https://www.nato.int/cps/en/natohq/news_220573.htm\" title=\"With an ace up its sleeve – the US Army designs a deck of cards to help tell friends from foes\" tabindex=\"0\">\n",
      "                          <img src=\"https://www.nato.int/nato_static_fl2014/assets/pictures/images_mfu/2023/11/stock/231123-cards-001_rdax_375x213p.jpg\" alt=\"With an ace up its sleeve – the US Army designs a deck of cards to help tell friends from foes\" title=\"With an ace up its sleeve – the US Army designs a deck of cards to help tell friends from foes\" style=\"opacity: 1;\">\n",
      "                          <a href=\"https://www.nato.int/cps/en/natohq/news_220573.htm\" title=\"With an ace up its sleeve – the US Army designs a deck of cards to help tell friends from foes\" tabindex=\"0\">\n",
      "                    <li class=\"js-slider-item slick-slide\" data-slick-index=\"5\" aria-hidden=\"true\" style=\"width: 205px;\" tabindex=\"-1\" role=\"option\" aria-describedby=\"slick-slide25\">\n",
      "                        <a href=\"https://www.nato.int/cps/en/natohq/photos_221046.htm\" title=\"NATO’s multinational battlegroup in Lithuania gets dirty for Czech obstacle course\" tabindex=\"-1\">\n",
      "                          <a href=\"https://www.nato.int/cps/en/natohq/photos_221046.htm\" title=\"NATO’s multinational battlegroup in Lithuania gets dirty for Czech obstacle course\" tabindex=\"-1\">\n",
      "                    <li class=\"js-slider-item slick-slide\" data-slick-index=\"6\" aria-hidden=\"true\" style=\"width: 205px;\" tabindex=\"-1\" role=\"option\" aria-describedby=\"slick-slide26\">\n",
      "                        <a href=\"https://www.nato.int/cps/en/natohq/topics_192648.htm\" title=\"NATO's response to Russia's invasion of Ukraine\" tabindex=\"-1\">\n",
      "                          <a href=\"https://www.nato.int/cps/en/natohq/topics_192648.htm\" title=\"NATO's response to Russia's invasion of Ukraine\" tabindex=\"-1\">\n",
      "                    <li class=\"js-slider-item slick-slide\" data-slick-index=\"7\" aria-hidden=\"true\" style=\"width: 205px;\" tabindex=\"-1\" role=\"option\" aria-describedby=\"slick-slide27\">\n",
      "                        <img data-video-id=\"RuxM0j-et-s\" src=\"https://i.ytimg.com/vi/RuxM0j-et-s/mqdefault.jpg\" alt=\"The European Union: a unique and essential partner for NATO\" data-lazy=\"https://i.ytimg.com/vi/RuxM0j-et-s/mqdefault.jpg\">\n",
      "                          <a href=\"https://youtu.be/RuxM0j-et-s\" target=\"_blank\" title=\"The European Union: a unique and essential partner for NATO\" tabindex=\"-1\">\n",
      "                    <li class=\"js-slider-item slick-slide\" data-slick-index=\"8\" aria-hidden=\"true\" style=\"width: 205px;\" tabindex=\"-1\" role=\"option\" aria-describedby=\"slick-slide28\">\n",
      "                        <img data-video-id=\"Nn7ojLa8WvE\" src=\"https://i.ytimg.com/vi/Nn7ojLa8WvE/mqdefault.jpg\" alt=\"Finland's impact on NATO\" data-lazy=\"https://i.ytimg.com/vi/Nn7ojLa8WvE/mqdefault.jpg\">\n",
      "                          <a href=\"https://www.youtube.com/watch?v=Nn7ojLa8WvE\" target=\"_blank\" title=\"Finland's impact on NATO\" tabindex=\"-1\">\n",
      "                <ul class=\"slick-dots\">\n",
      "                  <li class=\"slick-active\" aria-hidden=\"false\">\n",
      "                    <button type=\"button\" data-role=\"none\" role=\"button\" aria-required=\"false\" tabindex=\"0\">\n",
      "                  <li aria-hidden=\"true\">\n",
      "                    <button type=\"button\" data-role=\"none\" role=\"button\" aria-required=\"false\" tabindex=\"0\">\n",
      "\n",
      "archive:\n",
      "             <div class=\"shelf--slider\">\n",
      "              <ul class=\"js-dynamic-mediaslider cf\" data-slider-items=\"1|3|5\">\n",
      "                <li class=\"js-slider-item\">\n",
      "                    <a href=\"https://www.nato.int/cps/en/natohq/115204.htm\" title=\"NATO-Russia: setting the record straight\">\n",
      "                      <a href=\"https://www.nato.int/cps/en/natohq/115204.htm\" title=\"NATO-Russia: setting the record straight\">\n",
      "                <li class=\"js-slider-item\">\n",
      "                    <a href=\"https://www.nato.int/cps/en/natohq/photos_221148.htm\" title=\"Precision in the Skies: Flight Operations on the USS Gerald R. Ford\">\n",
      "                      <img src=\"https://www.nato.int/nato_static_fl2014/assets/pictures/graphics_video/20110401_tv.jpg\" data-lazy=\"/nato_static_fl2014/assets/pictures/images_mfu/2023/12/12b-USS-Ford/231212b-001_rdax_375x213s.jpg\" alt=\"Precision in the Skies: Flight Operations on the USS Gerald R. Ford\" title=\"Precision in the Skies: Flight Operations on the USS Gerald R. Ford\">\n",
      "                      <a href=\"https://www.nato.int/cps/en/natohq/photos_221148.htm\" title=\"Precision in the Skies: Flight Operations on the USS Gerald R. Ford\">\n",
      "                <li class=\"js-slider-item\">\n",
      "                    <img data-video-id=\"A_UNmbjeK7o\" src=\"https://www.nato.int/nato_static_fl2014/assets/pictures/graphics_video/20110401_tv.jpg\" alt=\"Protecting Allied critical undersea infrastructure\">\n",
      "                      <a href=\"https://youtu.be/A_UNmbjeK7o\" target=\"_blank\" title=\"Protecting Allied critical undersea infrastructure\">\n",
      "                <li class=\"js-slider-item\">\n",
      "                    <a href=\"https://www.nato.int/cps/en/natohq/news_220955.htm\" title=\"Ice Ice Navy – Patrolling Greenland on Denmark’s HDMS Triton\">\n",
      "                      <img src=\"https://www.nato.int/nato_static_fl2014/assets/pictures/graphics_video/20110401_tv.jpg\" data-lazy=\"/nato_static_fl2014/assets/pictures/images_mfu/2023/11/stock/231130-patrolling-greenland_rdax_375x211s.jpg\" alt=\"Ice Ice Navy – Patrolling Greenland on Denmark’s HDMS Triton\" title=\"Ice Ice Navy – Patrolling Greenland on Denmark’s HDMS Triton\">\n",
      "                      <a href=\"https://www.nato.int/cps/en/natohq/news_220955.htm\" title=\"Ice Ice Navy – Patrolling Greenland on Denmark’s HDMS Triton\">\n",
      "                <li class=\"js-slider-item\">\n",
      "                    <a href=\"https://www.nato.int/cps/en/natohq/photos_220706.htm\" title=\"NATO multinational battlegroup Hungary on the move\">\n",
      "                      <img src=\"https://www.nato.int/nato_static_fl2014/assets/pictures/graphics_video/20110401_tv.jpg\" data-lazy=\"/nato_static_fl2014/assets/pictures/images_mfu/2023/11/27b-exercise-hussar/231127b-001_rdax_375x213s.jpg\" alt=\"NATO multinational battlegroup Hungary on the move\" title=\"NATO multinational battlegroup Hungary on the move\">\n",
      "                      <a href=\"https://www.nato.int/cps/en/natohq/photos_220706.htm\" title=\"NATO multinational battlegroup Hungary on the move\">\n",
      "                <li class=\"js-slider-item\">\n",
      "                    <a href=\"https://www.nato.int/cps/en/natohq/news_220573.htm\" title=\"With an ace up its sleeve – the US Army designs a deck of cards to help tell friends from foes\">\n",
      "                      <img src=\"https://www.nato.int/nato_static_fl2014/assets/pictures/graphics_video/20110401_tv.jpg\" data-lazy=\"/nato_static_fl2014/assets/pictures/images_mfu/2023/11/stock/231123-cards-001_rdax_375x213p.jpg\" alt=\"With an ace up its sleeve – the US Army designs a deck of cards to help tell friends from foes\" title=\"With an ace up its sleeve – the US Army designs a deck of cards to help tell friends from foes\">\n",
      "                      <a href=\"https://www.nato.int/cps/en/natohq/news_220573.htm\" title=\"With an ace up its sleeve – the US Army designs a deck of cards to help tell friends from foes\">\n",
      "                <li class=\"js-slider-item\">\n",
      "                    <a href=\"https://www.nato.int/cps/en/natohq/photos_221046.htm\" title=\"NATO’s multinational battlegroup in Lithuania gets dirty for Czech obstacle course\">\n",
      "                      <a href=\"https://www.nato.int/cps/en/natohq/photos_221046.htm\" title=\"NATO’s multinational battlegroup in Lithuania gets dirty for Czech obstacle course\">\n",
      "                <li class=\"js-slider-item\">\n",
      "                    <a href=\"https://www.nato.int/cps/en/natohq/topics_192648.htm\" title=\"NATO's response to Russia's invasion of Ukraine\">\n",
      "                      <a href=\"https://www.nato.int/cps/en/natohq/topics_192648.htm\" title=\"NATO's response to Russia's invasion of Ukraine\">\n",
      "                <li class=\"js-slider-item\">\n",
      "                    <img data-video-id=\"RuxM0j-et-s\" src=\"https://www.nato.int/nato_static_fl2014/assets/pictures/graphics_video/20110401_tv.jpg\" alt=\"The European Union: a unique and essential partner for NATO\">\n",
      "                      <a href=\"https://youtu.be/RuxM0j-et-s\" target=\"_blank\" title=\"The European Union: a unique and essential partner for NATO\">\n",
      "                <li class=\"js-slider-item\">\n",
      "                    <img data-video-id=\"Nn7ojLa8WvE\" src=\"https://www.nato.int/nato_static_fl2014/assets/pictures/graphics_video/20110401_tv.jpg\" alt=\"Finland's impact on NATO\">\n",
      "                      <a href=\"https://www.youtube.com/watch?v=Nn7ojLa8WvE\" target=\"_blank\" title=\"Finland's impact on NATO\">\n",
      "\n"
     ]
    }
   ],
   "source": [
    "dirr = 'testcases/www.nato.int_1'\n",
    "\n",
    "live_element = json.load(open(f\"{dirr}/live_elements.json\"))\n",
    "archive_element = json.load(open(f\"{dirr}/archive_elements.json\"))\n",
    "# fidelity_check.verify( live_element, archive_element)\n",
    "live_unique, archive_unique = fidelity_check.diff(live_element, archive_element)\n",
    "print(len(live_unique), len(archive_unique))\n",
    "for i in live_unique:\n",
    "    print(\"live:\\n\", i)\n",
    "for i in archive_unique:\n",
    "    print(\"archive:\\n\", i)"
   ]
  },
  {
   "cell_type": "code",
   "execution_count": 99,
   "metadata": {},
   "outputs": [
    {
     "name": "stdout",
     "output_type": "stream",
     "text": [
      "{\n",
      "    \"live\": [\n",
      "        {\n",
      "            \"root\": \"<div class=\\\"media media--blazy media--bundle--slideshow-carousel media--slick media--responsive media--image is-b-loaded\\\" style=\\\"\\\" tabindex=\\\"0\\\">\",\n",
      "            \"numlines\": 2\n",
      "        },\n",
      "        {\n",
      "            \"root\": \"<div class=\\\"ytp-title-channel\\\">\",\n",
      "            \"numlines\": 1\n",
      "        },\n",
      "        {\n",
      "            \"root\": \"<div class=\\\"ytp-title-channel\\\">\",\n",
      "            \"numlines\": 1\n",
      "        }\n",
      "    ],\n",
      "    \"archive\": [\n",
      "        {\n",
      "            \"root\": \"<div class=\\\"media media--blazy media--bundle--slideshow-carousel media--slick media--loading is-b-loading media--responsive media--image\\\" style=\\\"\\\" tabindex=\\\"0\\\">\",\n",
      "            \"numlines\": 2\n",
      "        },\n",
      "        {\n",
      "            \"root\": \"<button class=\\\"ytp-watch-later-button ytp-button ytp-show-watch-later-title\\\" data-tooltip-opaque=\\\"true\\\" title=\\\"Watch later\\\" aria-label=\\\"Watch later\\\">\",\n",
      "            \"numlines\": 7\n",
      "        }\n",
      "    ]\n",
      "}\n"
     ]
    }
   ],
   "source": [
    "# * Generate testcase\n",
    "diff = {\"live\": [], \"archive\": []}\n",
    "for lu in live_unique:\n",
    "    first_line = lu.strip().split('\\n')[0]\n",
    "    diff['live'].append({\"root\": first_line, \"numlines\": len(lu.strip().split('\\n'))})\n",
    "for au in archive_unique:\n",
    "    first_line = au.strip().split('\\n')[0]\n",
    "    diff['archive'].append({\"root\": first_line, \"numlines\": len(au.strip().split('\\n'))})\n",
    "print(json.dumps(diff, indent=4))"
   ]
  }
 ],
 "metadata": {
  "kernelspec": {
   "display_name": "base",
   "language": "python",
   "name": "python3"
  },
  "language_info": {
   "codemirror_mode": {
    "name": "ipython",
    "version": 3
   },
   "file_extension": ".py",
   "mimetype": "text/x-python",
   "name": "python",
   "nbconvert_exporter": "python",
   "pygments_lexer": "ipython3",
   "version": "3.9.13"
  }
 },
 "nbformat": 4,
 "nbformat_minor": 2
}

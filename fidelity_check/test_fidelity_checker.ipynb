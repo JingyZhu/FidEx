{
 "cells": [
  {
   "cell_type": "code",
   "execution_count": 1,
   "metadata": {},
   "outputs": [],
   "source": [
    "%load_ext autoreload\n",
    "%autoreload 2"
   ]
  },
  {
   "cell_type": "code",
   "execution_count": 15,
   "metadata": {},
   "outputs": [],
   "source": [
    "import json\n",
    "import pandas as pd\n",
    "import os\n",
    "import sys\n",
    "import cv2\n",
    "import numpy as np\n",
    "sys.path.append('..')\n",
    "import matplotlib.pyplot as plt\n",
    "from utils import plotly_utils\n",
    "from fidelity_check import fidelity_detect, check_utils"
   ]
  },
  {
   "cell_type": "markdown",
   "metadata": {},
   "source": [
    "### Check the assumption of archive's writes are always a subset of live"
   ]
  },
  {
   "cell_type": "markdown",
   "metadata": {},
   "source": [
    "### Fidelity check"
   ]
  },
  {
   "cell_type": "code",
   "execution_count": null,
   "metadata": {},
   "outputs": [],
   "source": [
    "# dirr = '../revert_rewrite/writes/www.paulkasmingallery.com_641_3_4c30cf2b47f220b75ebeb15b727ca9b0594ed2a2a1a778d3e700940540db2017'\n",
    "dirr = '../revert_rewrite/test/load_override/writes/golfdigest.com'\n",
    "results = json.load(open(os.path.join(dirr, 'results.json'), 'r'))\n",
    "stage, fixedIdx = None, None\n",
    "for stage, result in results.items():\n",
    "    if result['fixedIdx'] == -1:\n",
    "        continue\n",
    "    fixedIdx = result['fixedIdx']\n",
    "    break\n",
    "# stage = 'interaction_2'\n",
    "# result = results[stage]\n",
    "# fixedIdx = result['fixedIdx']\n",
    "print(\"stage\", stage)\n",
    "print(\"fixedIdx\", fixedIdx)\n",
    "left = f'{stage}_initial'\n",
    "right = f'{stage}_exception_{fixedIdx}'\n",
    "print(len(json.load(open(os.path.join(dirr, f'{left}_elements.json')))), len(json.load(open(os.path.join(dirr, f'{right}_elements.json')))))\n",
    "issue, (left_u, right_u) = fidelity_detect.fidelity_issue(dirr, left, right)\n",
    "print(issue)\n",
    "print(json.dumps(left_u, indent=2))\n",
    "print(json.dumps(right_u, indent=2))"
   ]
  },
  {
   "cell_type": "markdown",
   "metadata": {},
   "source": [
    "### Screenshot similarity"
   ]
  },
  {
   "cell_type": "code",
   "execution_count": 26,
   "metadata": {},
   "outputs": [
    {
     "name": "stdout",
     "output_type": "stream",
     "text": [
      "1.0\n"
     ]
    },
    {
     "data": {
      "text/plain": [
       "True"
      ]
     },
     "execution_count": 26,
     "metadata": {},
     "output_type": "execute_result"
    }
   ],
   "source": [
    "dirr = '../revert_rewrite/writes/test'\n",
    "# dirr = '../revert_rewrite/test/load_override/writes/spanish.malabo.usembassy.gov_11513'\n",
    "fixedIdx = json.load(open(os.path.join(dirr, 'result_log.json'), 'r'))[\"fixedIdx\"]\n",
    "initial = os.path.join(dirr, 'initial.png')\n",
    "exception = os.path.join(dirr, f'exception_{fixedIdx}.png')\n",
    "\n",
    "def compare_screenshot(live_img, archive_img):\n",
    "    if not os.path.exists(live_img) or not os.path.exists(archive_img):\n",
    "        return -1\n",
    "    img1 = cv2.imread(live_img)\n",
    "    img2 = cv2.imread(archive_img)\n",
    "    height = min(img1.shape[0], img2.shape[0])\n",
    "    width = min([img1.shape[1], img2.shape[1]])\n",
    "    img1 = img1[:height,:width,:]\n",
    "    img2 = img2[:height,:width,:]\n",
    "    diff = img1 - img2\n",
    "    total = img1.shape[0]*img1.shape[1]*img1.shape[2]\n",
    "    same = np.count_nonzero(diff == 0)\n",
    "    return same / total, diff\n",
    "\n",
    "simi, diff = compare_screenshot(initial, exception)\n",
    "print(simi)\n",
    "cv2.imwrite(os.path.join(dirr, 'diff.png'), diff)"
   ]
  },
  {
   "cell_type": "markdown",
   "metadata": {},
   "source": [
    "### Diff writes"
   ]
  },
  {
   "cell_type": "code",
   "execution_count": 30,
   "metadata": {},
   "outputs": [
    {
     "name": "stdout",
     "output_type": "stream",
     "text": [
      "Length of writes 42 43\n"
     ]
    },
    {
     "data": {
      "text/plain": [
       "([('head', 'script', 'appendChild'),\n",
       "  ('head', 'style', 'insertBefore'),\n",
       "  ('div', 'div', 'removeChild')],\n",
       " [('head', 'link', 'appendChild'),\n",
       "  ('div', 'div', 'appendChild'),\n",
       "  ('n.length;s++)o=n', 'iframe', '#text', 'insertBefore')])"
      ]
     },
     "execution_count": 30,
     "metadata": {},
     "output_type": "execute_result"
    }
   ],
   "source": [
    "dirr = '../revert_rewrite/writes/www.nytimes.com_1073_3_aebb2a70fcc39ea0202fcedcc6e8c81852149174e479d139da024d11887cf02b'\n",
    "# dirr = '../revert_rewrite/test/load_override/writes/grunt.ca'\n",
    "stage = 'load'\n",
    "idx = '0_2'\n",
    "attribute = 'rawWrites'\n",
    "left_writes = json.load(open(os.path.join(dirr, f'{stage}_initial_writes.json')))\n",
    "right_writes = json.load(open(os.path.join(dirr, f'{stage}_exception_{idx}_writes.json')))\n",
    "print(\"Length of writes\", len(left_writes[attribute]), len(right_writes[attribute]))\n",
    "left_unique, right_unique = check_utils.diff_writes(left_writes, right_writes, attribute=attribute)\n",
    "# len(left_unique), len(right_unique)\n",
    "list(left_unique.keys()), list(right_unique.keys())"
   ]
  },
  {
   "cell_type": "code",
   "execution_count": 32,
   "metadata": {},
   "outputs": [
    {
     "name": "stdout",
     "output_type": "stream",
     "text": [
      "antimundo.org_702_2_5a7caff81b39d21034316034ac713eb594e6d8d2748d464786f7e03af80c6c72 load\n",
      "0 0\n",
      "smithsonianapa.org_884_0_05e534a1579f85e97ce6bee2047b6e349ac59e1860e2b733145013a4b0a13a4b load\n",
      "0 0\n",
      "www.paulkasmingallery.com_641_3_4c30cf2b47f220b75ebeb15b727ca9b0594ed2a2a1a778d3e700940540db2017 load\n",
      "0 3\n",
      "www.moma.org_531_2_4da7841d3805c7dd84abdfb099872933d3f95a24f851dbfc51492241402c0fa5 interaction_4\n",
      "0 0\n",
      "festival.si.edu_740_1_91bd2d5a28ffde09b540e5f3db1033287aeaced2bec240c3a159e605440af341 interaction_0\n",
      "0 0\n",
      "sassas.org_875_0_3041e2c8680579738802ac328f56337b7ee1c5a27c04ddfe00378be1c2f51fd4 load\n",
      "0 0\n",
      "www.moma.org_309_0_dbb4363b8dd9feae3b609edae0fc9d794c0e24ab71e60f1ebe4250d89533d1ba extraInteraction\n",
      "13 37\n",
      "www.moma.org_447_1_c4ffd66ad48ad3c5633f4a07db84e1c0eeb9500897974e2684ec2eee8462fe5d load\n",
      "12 12\n",
      "www.moma.org_356_1_7ec3e5a3dee8eb4f7b9c506c1497332a7950ad6783e4dfce22117cbbc1884082 load\n",
      "12 12\n",
      "www.moma.org_487_1_8d2b921e5f6d87ed6c1ca85222df9810a04d3c554740c93b1537cfc57b4f1443 extraInteraction\n",
      "13 37\n",
      "www.accioncultural.es_113_3_4e73ec37f45d81cc544aa73528a578404b8d9a2debf98711d2868feab1e81beb load\n",
      "0 0\n",
      "mineralsciences.si.edu_822_2_4cf7ac97f297a2e3fc53f7a93c86cc6ec808b3918ea6b7aaaa702de2bf54708c load\n",
      "0 0\n",
      "josebedia.com_63_1_fe599c160d3d7d17493bcdc2c518cbed163d585fae2bb981a90e04a33f186f3a load\n",
      "0 0\n",
      "www.getty.edu_1019_3_584174db1b6078537f632c76fd805f8fcd47877defe360795ba9e960ef50e0f4 load\n",
      "0 0\n",
      "www.nytimes.com_1073_3_aebb2a70fcc39ea0202fcedcc6e8c81852149174e479d139da024d11887cf02b load\n",
      "3 3\n",
      "www.moma.org_278_3_a74bd9b587f6ebc65b9e374a330757973d7b3b1a9340f956bd7b8b52adf35f68 interaction_2\n",
      "0 2\n",
      "www.fgi.org_978_0_6fa6deafb0c03ad5a049ca6b64f53b9c4b0e119321dbc6acb6dfe238fcc9de6d load\n",
      "0 0\n",
      "www.moma.org_295_2_e567f8337389980622b534ba5d4d8358d28a543191e8e80863647802c9dfed56 load\n",
      "12 12\n",
      "sassas.org_872_1_8cf24a250803fcf5e54b235204b2dc693a30910e038c8aaed1cc09a4d0f321e6 load\n",
      "0 0\n",
      "philadelphia.cbslocal.com_856_0_29d5f17b7031ac63929e494152c7989939a31741c8d41b0a9f174a461688ba99 load\n",
      "0 0\n",
      "www.corita.org_956_3_b8ac65793e56e4db4cb4a342f056b4aba0df3fc79b7358c55e92031325551260 load\n",
      "0 0\n",
      "www.moma.org_241_0_83f05ab0a17b0bd0f7656ed46c2fe29b09c0456c02fa4d167d7b39d1fceb23e0 load\n",
      "5 10\n",
      "www.moma.org_489_3_bd284c06d19221940065b238e32334464a06c71add17c0496699385f130e9c43 extraInteraction\n",
      "13 37\n",
      "www.getty.edu_1018_1_2a324bc732736cb16952e70e43ac019c03f08a5ac1d00daf9426053b71e5b55d load\n",
      "0 24\n",
      "northwestairlineshistory.org_81_0_1e309792670b2b7bcf158d6841ac3d3d675ee00f77870c73c47dbc65eaa6a94e interaction_0\n",
      "0 0\n",
      "www.moma.org_402_1_c37ca827899b3971031a27881ea2a8edc30bba4cb319058c72ffdacb2e62187a load\n",
      "12 12\n",
      "www.si.edu_1089_0_75d7b909a6619830c2453ca4ee8f556b0c02e83b0454bc0ee4f03c1a7686a67c load\n",
      "7 5\n",
      "www.lsunow.com_170_2_4edec4f00b28cf508d6e5a3983e6f969ab47e525ded74f0fd27dd0f03fb527c0 load\n",
      "0 0\n",
      "pinchukartcentre.org_88_1_8b6849de636d4828c2615661e399199309ed5cd9c60fdd22a1a917395e8616a8 load\n",
      "0 0\n",
      "americanhistory.si.edu_698_0_8a9fca87fc4ac549f9da9c9ecc01cc8cfd159392f40a7b33388e5f4cfb30836a load\n",
      "0 0\n",
      "www.moma.org_447_2_ce9db8ab803951d37581ea636ab7b0995043428178140039851de283fd02be65 extraInteraction\n",
      "12 37\n"
     ]
    }
   ],
   "source": [
    "fixed = json.load(open('../revert_rewrite/fixed_count.json'))\n",
    "attribute = 'rawWrites'\n",
    "for dirr, stage in fixed.items():\n",
    "    print(dirr, stage)\n",
    "    all_dirr = f'../revert_rewrite/writes/{dirr}'\n",
    "    result = json.load(open(os.path.join(all_dirr, 'results.json'), 'r'))[stage]\n",
    "    idx = result['fixedIdx']\n",
    "    left_writes = json.load(open(os.path.join(all_dirr, f'{stage}_initial_writes.json')))\n",
    "    right_writes = json.load(open(os.path.join(all_dirr, f'{stage}_exception_{idx}_writes.json')))\n",
    "    left_unique, right_unique = check_utils.diff_writes(left_writes, right_writes, attribute=attribute)\n",
    "    print(len(left_unique), len(right_unique))"
   ]
  },
  {
   "cell_type": "markdown",
   "metadata": {},
   "source": [
    "### fidelity check on a set of loads"
   ]
  },
  {
   "cell_type": "code",
   "execution_count": 14,
   "metadata": {},
   "outputs": [],
   "source": [
    "def valid_dir(dirr):\n",
    "    valid = os.path.exists(f'{dirr}/live_elements.json') and os.path.exists(f'{dirr}/archive_elements.json')\n",
    "    return valid\n",
    "\n",
    "base = '../record_replay/writes'\n",
    "data = json.load(open(f'{base}/fidelity_check_metadata.json', 'r'))\n",
    "results = []\n",
    "for url, info in list(data.items()):\n",
    "    dirr = info['directory']\n",
    "    if not valid_dir(f\"{base}/{dirr}\"):\n",
    "        continue\n",
    "    issue, _ =  fidelity_detect.fidelity_issue(f\"{base}/{dirr}\")\n",
    "    issue_screenshot, simi = fidelity_detect.fidelity_issue_screenshot(f\"{base}/{dirr}\")\n",
    "    results.append({\n",
    "        'directory': dirr,\n",
    "        'issue': issue,\n",
    "        'issue_screenshot': issue_screenshot,\n",
    "        'screenshot_similarity': simi\n",
    "    })\n",
    "json.dump(results, open('fidelity_check.json', 'w+'), indent=2)"
   ]
  },
  {
   "cell_type": "markdown",
   "metadata": {},
   "source": [
    "### fidelity check (single)"
   ]
  },
  {
   "cell_type": "code",
   "execution_count": 11,
   "metadata": {},
   "outputs": [
    {
     "name": "stdout",
     "output_type": "stream",
     "text": [
      "True\n",
      "[\n",
      "  [\n",
      "    \"/html[1]/body[1]/div[1]/div[3]/div[6]/div[2]/blockquote[1]/p[1]/img[1]\"\n",
      "  ],\n",
      "  [\n",
      "    \"/html[1]/body[1]/div[1]/div[3]/div[6]/div[2]/blockquote[1]/p[1]/span[1]\"\n",
      "  ]\n",
      "]\n",
      "[\n",
      "  [\n",
      "    \"/html[1]/body[1]/div[1]/div[3]/div[6]/div[2]/blockquote[1]/p[1]/img[1]\"\n",
      "  ],\n",
      "  [\n",
      "    \"/html[1]/body[1]/div[1]/div[3]/div[6]/div[2]/blockquote[1]/p[1]/span[1]\"\n",
      "  ]\n",
      "]\n"
     ]
    }
   ],
   "source": [
    "base = '/vault-swift/jingyz/fidelity-files/writes/ground_truth_0/'\n",
    "dirr = 'civilwarstudies.org_4930885bed'\n",
    "issue, (left_u, right_u) = fidelity_detect.fidelity_issue(os.path.join(base, dirr), 'live', 'archive')\n",
    "print(issue)\n",
    "print(json.dumps(left_u, indent=2))\n",
    "print(json.dumps(right_u, indent=2))"
   ]
  },
  {
   "cell_type": "markdown",
   "metadata": {},
   "source": [
    "### Compare my impact score vs screenshot"
   ]
  },
  {
   "cell_type": "code",
   "execution_count": 19,
   "metadata": {},
   "outputs": [
    {
     "name": "stdout",
     "output_type": "stream",
     "text": [
      "0 itsartlaw.org_19c3fc8f51\n",
      "1 organizations.lanl.gov_02c5db70be\n",
      "2 tech.ed.gov_15e0203099\n",
      "3 dfr.oregon.gov_2c446fc14b\n",
      "4 www.laphil.com_1634459bf8\n",
      "5 www.usda.gov_041e106649\n",
      "6 extranet.dfi.in.gov_1e0ea2d093\n",
      "7 hekili.ca.sandia.gov_0c635ab617\n",
      "8 airandspace.si.edu_5bf8cf6ff5\n",
      "9 napac2016.aps.anl.gov_34ec5f8977\n",
      "10 captive.insurance.ky.gov_80d9b26c85\n",
      "11 www.ayudaconmibanco.gov_a5b9d85de5\n",
      "12 webaccess.laborcommission.utah.gov_aebb200092\n",
      "13 northtexas.jobcorps.gov_5b875d2200\n",
      "14 www.morganlehmangallery.com_1e48d26ec2\n",
      "15 campaign.nmaahc.si.edu_3d0ecc43dd\n",
      "16 corinabricenoi.blogspot.com_b99d307fa5\n",
      "17 www.kcur.org_a59f1127ad\n",
      "18 www.medicare.gov_31d028e106\n",
      "19 www.shoalwaterbay-nsn.gov_0b5dddec6d\n",
      "20 ready.illinois.gov_c6d862a266\n",
      "21 www.ukb-nsn.gov_fec24a6a0c\n",
      "22 civilwarstudies.org_4930885bed\n",
      "23 www.outdooralabama.com_ba29dbaffc\n",
      "24 www.maicnet.org_57787e60bc\n",
      "25 gamingcontrolboard.pa.gov_240a941b3d\n",
      "26 otda.ny.gov_a11850b25f\n",
      "27 www.reginajosegalindo.com_f8c82b5bef\n",
      "28 www.samhsa.gov_7c152739a7\n",
      "29 oa.si.edu_51f420c885\n",
      "30 cpo.noaa.gov_629ca65a42\n",
      "31 www.gorkycatalogue.org_a4267bccd8\n",
      "32 bankanswers.gov_e0b6861a08\n",
      "33 statedept.tumblr.com_6964c1d8fc\n",
      "34 budget.delaware.gov_6080b0ffdd\n",
      "35 www.andraegreen.com_681c5e463a\n",
      "36 dcc-cde.ca.gov_43ee49cf00\n",
      "37 research.iowa-city.med.va.gov_4344e64db5\n",
      "38 greatonyx.jobcorps.gov_e361c1e970\n",
      "39 www.usfa.fema.gov_0c648dc2b0\n",
      "40 www.fhlbi.com_a9412d471a\n",
      "41 dem.utah.gov_987e1ab413\n",
      "42 www.manufacturing.gov_dd415ff015\n",
      "43 governor.alabama.gov_486f52b8c1\n",
      "44 www.meb.uscourts.gov_eb596fb2e7\n",
      "45 turbatol.org_cbdb6e0dfe\n",
      "46 airandspace.si.edu_77c2ad0458\n",
      "47 hirshhorn.tumblr.com_aa004a152a\n",
      "48 www.eda.gov_a584946665\n",
      "49 www.nobleboro.maine.gov_a7b1a5c293\n",
      "50 www.in.gov_fb2c05af15\n",
      "51 cpyrwma.alabama.gov_450eb934a8\n",
      "52 kpi.ky.gov_cda112443b\n",
      "53 citrus.floridahealth.gov_48bd35942a\n",
      "54 orwh.od.nih.gov_ce9acf13d5\n",
      "55 delta.ca.gov_bc9ad49646\n",
      "56 www.calhr.ca.gov_346ccd3fa8\n",
      "57 www.mid-cityartisans.com_f37e1f79a1\n",
      "58 www.spudnikpress.org_1653dace05\n",
      "59 www.pnnl.gov_75feec7fe3\n",
      "60 www.energy.gov_9720dfd52f\n",
      "61 cass.jobcorps.gov_52fa0edb83\n",
      "62 www.banking.nh.gov_47dd00cf19\n",
      "63 www.cit.uscourts.gov_9846e0be16\n",
      "64 www.freddiemac.com_9d068c3f87\n",
      "65 www.txs.uscourts.gov_e8b170a327\n",
      "66 gapost.org_f58e4c7c37\n",
      "67 dceoapps.ildceo.net_91c212044d\n",
      "68 collinlab.blogspot.com_42eabc0e86\n",
      "69 alstaars.service-now.com_a596c55822\n",
      "70 music.si.edu_d5abff3f7d\n",
      "71 dese.mo.gov_2c96c0ac45\n",
      "72 www.ornl.gov_51d02c8501\n",
      "73 deq.utah.gov_07ea7344eb\n",
      "74 keystone.ndu.edu_27a41253ab\n",
      "75 apps.azdot.gov_bcb7c49376\n",
      "76 www.maine.gov_c0c9bdac44\n",
      "77 ecomm1.riverside.courts.ca.gov_295ef069e6\n",
      "78 projecteppstein.blogspot.com_bf8bc4eb0f\n",
      "79 www.sos.alabama.gov_18d4b51f22\n",
      "80 progressreport.cancer.gov_bd05fc9fa4\n",
      "81 fid.nv.gov_f49b50cb21\n",
      "82 www.llnl.gov_92e6e344cc\n",
      "83 www.nhec.nh.gov_c8e0c92be5\n",
      "84 www.google.com_d75277cdff\n",
      "85 c3rs.arc.nasa.gov_3d8bd551ec\n",
      "86 hr.nv.gov_0257477c6b\n",
      "87 dial.iowa.gov_15b4e8d994\n",
      "88 kids.delaware.gov_76413ed665\n",
      "89 asia.si.edu_de772b5083\n",
      "90 georgiafmc.com_c21d9aa27d\n",
      "91 democraticleader.house.gov_11b5cece8d\n",
      "92 www.statelibrary.pa.gov_47d01f4f41\n",
      "93 www.mnbookarts.org_8057ac1b26\n",
      "94 bready.sd.gov_b964d5c5e9\n",
      "95 www.sergiogarciaartist.com_16eec0261d\n",
      "96 scijinks.gov_e427f20983\n",
      "97 aging.sc.gov_39681458b6\n",
      "98 postalmuseum.si.edu_55a6c7102d\n",
      "99 boards.bsd.dli.mt.gov_017c8773dd\n"
     ]
    },
    {
     "name": "stderr",
     "output_type": "stream",
     "text": [
      "../utils/plotly_utils.py:260: FutureWarning:\n",
      "\n",
      "iteritems is deprecated and will be removed in a future version. Use .items instead.\n",
      "\n"
     ]
    },
    {
     "data": {
      "application/vnd.plotly.v1+json": {
       "config": {
        "plotlyServerURL": "https://plot.ly"
       },
       "data": [
        {
         "marker": {
          "size": 5
         },
         "mode": "markers",
         "name": "1",
         "type": "scatter",
         "x": [
          0.006926247426174783,
          0.00494577467619816,
          0.00439849323650125,
          0.0001941851651483342,
          0.2767915853184829,
          0.00006531397941586757,
          0.0016930795111629292,
          0.6487402699569393,
          1,
          0.00005040082161723846,
          0.267910703582648,
          0.0037310638775651214,
          0.04631083225713579,
          0.3204883763881745,
          0.01985148881302773,
          0.0009123875998851654,
          0.054381541224828155,
          0.0377457898585797,
          1,
          0,
          0,
          0.0021368007523358814,
          0.001717258994694624,
          0,
          0.0016113095213173506,
          0.005980613131047358,
          0.002874558870709015,
          0.8031828654322041,
          0.034500771501300646,
          0.0000011995548292614088,
          0.0018731340584475366,
          0.3762806343525779,
          0.0037310638775651214,
          0.00467155819185791,
          1,
          0.9180459104938271,
          0.015197183455332944,
          0.00033639757187627783,
          0.3236180100858444,
          0.00003866109031402082,
          0.0033346203797957105,
          0.007603465192108594,
          0.0058839741697028335,
          0.07838405384146145,
          0.001150174854106375,
          0.0036920559956254463,
          0.106629593648454,
          0.878846274350568,
          0.00022635645734094047,
          1,
          0.00042167696410141356,
          0,
          0.001258710260180962,
          0.004269571782486271,
          0.01913476822614598,
          0,
          0.13229503148321659,
          0.027091367636341467,
          0,
          0.0010505249276805916,
          0.00016330406676972332,
          0.3236180100858444,
          0.14507346641912222,
          0.0011809627655883725,
          0.010290961607970267,
          0.00011414406148665746,
          0.12260959210872104,
          1,
          0.004493862393916387,
          0.03117692907248636,
          0.0569997292174384,
          0.001424864048889056,
          0.024454024755997825,
          0.00026631801673153687,
          0.006922821313125944,
          0.00012916025848314384,
          0,
          0.015315899057443261,
          0.001470559620634887,
          0.0006521275494241076,
          0.0006535115953777439,
          0.00028310077521904287,
          0,
          0.2414606956056962,
          0.02459490740740741,
          0.27040601906564143,
          0.0030441414596688032,
          0,
          0.0012700490972435067,
          0.0879958845572492,
          0.000524312835163721,
          0.007067355964094174,
          0.001092457478506849,
          0.0031101672508408174,
          0.08080087779400678,
          0.000008294042340598264,
          0.07449412855551724,
          0.0006566199656105683,
          0.008559267533170864,
          0
         ],
         "y": [
          0.004684028493552317,
          0.13280714218373757,
          0,
          0.00006404510973523347,
          0.17891981953923375,
          0.00021523120983513166,
          0.0014004805260495745,
          0.893667421147547,
          0.8540181935026371,
          0.00004542606516289016,
          0.0014081790123456894,
          0.0009069088161580696,
          0.11248801986281698,
          0.017938358821538047,
          0,
          0.0005494679868900398,
          0.09097022669220944,
          0.23920941363191117,
          0.28745482896090535,
          0,
          0.07219304958534145,
          0.005214021356631515,
          0.0016497561034217734,
          0.16137646479008683,
          0.013782312507443106,
          0.18868468673762095,
          0,
          0.010048908098271192,
          0.06580339148698522,
          0.1563310879347749,
          0.0049305361359681665,
          0.53840517442948,
          0.0009069088161580696,
          0.00519122605834732,
          0.7684568903318904,
          0.0016882073045267898,
          0.2761985825979951,
          0.01923776874294647,
          0.0600672097136169,
          0.013384195686686917,
          0,
          0.026414191497746042,
          0.05081669269671274,
          0.09501373805563706,
          0.0005255825734549191,
          0.0314437148522283,
          0.4982145971584142,
          0.7302286838677805,
          0.00006053143690076812,
          0.9772637085137085,
          0.00036651812050003674,
          0,
          0.000944203975749125,
          0.07985203735965929,
          0.144082905747969,
          0.024902222132239138,
          0.29970002038201726,
          0.07151231092203314,
          0.05466551576020484,
          0.016680337111968258,
          0.0011894219289091401,
          0.21877959942348446,
          0.11962518443285053,
          0.0005545534321372836,
          0.015714054330829175,
          0.0022703651760398458,
          0,
          0.015842753385758024,
          0.020811459427028667,
          0.0010061902207919582,
          0.27024326867146053,
          0.0016435514795153372,
          0.12265113700669228,
          0.0008493606994629532,
          0.009177767565765937,
          0.002290021380492946,
          0.0011988373316498269,
          0.005384972331889615,
          0.02920304549321817,
          0.00020677278401992627,
          0.17554489299280962,
          0.00024602043611277047,
          0.000006982582243075797,
          0.20602929496578692,
          0.006814718364197558,
          0.11363429849340867,
          0.005693821225071227,
          0,
          0.13908503859028076,
          0.00023471342289926866,
          0.002480538170298252,
          0.002914067725165448,
          0.3064666244322588,
          0.0022105433096647475,
          0.3369491599467507,
          0,
          0.06894484141341051,
          0.0012283794141548787,
          0.10331793257514221,
          0.12346528796952094
         ]
        }
       ],
       "layout": {
        "autosize": false,
        "font": {
         "color": "#7f7f7f",
         "family": "Time New Roman",
         "size": 16
        },
        "height": 600,
        "margin": {
         "b": 50,
         "l": 50,
         "pad": 4,
         "r": 50,
         "t": 30
        },
        "plot_bgcolor": "rgba(0,0,0,0)",
        "template": {
         "data": {
          "bar": [
           {
            "error_x": {
             "color": "#2a3f5f"
            },
            "error_y": {
             "color": "#2a3f5f"
            },
            "marker": {
             "line": {
              "color": "#E5ECF6",
              "width": 0.5
             },
             "pattern": {
              "fillmode": "overlay",
              "size": 10,
              "solidity": 0.2
             }
            },
            "type": "bar"
           }
          ],
          "barpolar": [
           {
            "marker": {
             "line": {
              "color": "#E5ECF6",
              "width": 0.5
             },
             "pattern": {
              "fillmode": "overlay",
              "size": 10,
              "solidity": 0.2
             }
            },
            "type": "barpolar"
           }
          ],
          "carpet": [
           {
            "aaxis": {
             "endlinecolor": "#2a3f5f",
             "gridcolor": "white",
             "linecolor": "white",
             "minorgridcolor": "white",
             "startlinecolor": "#2a3f5f"
            },
            "baxis": {
             "endlinecolor": "#2a3f5f",
             "gridcolor": "white",
             "linecolor": "white",
             "minorgridcolor": "white",
             "startlinecolor": "#2a3f5f"
            },
            "type": "carpet"
           }
          ],
          "choropleth": [
           {
            "colorbar": {
             "outlinewidth": 0,
             "ticks": ""
            },
            "type": "choropleth"
           }
          ],
          "contour": [
           {
            "colorbar": {
             "outlinewidth": 0,
             "ticks": ""
            },
            "colorscale": [
             [
              0,
              "#0d0887"
             ],
             [
              0.1111111111111111,
              "#46039f"
             ],
             [
              0.2222222222222222,
              "#7201a8"
             ],
             [
              0.3333333333333333,
              "#9c179e"
             ],
             [
              0.4444444444444444,
              "#bd3786"
             ],
             [
              0.5555555555555556,
              "#d8576b"
             ],
             [
              0.6666666666666666,
              "#ed7953"
             ],
             [
              0.7777777777777778,
              "#fb9f3a"
             ],
             [
              0.8888888888888888,
              "#fdca26"
             ],
             [
              1,
              "#f0f921"
             ]
            ],
            "type": "contour"
           }
          ],
          "contourcarpet": [
           {
            "colorbar": {
             "outlinewidth": 0,
             "ticks": ""
            },
            "type": "contourcarpet"
           }
          ],
          "heatmap": [
           {
            "colorbar": {
             "outlinewidth": 0,
             "ticks": ""
            },
            "colorscale": [
             [
              0,
              "#0d0887"
             ],
             [
              0.1111111111111111,
              "#46039f"
             ],
             [
              0.2222222222222222,
              "#7201a8"
             ],
             [
              0.3333333333333333,
              "#9c179e"
             ],
             [
              0.4444444444444444,
              "#bd3786"
             ],
             [
              0.5555555555555556,
              "#d8576b"
             ],
             [
              0.6666666666666666,
              "#ed7953"
             ],
             [
              0.7777777777777778,
              "#fb9f3a"
             ],
             [
              0.8888888888888888,
              "#fdca26"
             ],
             [
              1,
              "#f0f921"
             ]
            ],
            "type": "heatmap"
           }
          ],
          "heatmapgl": [
           {
            "colorbar": {
             "outlinewidth": 0,
             "ticks": ""
            },
            "colorscale": [
             [
              0,
              "#0d0887"
             ],
             [
              0.1111111111111111,
              "#46039f"
             ],
             [
              0.2222222222222222,
              "#7201a8"
             ],
             [
              0.3333333333333333,
              "#9c179e"
             ],
             [
              0.4444444444444444,
              "#bd3786"
             ],
             [
              0.5555555555555556,
              "#d8576b"
             ],
             [
              0.6666666666666666,
              "#ed7953"
             ],
             [
              0.7777777777777778,
              "#fb9f3a"
             ],
             [
              0.8888888888888888,
              "#fdca26"
             ],
             [
              1,
              "#f0f921"
             ]
            ],
            "type": "heatmapgl"
           }
          ],
          "histogram": [
           {
            "marker": {
             "pattern": {
              "fillmode": "overlay",
              "size": 10,
              "solidity": 0.2
             }
            },
            "type": "histogram"
           }
          ],
          "histogram2d": [
           {
            "colorbar": {
             "outlinewidth": 0,
             "ticks": ""
            },
            "colorscale": [
             [
              0,
              "#0d0887"
             ],
             [
              0.1111111111111111,
              "#46039f"
             ],
             [
              0.2222222222222222,
              "#7201a8"
             ],
             [
              0.3333333333333333,
              "#9c179e"
             ],
             [
              0.4444444444444444,
              "#bd3786"
             ],
             [
              0.5555555555555556,
              "#d8576b"
             ],
             [
              0.6666666666666666,
              "#ed7953"
             ],
             [
              0.7777777777777778,
              "#fb9f3a"
             ],
             [
              0.8888888888888888,
              "#fdca26"
             ],
             [
              1,
              "#f0f921"
             ]
            ],
            "type": "histogram2d"
           }
          ],
          "histogram2dcontour": [
           {
            "colorbar": {
             "outlinewidth": 0,
             "ticks": ""
            },
            "colorscale": [
             [
              0,
              "#0d0887"
             ],
             [
              0.1111111111111111,
              "#46039f"
             ],
             [
              0.2222222222222222,
              "#7201a8"
             ],
             [
              0.3333333333333333,
              "#9c179e"
             ],
             [
              0.4444444444444444,
              "#bd3786"
             ],
             [
              0.5555555555555556,
              "#d8576b"
             ],
             [
              0.6666666666666666,
              "#ed7953"
             ],
             [
              0.7777777777777778,
              "#fb9f3a"
             ],
             [
              0.8888888888888888,
              "#fdca26"
             ],
             [
              1,
              "#f0f921"
             ]
            ],
            "type": "histogram2dcontour"
           }
          ],
          "mesh3d": [
           {
            "colorbar": {
             "outlinewidth": 0,
             "ticks": ""
            },
            "type": "mesh3d"
           }
          ],
          "parcoords": [
           {
            "line": {
             "colorbar": {
              "outlinewidth": 0,
              "ticks": ""
             }
            },
            "type": "parcoords"
           }
          ],
          "pie": [
           {
            "automargin": true,
            "type": "pie"
           }
          ],
          "scatter": [
           {
            "marker": {
             "colorbar": {
              "outlinewidth": 0,
              "ticks": ""
             }
            },
            "type": "scatter"
           }
          ],
          "scatter3d": [
           {
            "line": {
             "colorbar": {
              "outlinewidth": 0,
              "ticks": ""
             }
            },
            "marker": {
             "colorbar": {
              "outlinewidth": 0,
              "ticks": ""
             }
            },
            "type": "scatter3d"
           }
          ],
          "scattercarpet": [
           {
            "marker": {
             "colorbar": {
              "outlinewidth": 0,
              "ticks": ""
             }
            },
            "type": "scattercarpet"
           }
          ],
          "scattergeo": [
           {
            "marker": {
             "colorbar": {
              "outlinewidth": 0,
              "ticks": ""
             }
            },
            "type": "scattergeo"
           }
          ],
          "scattergl": [
           {
            "marker": {
             "colorbar": {
              "outlinewidth": 0,
              "ticks": ""
             }
            },
            "type": "scattergl"
           }
          ],
          "scattermapbox": [
           {
            "marker": {
             "colorbar": {
              "outlinewidth": 0,
              "ticks": ""
             }
            },
            "type": "scattermapbox"
           }
          ],
          "scatterpolar": [
           {
            "marker": {
             "colorbar": {
              "outlinewidth": 0,
              "ticks": ""
             }
            },
            "type": "scatterpolar"
           }
          ],
          "scatterpolargl": [
           {
            "marker": {
             "colorbar": {
              "outlinewidth": 0,
              "ticks": ""
             }
            },
            "type": "scatterpolargl"
           }
          ],
          "scatterternary": [
           {
            "marker": {
             "colorbar": {
              "outlinewidth": 0,
              "ticks": ""
             }
            },
            "type": "scatterternary"
           }
          ],
          "surface": [
           {
            "colorbar": {
             "outlinewidth": 0,
             "ticks": ""
            },
            "colorscale": [
             [
              0,
              "#0d0887"
             ],
             [
              0.1111111111111111,
              "#46039f"
             ],
             [
              0.2222222222222222,
              "#7201a8"
             ],
             [
              0.3333333333333333,
              "#9c179e"
             ],
             [
              0.4444444444444444,
              "#bd3786"
             ],
             [
              0.5555555555555556,
              "#d8576b"
             ],
             [
              0.6666666666666666,
              "#ed7953"
             ],
             [
              0.7777777777777778,
              "#fb9f3a"
             ],
             [
              0.8888888888888888,
              "#fdca26"
             ],
             [
              1,
              "#f0f921"
             ]
            ],
            "type": "surface"
           }
          ],
          "table": [
           {
            "cells": {
             "fill": {
              "color": "#EBF0F8"
             },
             "line": {
              "color": "white"
             }
            },
            "header": {
             "fill": {
              "color": "#C8D4E3"
             },
             "line": {
              "color": "white"
             }
            },
            "type": "table"
           }
          ]
         },
         "layout": {
          "annotationdefaults": {
           "arrowcolor": "#2a3f5f",
           "arrowhead": 0,
           "arrowwidth": 1
          },
          "autotypenumbers": "strict",
          "coloraxis": {
           "colorbar": {
            "outlinewidth": 0,
            "ticks": ""
           }
          },
          "colorscale": {
           "diverging": [
            [
             0,
             "#8e0152"
            ],
            [
             0.1,
             "#c51b7d"
            ],
            [
             0.2,
             "#de77ae"
            ],
            [
             0.3,
             "#f1b6da"
            ],
            [
             0.4,
             "#fde0ef"
            ],
            [
             0.5,
             "#f7f7f7"
            ],
            [
             0.6,
             "#e6f5d0"
            ],
            [
             0.7,
             "#b8e186"
            ],
            [
             0.8,
             "#7fbc41"
            ],
            [
             0.9,
             "#4d9221"
            ],
            [
             1,
             "#276419"
            ]
           ],
           "sequential": [
            [
             0,
             "#0d0887"
            ],
            [
             0.1111111111111111,
             "#46039f"
            ],
            [
             0.2222222222222222,
             "#7201a8"
            ],
            [
             0.3333333333333333,
             "#9c179e"
            ],
            [
             0.4444444444444444,
             "#bd3786"
            ],
            [
             0.5555555555555556,
             "#d8576b"
            ],
            [
             0.6666666666666666,
             "#ed7953"
            ],
            [
             0.7777777777777778,
             "#fb9f3a"
            ],
            [
             0.8888888888888888,
             "#fdca26"
            ],
            [
             1,
             "#f0f921"
            ]
           ],
           "sequentialminus": [
            [
             0,
             "#0d0887"
            ],
            [
             0.1111111111111111,
             "#46039f"
            ],
            [
             0.2222222222222222,
             "#7201a8"
            ],
            [
             0.3333333333333333,
             "#9c179e"
            ],
            [
             0.4444444444444444,
             "#bd3786"
            ],
            [
             0.5555555555555556,
             "#d8576b"
            ],
            [
             0.6666666666666666,
             "#ed7953"
            ],
            [
             0.7777777777777778,
             "#fb9f3a"
            ],
            [
             0.8888888888888888,
             "#fdca26"
            ],
            [
             1,
             "#f0f921"
            ]
           ]
          },
          "colorway": [
           "#636efa",
           "#EF553B",
           "#00cc96",
           "#ab63fa",
           "#FFA15A",
           "#19d3f3",
           "#FF6692",
           "#B6E880",
           "#FF97FF",
           "#FECB52"
          ],
          "font": {
           "color": "#2a3f5f"
          },
          "geo": {
           "bgcolor": "white",
           "lakecolor": "white",
           "landcolor": "#E5ECF6",
           "showlakes": true,
           "showland": true,
           "subunitcolor": "white"
          },
          "hoverlabel": {
           "align": "left"
          },
          "hovermode": "closest",
          "mapbox": {
           "style": "light"
          },
          "paper_bgcolor": "white",
          "plot_bgcolor": "#E5ECF6",
          "polar": {
           "angularaxis": {
            "gridcolor": "white",
            "linecolor": "white",
            "ticks": ""
           },
           "bgcolor": "#E5ECF6",
           "radialaxis": {
            "gridcolor": "white",
            "linecolor": "white",
            "ticks": ""
           }
          },
          "scene": {
           "xaxis": {
            "backgroundcolor": "#E5ECF6",
            "gridcolor": "white",
            "gridwidth": 2,
            "linecolor": "white",
            "showbackground": true,
            "ticks": "",
            "zerolinecolor": "white"
           },
           "yaxis": {
            "backgroundcolor": "#E5ECF6",
            "gridcolor": "white",
            "gridwidth": 2,
            "linecolor": "white",
            "showbackground": true,
            "ticks": "",
            "zerolinecolor": "white"
           },
           "zaxis": {
            "backgroundcolor": "#E5ECF6",
            "gridcolor": "white",
            "gridwidth": 2,
            "linecolor": "white",
            "showbackground": true,
            "ticks": "",
            "zerolinecolor": "white"
           }
          },
          "shapedefaults": {
           "line": {
            "color": "#2a3f5f"
           }
          },
          "ternary": {
           "aaxis": {
            "gridcolor": "white",
            "linecolor": "white",
            "ticks": ""
           },
           "baxis": {
            "gridcolor": "white",
            "linecolor": "white",
            "ticks": ""
           },
           "bgcolor": "#E5ECF6",
           "caxis": {
            "gridcolor": "white",
            "linecolor": "white",
            "ticks": ""
           }
          },
          "title": {
           "x": 0.05
          },
          "xaxis": {
           "automargin": true,
           "gridcolor": "white",
           "linecolor": "white",
           "ticks": "",
           "title": {
            "standoff": 15
           },
           "zerolinecolor": "white",
           "zerolinewidth": 2
          },
          "yaxis": {
           "automargin": true,
           "gridcolor": "white",
           "linecolor": "white",
           "ticks": "",
           "title": {
            "standoff": 15
           },
           "zerolinecolor": "white",
           "zerolinewidth": 2
          }
         }
        },
        "title": {
         "text": "",
         "x": 0.5,
         "yanchor": "top"
        },
        "width": 1000,
        "xaxis": {
         "title": {
          "text": ""
         }
        },
        "yaxis": {
         "title": {
          "text": ""
         }
        }
       }
      },
      "text/html": [
       "<div>                            <div id=\"346eabb4-65cb-4292-aff0-1bdd99ee5869\" class=\"plotly-graph-div\" style=\"height:600px; width:1000px;\"></div>            <script type=\"text/javascript\">                require([\"plotly\"], function(Plotly) {                    window.PLOTLYENV=window.PLOTLYENV || {};                                    if (document.getElementById(\"346eabb4-65cb-4292-aff0-1bdd99ee5869\")) {                    Plotly.newPlot(                        \"346eabb4-65cb-4292-aff0-1bdd99ee5869\",                        [{\"marker\":{\"size\":5},\"mode\":\"markers\",\"name\":\"1\",\"type\":\"scatter\",\"x\":[0.006926247426174783,0.00494577467619816,0.00439849323650125,0.0001941851651483342,0.2767915853184829,6.531397941586757e-05,0.0016930795111629292,0.6487402699569393,1,5.040082161723846e-05,0.267910703582648,0.0037310638775651214,0.04631083225713579,0.3204883763881745,0.01985148881302773,0.0009123875998851654,0.054381541224828155,0.0377457898585797,1,0.0,0.0,0.0021368007523358814,0.001717258994694624,0.0,0.0016113095213173506,0.005980613131047358,0.002874558870709015,0.8031828654322041,0.034500771501300646,1.1995548292614088e-06,0.0018731340584475366,0.3762806343525779,0.0037310638775651214,0.00467155819185791,1,0.9180459104938271,0.015197183455332944,0.00033639757187627783,0.3236180100858444,3.866109031402082e-05,0.0033346203797957105,0.007603465192108594,0.0058839741697028335,0.07838405384146145,0.001150174854106375,0.0036920559956254463,0.106629593648454,0.878846274350568,0.00022635645734094047,1,0.00042167696410141356,0.0,0.001258710260180962,0.004269571782486271,0.01913476822614598,0.0,0.13229503148321659,0.027091367636341467,0.0,0.0010505249276805916,0.00016330406676972332,0.3236180100858444,0.14507346641912222,0.0011809627655883725,0.010290961607970267,0.00011414406148665746,0.12260959210872104,1,0.004493862393916387,0.03117692907248636,0.0569997292174384,0.001424864048889056,0.024454024755997825,0.00026631801673153687,0.006922821313125944,0.00012916025848314384,0.0,0.015315899057443261,0.001470559620634887,0.0006521275494241076,0.0006535115953777439,0.00028310077521904287,0.0,0.2414606956056962,0.02459490740740741,0.27040601906564143,0.0030441414596688032,0.0,0.0012700490972435067,0.0879958845572492,0.000524312835163721,0.007067355964094174,0.001092457478506849,0.0031101672508408174,0.08080087779400678,8.294042340598264e-06,0.07449412855551724,0.0006566199656105683,0.008559267533170864,0.0],\"y\":[0.004684028493552317,0.13280714218373757,0.0,6.404510973523347e-05,0.17891981953923375,0.00021523120983513166,0.0014004805260495745,0.893667421147547,0.8540181935026371,4.542606516289016e-05,0.0014081790123456894,0.0009069088161580696,0.11248801986281698,0.017938358821538047,0.0,0.0005494679868900398,0.09097022669220944,0.23920941363191117,0.28745482896090535,0.0,0.07219304958534145,0.005214021356631515,0.0016497561034217734,0.16137646479008683,0.013782312507443106,0.18868468673762095,0.0,0.010048908098271192,0.06580339148698522,0.1563310879347749,0.0049305361359681665,0.53840517442948,0.0009069088161580696,0.00519122605834732,0.7684568903318904,0.0016882073045267898,0.2761985825979951,0.01923776874294647,0.0600672097136169,0.013384195686686917,0.0,0.026414191497746042,0.05081669269671274,0.09501373805563706,0.0005255825734549191,0.0314437148522283,0.4982145971584142,0.7302286838677805,6.053143690076812e-05,0.9772637085137085,0.00036651812050003674,0.0,0.000944203975749125,0.07985203735965929,0.144082905747969,0.024902222132239138,0.29970002038201726,0.07151231092203314,0.05466551576020484,0.016680337111968258,0.0011894219289091401,0.21877959942348446,0.11962518443285053,0.0005545534321372836,0.015714054330829175,0.0022703651760398458,0.0,0.015842753385758024,0.020811459427028667,0.0010061902207919582,0.27024326867146053,0.0016435514795153372,0.12265113700669228,0.0008493606994629532,0.009177767565765937,0.002290021380492946,0.0011988373316498269,0.005384972331889615,0.02920304549321817,0.00020677278401992627,0.17554489299280962,0.00024602043611277047,6.982582243075797e-06,0.20602929496578692,0.006814718364197558,0.11363429849340867,0.005693821225071227,0.0,0.13908503859028076,0.00023471342289926866,0.002480538170298252,0.002914067725165448,0.3064666244322588,0.0022105433096647475,0.3369491599467507,0.0,0.06894484141341051,0.0012283794141548787,0.10331793257514221,0.12346528796952094]}],                        {\"autosize\":false,\"font\":{\"color\":\"#7f7f7f\",\"family\":\"Time New Roman\",\"size\":16},\"height\":600,\"margin\":{\"b\":50,\"l\":50,\"pad\":4,\"r\":50,\"t\":30},\"plot_bgcolor\":\"rgba(0,0,0,0)\",\"template\":{\"data\":{\"bar\":[{\"error_x\":{\"color\":\"#2a3f5f\"},\"error_y\":{\"color\":\"#2a3f5f\"},\"marker\":{\"line\":{\"color\":\"#E5ECF6\",\"width\":0.5},\"pattern\":{\"fillmode\":\"overlay\",\"size\":10,\"solidity\":0.2}},\"type\":\"bar\"}],\"barpolar\":[{\"marker\":{\"line\":{\"color\":\"#E5ECF6\",\"width\":0.5},\"pattern\":{\"fillmode\":\"overlay\",\"size\":10,\"solidity\":0.2}},\"type\":\"barpolar\"}],\"carpet\":[{\"aaxis\":{\"endlinecolor\":\"#2a3f5f\",\"gridcolor\":\"white\",\"linecolor\":\"white\",\"minorgridcolor\":\"white\",\"startlinecolor\":\"#2a3f5f\"},\"baxis\":{\"endlinecolor\":\"#2a3f5f\",\"gridcolor\":\"white\",\"linecolor\":\"white\",\"minorgridcolor\":\"white\",\"startlinecolor\":\"#2a3f5f\"},\"type\":\"carpet\"}],\"choropleth\":[{\"colorbar\":{\"outlinewidth\":0,\"ticks\":\"\"},\"type\":\"choropleth\"}],\"contour\":[{\"colorbar\":{\"outlinewidth\":0,\"ticks\":\"\"},\"colorscale\":[[0.0,\"#0d0887\"],[0.1111111111111111,\"#46039f\"],[0.2222222222222222,\"#7201a8\"],[0.3333333333333333,\"#9c179e\"],[0.4444444444444444,\"#bd3786\"],[0.5555555555555556,\"#d8576b\"],[0.6666666666666666,\"#ed7953\"],[0.7777777777777778,\"#fb9f3a\"],[0.8888888888888888,\"#fdca26\"],[1.0,\"#f0f921\"]],\"type\":\"contour\"}],\"contourcarpet\":[{\"colorbar\":{\"outlinewidth\":0,\"ticks\":\"\"},\"type\":\"contourcarpet\"}],\"heatmap\":[{\"colorbar\":{\"outlinewidth\":0,\"ticks\":\"\"},\"colorscale\":[[0.0,\"#0d0887\"],[0.1111111111111111,\"#46039f\"],[0.2222222222222222,\"#7201a8\"],[0.3333333333333333,\"#9c179e\"],[0.4444444444444444,\"#bd3786\"],[0.5555555555555556,\"#d8576b\"],[0.6666666666666666,\"#ed7953\"],[0.7777777777777778,\"#fb9f3a\"],[0.8888888888888888,\"#fdca26\"],[1.0,\"#f0f921\"]],\"type\":\"heatmap\"}],\"heatmapgl\":[{\"colorbar\":{\"outlinewidth\":0,\"ticks\":\"\"},\"colorscale\":[[0.0,\"#0d0887\"],[0.1111111111111111,\"#46039f\"],[0.2222222222222222,\"#7201a8\"],[0.3333333333333333,\"#9c179e\"],[0.4444444444444444,\"#bd3786\"],[0.5555555555555556,\"#d8576b\"],[0.6666666666666666,\"#ed7953\"],[0.7777777777777778,\"#fb9f3a\"],[0.8888888888888888,\"#fdca26\"],[1.0,\"#f0f921\"]],\"type\":\"heatmapgl\"}],\"histogram\":[{\"marker\":{\"pattern\":{\"fillmode\":\"overlay\",\"size\":10,\"solidity\":0.2}},\"type\":\"histogram\"}],\"histogram2d\":[{\"colorbar\":{\"outlinewidth\":0,\"ticks\":\"\"},\"colorscale\":[[0.0,\"#0d0887\"],[0.1111111111111111,\"#46039f\"],[0.2222222222222222,\"#7201a8\"],[0.3333333333333333,\"#9c179e\"],[0.4444444444444444,\"#bd3786\"],[0.5555555555555556,\"#d8576b\"],[0.6666666666666666,\"#ed7953\"],[0.7777777777777778,\"#fb9f3a\"],[0.8888888888888888,\"#fdca26\"],[1.0,\"#f0f921\"]],\"type\":\"histogram2d\"}],\"histogram2dcontour\":[{\"colorbar\":{\"outlinewidth\":0,\"ticks\":\"\"},\"colorscale\":[[0.0,\"#0d0887\"],[0.1111111111111111,\"#46039f\"],[0.2222222222222222,\"#7201a8\"],[0.3333333333333333,\"#9c179e\"],[0.4444444444444444,\"#bd3786\"],[0.5555555555555556,\"#d8576b\"],[0.6666666666666666,\"#ed7953\"],[0.7777777777777778,\"#fb9f3a\"],[0.8888888888888888,\"#fdca26\"],[1.0,\"#f0f921\"]],\"type\":\"histogram2dcontour\"}],\"mesh3d\":[{\"colorbar\":{\"outlinewidth\":0,\"ticks\":\"\"},\"type\":\"mesh3d\"}],\"parcoords\":[{\"line\":{\"colorbar\":{\"outlinewidth\":0,\"ticks\":\"\"}},\"type\":\"parcoords\"}],\"pie\":[{\"automargin\":true,\"type\":\"pie\"}],\"scatter\":[{\"marker\":{\"colorbar\":{\"outlinewidth\":0,\"ticks\":\"\"}},\"type\":\"scatter\"}],\"scatter3d\":[{\"line\":{\"colorbar\":{\"outlinewidth\":0,\"ticks\":\"\"}},\"marker\":{\"colorbar\":{\"outlinewidth\":0,\"ticks\":\"\"}},\"type\":\"scatter3d\"}],\"scattercarpet\":[{\"marker\":{\"colorbar\":{\"outlinewidth\":0,\"ticks\":\"\"}},\"type\":\"scattercarpet\"}],\"scattergeo\":[{\"marker\":{\"colorbar\":{\"outlinewidth\":0,\"ticks\":\"\"}},\"type\":\"scattergeo\"}],\"scattergl\":[{\"marker\":{\"colorbar\":{\"outlinewidth\":0,\"ticks\":\"\"}},\"type\":\"scattergl\"}],\"scattermapbox\":[{\"marker\":{\"colorbar\":{\"outlinewidth\":0,\"ticks\":\"\"}},\"type\":\"scattermapbox\"}],\"scatterpolar\":[{\"marker\":{\"colorbar\":{\"outlinewidth\":0,\"ticks\":\"\"}},\"type\":\"scatterpolar\"}],\"scatterpolargl\":[{\"marker\":{\"colorbar\":{\"outlinewidth\":0,\"ticks\":\"\"}},\"type\":\"scatterpolargl\"}],\"scatterternary\":[{\"marker\":{\"colorbar\":{\"outlinewidth\":0,\"ticks\":\"\"}},\"type\":\"scatterternary\"}],\"surface\":[{\"colorbar\":{\"outlinewidth\":0,\"ticks\":\"\"},\"colorscale\":[[0.0,\"#0d0887\"],[0.1111111111111111,\"#46039f\"],[0.2222222222222222,\"#7201a8\"],[0.3333333333333333,\"#9c179e\"],[0.4444444444444444,\"#bd3786\"],[0.5555555555555556,\"#d8576b\"],[0.6666666666666666,\"#ed7953\"],[0.7777777777777778,\"#fb9f3a\"],[0.8888888888888888,\"#fdca26\"],[1.0,\"#f0f921\"]],\"type\":\"surface\"}],\"table\":[{\"cells\":{\"fill\":{\"color\":\"#EBF0F8\"},\"line\":{\"color\":\"white\"}},\"header\":{\"fill\":{\"color\":\"#C8D4E3\"},\"line\":{\"color\":\"white\"}},\"type\":\"table\"}]},\"layout\":{\"annotationdefaults\":{\"arrowcolor\":\"#2a3f5f\",\"arrowhead\":0,\"arrowwidth\":1},\"autotypenumbers\":\"strict\",\"coloraxis\":{\"colorbar\":{\"outlinewidth\":0,\"ticks\":\"\"}},\"colorscale\":{\"diverging\":[[0,\"#8e0152\"],[0.1,\"#c51b7d\"],[0.2,\"#de77ae\"],[0.3,\"#f1b6da\"],[0.4,\"#fde0ef\"],[0.5,\"#f7f7f7\"],[0.6,\"#e6f5d0\"],[0.7,\"#b8e186\"],[0.8,\"#7fbc41\"],[0.9,\"#4d9221\"],[1,\"#276419\"]],\"sequential\":[[0.0,\"#0d0887\"],[0.1111111111111111,\"#46039f\"],[0.2222222222222222,\"#7201a8\"],[0.3333333333333333,\"#9c179e\"],[0.4444444444444444,\"#bd3786\"],[0.5555555555555556,\"#d8576b\"],[0.6666666666666666,\"#ed7953\"],[0.7777777777777778,\"#fb9f3a\"],[0.8888888888888888,\"#fdca26\"],[1.0,\"#f0f921\"]],\"sequentialminus\":[[0.0,\"#0d0887\"],[0.1111111111111111,\"#46039f\"],[0.2222222222222222,\"#7201a8\"],[0.3333333333333333,\"#9c179e\"],[0.4444444444444444,\"#bd3786\"],[0.5555555555555556,\"#d8576b\"],[0.6666666666666666,\"#ed7953\"],[0.7777777777777778,\"#fb9f3a\"],[0.8888888888888888,\"#fdca26\"],[1.0,\"#f0f921\"]]},\"colorway\":[\"#636efa\",\"#EF553B\",\"#00cc96\",\"#ab63fa\",\"#FFA15A\",\"#19d3f3\",\"#FF6692\",\"#B6E880\",\"#FF97FF\",\"#FECB52\"],\"font\":{\"color\":\"#2a3f5f\"},\"geo\":{\"bgcolor\":\"white\",\"lakecolor\":\"white\",\"landcolor\":\"#E5ECF6\",\"showlakes\":true,\"showland\":true,\"subunitcolor\":\"white\"},\"hoverlabel\":{\"align\":\"left\"},\"hovermode\":\"closest\",\"mapbox\":{\"style\":\"light\"},\"paper_bgcolor\":\"white\",\"plot_bgcolor\":\"#E5ECF6\",\"polar\":{\"angularaxis\":{\"gridcolor\":\"white\",\"linecolor\":\"white\",\"ticks\":\"\"},\"bgcolor\":\"#E5ECF6\",\"radialaxis\":{\"gridcolor\":\"white\",\"linecolor\":\"white\",\"ticks\":\"\"}},\"scene\":{\"xaxis\":{\"backgroundcolor\":\"#E5ECF6\",\"gridcolor\":\"white\",\"gridwidth\":2,\"linecolor\":\"white\",\"showbackground\":true,\"ticks\":\"\",\"zerolinecolor\":\"white\"},\"yaxis\":{\"backgroundcolor\":\"#E5ECF6\",\"gridcolor\":\"white\",\"gridwidth\":2,\"linecolor\":\"white\",\"showbackground\":true,\"ticks\":\"\",\"zerolinecolor\":\"white\"},\"zaxis\":{\"backgroundcolor\":\"#E5ECF6\",\"gridcolor\":\"white\",\"gridwidth\":2,\"linecolor\":\"white\",\"showbackground\":true,\"ticks\":\"\",\"zerolinecolor\":\"white\"}},\"shapedefaults\":{\"line\":{\"color\":\"#2a3f5f\"}},\"ternary\":{\"aaxis\":{\"gridcolor\":\"white\",\"linecolor\":\"white\",\"ticks\":\"\"},\"baxis\":{\"gridcolor\":\"white\",\"linecolor\":\"white\",\"ticks\":\"\"},\"bgcolor\":\"#E5ECF6\",\"caxis\":{\"gridcolor\":\"white\",\"linecolor\":\"white\",\"ticks\":\"\"}},\"title\":{\"x\":0.05},\"xaxis\":{\"automargin\":true,\"gridcolor\":\"white\",\"linecolor\":\"white\",\"ticks\":\"\",\"title\":{\"standoff\":15},\"zerolinecolor\":\"white\",\"zerolinewidth\":2},\"yaxis\":{\"automargin\":true,\"gridcolor\":\"white\",\"linecolor\":\"white\",\"ticks\":\"\",\"title\":{\"standoff\":15},\"zerolinecolor\":\"white\",\"zerolinewidth\":2}}},\"title\":{\"text\":\"\",\"x\":0.5,\"yanchor\":\"top\"},\"width\":1000,\"xaxis\":{\"title\":{\"text\":\"\"}},\"yaxis\":{\"title\":{\"text\":\"\"}}},                        {\"responsive\": true}                    ).then(function(){\n",
       "                            \n",
       "var gd = document.getElementById('346eabb4-65cb-4292-aff0-1bdd99ee5869');\n",
       "var x = new MutationObserver(function (mutations, observer) {{\n",
       "        var display = window.getComputedStyle(gd).display;\n",
       "        if (!display || display === 'none') {{\n",
       "            console.log([gd, 'removed!']);\n",
       "            Plotly.purge(gd);\n",
       "            observer.disconnect();\n",
       "        }}\n",
       "}});\n",
       "\n",
       "// Listen for the removal of the full notebook cells\n",
       "var notebookContainer = gd.closest('#notebook-container');\n",
       "if (notebookContainer) {{\n",
       "    x.observe(notebookContainer, {childList: true});\n",
       "}}\n",
       "\n",
       "// Listen for the clearing of the current output cell\n",
       "var outputEl = gd.closest('.output');\n",
       "if (outputEl) {{\n",
       "    x.observe(outputEl, {childList: true});\n",
       "}}\n",
       "\n",
       "                        })                };                });            </script>        </div>"
      ]
     },
     "metadata": {},
     "output_type": "display_data"
    }
   ],
   "source": [
    "import fidelity_impact\n",
    "base = '../../fidelity-files/writes/ground_truth_0/'\n",
    "\n",
    "gt_diff = json.load(open('../datacollect/ground-truth/gt_diff.json'))\n",
    "hostnames = [g['hostname'] for g in gt_diff if g['diff']]\n",
    "results = []\n",
    "for i, hostname in enumerate(hostnames[:100]):\n",
    "    print(i, hostname)\n",
    "    dirr = base + hostname\n",
    "    left_impact, right_impact = fidelity_impact.fidelity_issue_impact(dirr)\n",
    "    _, img_simi = fidelity_detect.fidelity_issue_screenshot(dirr)\n",
    "    impact = max(left_impact, right_impact)\n",
    "    impact = min(1, impact)\n",
    "    results.append({\n",
    "        'hostname': hostname,\n",
    "        'impact': impact,\n",
    "        'img_simi': 1-img_simi\n",
    "    })\n",
    "json.dump(results, open('fidelity_impact.json', 'w+'), indent=2)\n",
    "df = pd.DataFrame({'1': [(r['impact'], r['img_simi']) for r in results]})\n",
    "plotly_utils.plot_Scatter(df)\n",
    "    "
   ]
  }
 ],
 "metadata": {
  "kernelspec": {
   "display_name": "base",
   "language": "python",
   "name": "python3"
  },
  "language_info": {
   "codemirror_mode": {
    "name": "ipython",
    "version": 3
   },
   "file_extension": ".py",
   "mimetype": "text/x-python",
   "name": "python",
   "nbconvert_exporter": "python",
   "pygments_lexer": "ipython3",
   "version": "3.8.5"
  }
 },
 "nbformat": 4,
 "nbformat_minor": 2
}

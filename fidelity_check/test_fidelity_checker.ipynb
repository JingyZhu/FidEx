{
 "cells": [
  {
   "cell_type": "code",
   "execution_count": 1,
   "metadata": {},
   "outputs": [],
   "source": [
    "%load_ext autoreload\n",
    "%autoreload 2"
   ]
  },
  {
   "cell_type": "code",
   "execution_count": 8,
   "metadata": {},
   "outputs": [],
   "source": [
    "import json\n",
    "import pandas as pd\n",
    "import sys\n",
    "import difflib\n",
    "sys.path.append(\"../\")\n",
    "from utils import fidelity_check"
   ]
  },
  {
   "cell_type": "code",
   "execution_count": 3,
   "metadata": {},
   "outputs": [],
   "source": [
    "screenshot_similarity = json.load(open(\"../record_replay/screenshots/onload_screenshot_similarity.json\", 'r'))\n",
    "screenshot_similarity = {s['directory']: s['screenshot_similarity'] for s in screenshot_similarity for s in screenshot_similarity}"
   ]
  },
  {
   "cell_type": "code",
   "execution_count": 6,
   "metadata": {},
   "outputs": [],
   "source": [
    "def check_fidelity(dirr):\n",
    "    screenshot_simi = screenshot_similarity[dirr.split('/')[-1]]\n",
    "    live_html = open(f\"{dirr}/live.html\").read()\n",
    "    archive_html = open(f\"{dirr}/archive.html\").read()\n",
    "    live_element = json.load(open(f\"{dirr}/live_elements.json\"))\n",
    "    archive_element = json.load(open(f\"{dirr}/archive_elements.json\"))\n",
    "    my_fidelity = fidelity_check.verify(live_html, live_element, archive_html, archive_element)\n",
    "    print(screenshot_simi >= 1, my_fidelity)\n",
    "\n",
    "# check_fidelity('testcases/theftaz.azag.gov_1')"
   ]
  },
  {
   "cell_type": "markdown",
   "metadata": {},
   "source": [
    "#### Test difflib"
   ]
  },
  {
   "cell_type": "code",
   "execution_count": 27,
   "metadata": {},
   "outputs": [
    {
     "name": "stdout",
     "output_type": "stream",
     "text": [
      "/a/b /a/b True\n"
     ]
    },
    {
     "data": {
      "text/plain": [
       "True"
      ]
     },
     "execution_count": 27,
     "metadata": {},
     "output_type": "execute_result"
    }
   ],
   "source": [
    "e1 = fidelity_check.htmlElement({'xpath': '/a/b', 'text': 'hello'})\n",
    "e2 = fidelity_check.htmlElement({'xpath': '/a/b', 'text': 'hello'})\n",
    "e1 == e2"
   ]
  },
  {
   "cell_type": "markdown",
   "metadata": {},
   "source": [
    "## Check archive differences"
   ]
  },
  {
   "cell_type": "code",
   "execution_count": 98,
   "metadata": {},
   "outputs": [
    {
     "name": "stdout",
     "output_type": "stream",
     "text": [
      "live_unique number [2, 1, 1]\n",
      "archive_unique number [2, 7]\n",
      "3 2\n",
      "live:\n",
      "                         <div class=\"media media--blazy media--bundle--slideshow-carousel media--slick media--responsive media--image is-b-loaded\" style=\"\" tabindex=\"0\">\n",
      "                            <img class=\"media__image media__element b-lazy b-responsive b-loaded\" src=\"https://eta.lbl.gov/sites/default/files/styles/slideshow/public/slideshow_images/SP%20Cover_Web.jpg?itok=u6DKd1j9\" alt=\"Berkeley Lab Skyline Graphic\">\n",
      "\n",
      "live:\n",
      "                                           <div class=\"ytp-title-channel\">\n",
      "\n",
      "live:\n",
      "                                           <div class=\"ytp-title-channel\">\n",
      "\n",
      "archive:\n",
      "                         <div class=\"media media--blazy media--bundle--slideshow-carousel media--slick media--loading is-b-loading media--responsive media--image\" style=\"\" tabindex=\"0\">\n",
      "                            <img class=\"media__image media__element b-lazy b-responsive\" data-src=\"/sites/default/files/styles/slideshow/public/slideshow_images/SP%20Cover_Web.jpg?itok=u6DKd1j9\" src=\"data:image/svg+xml;charset=utf-8,%3Csvg%20xmlns%3D'http%3A%2F%2Fwww.w3.org%2F2000%2Fsvg'%20viewBox%3D'0%200%205000%202647'%2F%3E\" alt=\"Berkeley Lab Skyline Graphic\">\n",
      "\n",
      "archive:\n",
      "                                             <button class=\"ytp-watch-later-button ytp-button ytp-show-watch-later-title\" data-tooltip-opaque=\"true\" title=\"Watch later\" aria-label=\"Watch later\">\n",
      "                                              <div class=\"ytp-watch-later-icon\">\n",
      "                                                <svg height=\"100%\" version=\"1.1\" viewBox=\"0 0 36 36\" width=\"100%\">\n",
      "                                                  <path class=\"ytp-svg-fill\" d=\"M18,8 C12.47,8 8,12.47 8,18 C8,23.52 12.47,28 18,28 C23.52,28 28,23.52 28,18 C28,12.47 23.52,8 18,8 L18,8 Z M16,19.02 L16,12.00 L18,12.00 L18,17.86 L23.10,20.81 L22.10,22.54 L16,19.02 Z\" id=\"ytp-id-26\">\n",
      "                                                  <use class=\"ytp-svg-shadow\" xlink:href=\"#ytp-id-26\">\n",
      "                                              <div class=\"ytp-watch-later-title\">\n",
      "                                                Watch later\n",
      "\n"
     ]
    }
   ],
   "source": [
    "dirr = 'testcases/eta.lbl.gov_1/'\n",
    "\n",
    "live_element = json.load(open(f\"{dirr}/live_elements.json\"))\n",
    "archive_element = json.load(open(f\"{dirr}/archive_elements.json\"))\n",
    "# fidelity_check.verify( live_element, archive_element)\n",
    "live_unique, archive_unique = fidelity_check.diff(live_element, archive_element)\n",
    "print(len(live_unique), len(archive_unique))\n",
    "for i in live_unique:\n",
    "    print(\"live:\\n\", i)\n",
    "for i in archive_unique:\n",
    "    print(\"archive:\\n\", i)"
   ]
  },
  {
   "cell_type": "code",
   "execution_count": 99,
   "metadata": {},
   "outputs": [
    {
     "name": "stdout",
     "output_type": "stream",
     "text": [
      "{\n",
      "    \"live\": [\n",
      "        {\n",
      "            \"root\": \"<div class=\\\"media media--blazy media--bundle--slideshow-carousel media--slick media--responsive media--image is-b-loaded\\\" style=\\\"\\\" tabindex=\\\"0\\\">\",\n",
      "            \"numlines\": 2\n",
      "        },\n",
      "        {\n",
      "            \"root\": \"<div class=\\\"ytp-title-channel\\\">\",\n",
      "            \"numlines\": 1\n",
      "        },\n",
      "        {\n",
      "            \"root\": \"<div class=\\\"ytp-title-channel\\\">\",\n",
      "            \"numlines\": 1\n",
      "        }\n",
      "    ],\n",
      "    \"archive\": [\n",
      "        {\n",
      "            \"root\": \"<div class=\\\"media media--blazy media--bundle--slideshow-carousel media--slick media--loading is-b-loading media--responsive media--image\\\" style=\\\"\\\" tabindex=\\\"0\\\">\",\n",
      "            \"numlines\": 2\n",
      "        },\n",
      "        {\n",
      "            \"root\": \"<button class=\\\"ytp-watch-later-button ytp-button ytp-show-watch-later-title\\\" data-tooltip-opaque=\\\"true\\\" title=\\\"Watch later\\\" aria-label=\\\"Watch later\\\">\",\n",
      "            \"numlines\": 7\n",
      "        }\n",
      "    ]\n",
      "}\n"
     ]
    }
   ],
   "source": [
    "# * Generate testcase\n",
    "diff = {\"live\": [], \"archive\": []}\n",
    "for lu in live_unique:\n",
    "    first_line = lu.strip().split('\\n')[0]\n",
    "    diff['live'].append({\"root\": first_line, \"numlines\": len(lu.strip().split('\\n'))})\n",
    "for au in archive_unique:\n",
    "    first_line = au.strip().split('\\n')[0]\n",
    "    diff['archive'].append({\"root\": first_line, \"numlines\": len(au.strip().split('\\n'))})\n",
    "print(json.dumps(diff, indent=4))"
   ]
  }
 ],
 "metadata": {
  "kernelspec": {
   "display_name": "base",
   "language": "python",
   "name": "python3"
  },
  "language_info": {
   "codemirror_mode": {
    "name": "ipython",
    "version": 3
   },
   "file_extension": ".py",
   "mimetype": "text/x-python",
   "name": "python",
   "nbconvert_exporter": "python",
   "pygments_lexer": "ipython3",
   "version": "3.9.13"
  }
 },
 "nbformat": 4,
 "nbformat_minor": 2
}

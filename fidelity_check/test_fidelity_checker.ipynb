{
 "cells": [
  {
   "cell_type": "code",
   "execution_count": 1,
   "metadata": {},
   "outputs": [],
   "source": [
    "%load_ext autoreload\n",
    "%autoreload 2"
   ]
  },
  {
   "cell_type": "code",
   "execution_count": 10,
   "metadata": {},
   "outputs": [],
   "source": [
    "import json\n",
    "import pandas as pd\n",
    "import os\n",
    "import sys\n",
    "sys.path.append('.')\n",
    "import difflib\n",
    "import find_diff_writes"
   ]
  },
  {
   "cell_type": "code",
   "execution_count": 4,
   "metadata": {},
   "outputs": [],
   "source": [
    "screenshot_similarity = json.load(open(\"../record_replay/screenshots/onload_screenshot_similarity.json\", 'r'))\n",
    "screenshot_similarity = {s['directory']: s['screenshot_similarity'] for s in screenshot_similarity for s in screenshot_similarity}"
   ]
  },
  {
   "cell_type": "code",
   "execution_count": 6,
   "metadata": {},
   "outputs": [],
   "source": [
    "def check_fidelity(dirr):\n",
    "    screenshot_simi = screenshot_similarity[dirr.split('/')[-1]]\n",
    "    live_html = open(f\"{dirr}/live.html\").read()\n",
    "    archive_html = open(f\"{dirr}/archive.html\").read()\n",
    "    live_element = json.load(open(f\"{dirr}/live_elements.json\"))\n",
    "    archive_element = json.load(open(f\"{dirr}/archive_elements.json\"))\n",
    "    my_fidelity = fidelity_check.verify(live_html, live_element, archive_html, archive_element)\n",
    "    print(screenshot_simi >= 1, my_fidelity)\n",
    "\n",
    "# check_fidelity('testcases/theftaz.azag.gov_1')"
   ]
  },
  {
   "cell_type": "markdown",
   "metadata": {},
   "source": [
    "#### Test difflib"
   ]
  },
  {
   "cell_type": "code",
   "execution_count": 27,
   "metadata": {},
   "outputs": [
    {
     "name": "stdout",
     "output_type": "stream",
     "text": [
      "/a/b /a/b True\n"
     ]
    },
    {
     "data": {
      "text/plain": [
       "True"
      ]
     },
     "execution_count": 27,
     "metadata": {},
     "output_type": "execute_result"
    }
   ],
   "source": [
    "e1 = fidelity_check.htmlElement({'xpath': '/a/b', 'text': 'hello'})\n",
    "e2 = fidelity_check.htmlElement({'xpath': '/a/b', 'text': 'hello'})\n",
    "e1 == e2"
   ]
  },
  {
   "cell_type": "markdown",
   "metadata": {},
   "source": [
    "## Check archive differences"
   ]
  },
  {
   "cell_type": "code",
   "execution_count": 10,
   "metadata": {},
   "outputs": [
    {
     "name": "stdout",
     "output_type": "stream",
     "text": [
      "live_unique number [2, 1, 1, 1, 1, 1, 1, 1]\n",
      "archive_unique number [2, 1, 1, 1, 1, 1, 7, 1]\n",
      "8 8\n",
      "live:\n",
      " ['/html[1]/body[1]/div[2]/div[2]/section[1]/div[3]/div[3]/article[1]/div[1]/div[1]/div[1]/div[1]/div[1]/div[1]', '/html[1]/body[1]/div[2]/div[2]/section[1]/div[3]/div[3]/article[1]/div[1]/div[1]/div[1]/div[1]/div[1]/div[1]/picture[1]/img[1]']\n",
      "live:\n",
      " ['/html[1]/body[1]/div[2]/div[2]/section[1]/div[3]/div[3]/article[1]/div[1]/div[1]/div[5]/div[1]/div[1]/div[2]/div[1]/div[1]/div[1]/iframe[1]/html[1]/body[1]/div[1]/div[1]/a[1]/div[1]/div[2]/svg[1]/path[1]']\n",
      "live:\n",
      " ['/html[1]/body[1]/div[2]/div[2]/section[1]/div[3]/div[3]/article[1]/div[1]/div[1]/div[5]/div[1]/div[1]/div[2]/div[1]/div[1]/div[1]/iframe[1]/html[1]/body[1]/div[1]/div[1]/a[1]/div[1]/div[2]/svg[1]/use[1]']\n",
      "live:\n",
      " ['/html[1]/body[1]/div[2]/div[2]/section[1]/div[3]/div[3]/article[1]/div[1]/div[1]/div[5]/div[1]/div[1]/div[2]/div[1]/div[1]/div[1]/iframe[1]/html[1]/body[1]/div[1]/div[1]/div[3]/div[1]/div[1]']\n",
      "live:\n",
      " ['/html[1]/body[1]/div[2]/div[2]/section[1]/div[3]/div[3]/article[1]/div[1]/div[1]/div[5]/div[1]/div[1]/div[2]/div[1]/div[1]/div[1]/iframe[1]/html[1]/body[1]/div[1]/div[1]/div[4]']\n",
      "live:\n",
      " ['/html[1]/body[1]/div[2]/div[2]/section[1]/div[3]/div[3]/article[1]/div[1]/div[1]/div[9]/div[1]/div[1]/div[2]/div[1]/div[1]/div[1]/iframe[1]/html[1]/body[1]/div[1]/div[1]/a[1]/div[1]/div[2]/svg[1]/path[1]']\n",
      "live:\n",
      " ['/html[1]/body[1]/div[2]/div[2]/section[1]/div[3]/div[3]/article[1]/div[1]/div[1]/div[9]/div[1]/div[1]/div[2]/div[1]/div[1]/div[1]/iframe[1]/html[1]/body[1]/div[1]/div[1]/a[1]/div[1]/div[2]/svg[1]/use[1]']\n",
      "live:\n",
      " ['/html[1]/body[1]/div[2]/div[2]/section[1]/div[3]/div[3]/article[1]/div[1]/div[1]/div[9]/div[1]/div[1]/div[2]/div[1]/div[1]/div[1]/iframe[1]/html[1]/body[1]/div[1]/div[1]/div[4]']\n",
      "archive:\n",
      " ['/html[1]/body[1]/div[2]/div[2]/section[1]/div[3]/div[3]/article[1]/div[1]/div[1]/div[1]/div[1]/div[1]/div[1]', '/html[1]/body[1]/div[2]/div[2]/section[1]/div[3]/div[3]/article[1]/div[1]/div[1]/div[1]/div[1]/div[1]/div[1]/picture[1]/img[1]']\n",
      "archive:\n",
      " ['/html[1]/body[1]/div[2]/div[2]/section[1]/div[3]/div[3]/article[1]/div[1]/div[1]/div[5]/div[1]/div[1]/div[2]/div[1]/div[1]/div[1]/iframe[1]/html[1]/body[1]/div[1]/div[1]/a[1]/div[1]/div[2]/svg[1]/path[1]']\n",
      "archive:\n",
      " ['/html[1]/body[1]/div[2]/div[2]/section[1]/div[3]/div[3]/article[1]/div[1]/div[1]/div[5]/div[1]/div[1]/div[2]/div[1]/div[1]/div[1]/iframe[1]/html[1]/body[1]/div[1]/div[1]/a[1]/div[1]/div[2]/svg[1]/use[1]']\n",
      "archive:\n",
      " ['/html[1]/body[1]/div[2]/div[2]/section[1]/div[3]/div[3]/article[1]/div[1]/div[1]/div[5]/div[1]/div[1]/div[2]/div[1]/div[1]/div[1]/iframe[1]/html[1]/body[1]/div[1]/div[1]/div[4]']\n",
      "archive:\n",
      " ['/html[1]/body[1]/div[2]/div[2]/section[1]/div[3]/div[3]/article[1]/div[1]/div[1]/div[9]/div[1]/div[1]/div[2]/div[1]/div[1]/div[1]/iframe[1]/html[1]/body[1]/div[1]/div[1]/a[1]/div[1]/div[2]/svg[1]/path[1]']\n",
      "archive:\n",
      " ['/html[1]/body[1]/div[2]/div[2]/section[1]/div[3]/div[3]/article[1]/div[1]/div[1]/div[9]/div[1]/div[1]/div[2]/div[1]/div[1]/div[1]/iframe[1]/html[1]/body[1]/div[1]/div[1]/a[1]/div[1]/div[2]/svg[1]/use[1]']\n",
      "archive:\n",
      " ['/html[1]/body[1]/div[2]/div[2]/section[1]/div[3]/div[3]/article[1]/div[1]/div[1]/div[9]/div[1]/div[1]/div[2]/div[1]/div[1]/div[1]/iframe[1]/html[1]/body[1]/div[1]/div[1]/div[3]/div[4]/button[2]', '/html[1]/body[1]/div[2]/div[2]/section[1]/div[3]/div[3]/article[1]/div[1]/div[1]/div[9]/div[1]/div[1]/div[2]/div[1]/div[1]/div[1]/iframe[1]/html[1]/body[1]/div[1]/div[1]/div[3]/div[4]/button[2]/div[1]', '/html[1]/body[1]/div[2]/div[2]/section[1]/div[3]/div[3]/article[1]/div[1]/div[1]/div[9]/div[1]/div[1]/div[2]/div[1]/div[1]/div[1]/iframe[1]/html[1]/body[1]/div[1]/div[1]/div[3]/div[4]/button[2]/div[1]/svg[1]', '/html[1]/body[1]/div[2]/div[2]/section[1]/div[3]/div[3]/article[1]/div[1]/div[1]/div[9]/div[1]/div[1]/div[2]/div[1]/div[1]/div[1]/iframe[1]/html[1]/body[1]/div[1]/div[1]/div[3]/div[4]/button[2]/div[1]/svg[1]/path[1]', '/html[1]/body[1]/div[2]/div[2]/section[1]/div[3]/div[3]/article[1]/div[1]/div[1]/div[9]/div[1]/div[1]/div[2]/div[1]/div[1]/div[1]/iframe[1]/html[1]/body[1]/div[1]/div[1]/div[3]/div[4]/button[2]/div[1]/svg[1]/use[1]', '/html[1]/body[1]/div[2]/div[2]/section[1]/div[3]/div[3]/article[1]/div[1]/div[1]/div[9]/div[1]/div[1]/div[2]/div[1]/div[1]/div[1]/iframe[1]/html[1]/body[1]/div[1]/div[1]/div[3]/div[4]/button[2]/div[2]', '/html[1]/body[1]/div[2]/div[2]/section[1]/div[3]/div[3]/article[1]/div[1]/div[1]/div[9]/div[1]/div[1]/div[2]/div[1]/div[1]/div[1]/iframe[1]/html[1]/body[1]/div[1]/div[1]/div[3]/div[4]/button[2]/div[2]/#text[1]']\n",
      "archive:\n",
      " ['/html[1]/body[1]/div[2]/div[2]/section[1]/div[3]/div[3]/article[1]/div[1]/div[1]/div[9]/div[1]/div[1]/div[2]/div[1]/div[1]/div[1]/iframe[1]/html[1]/body[1]/div[1]/div[1]/div[4]']\n"
     ]
    }
   ],
   "source": [
    "dirr = 'testcases/www.slideshare.net_1'\n",
    "dirr = '../execution_match/examples/eta.lbl.gov_2'\n",
    "\n",
    "live_element = json.load(open(f\"{dirr}/live_elements.json\"))\n",
    "archive_element = json.load(open(f\"{dirr}/archive_elements.json\"))\n",
    "# fidelity_check.verify( live_element, archive_element)\n",
    "live_unique, archive_unique = fidelity_check.diff(live_element, archive_element, returnHTML=False)\n",
    "print(len(live_unique), len(archive_unique))\n",
    "for i in live_unique:\n",
    "    print(\"live:\\n\", i)\n",
    "for i in archive_unique:\n",
    "    print(\"archive:\\n\", i)"
   ]
  },
  {
   "cell_type": "code",
   "execution_count": 99,
   "metadata": {},
   "outputs": [
    {
     "name": "stdout",
     "output_type": "stream",
     "text": [
      "{\n",
      "    \"live\": [\n",
      "        {\n",
      "            \"root\": \"<div class=\\\"media media--blazy media--bundle--slideshow-carousel media--slick media--responsive media--image is-b-loaded\\\" style=\\\"\\\" tabindex=\\\"0\\\">\",\n",
      "            \"numlines\": 2\n",
      "        },\n",
      "        {\n",
      "            \"root\": \"<div class=\\\"ytp-title-channel\\\">\",\n",
      "            \"numlines\": 1\n",
      "        },\n",
      "        {\n",
      "            \"root\": \"<div class=\\\"ytp-title-channel\\\">\",\n",
      "            \"numlines\": 1\n",
      "        }\n",
      "    ],\n",
      "    \"archive\": [\n",
      "        {\n",
      "            \"root\": \"<div class=\\\"media media--blazy media--bundle--slideshow-carousel media--slick media--loading is-b-loading media--responsive media--image\\\" style=\\\"\\\" tabindex=\\\"0\\\">\",\n",
      "            \"numlines\": 2\n",
      "        },\n",
      "        {\n",
      "            \"root\": \"<button class=\\\"ytp-watch-later-button ytp-button ytp-show-watch-later-title\\\" data-tooltip-opaque=\\\"true\\\" title=\\\"Watch later\\\" aria-label=\\\"Watch later\\\">\",\n",
      "            \"numlines\": 7\n",
      "        }\n",
      "    ]\n",
      "}\n"
     ]
    }
   ],
   "source": [
    "# * Generate testcase\n",
    "diff = {\"live\": [], \"archive\": []}\n",
    "for lu in live_unique:\n",
    "    first_line = lu.strip().split('\\n')[0]\n",
    "    diff['live'].append({\"root\": first_line, \"numlines\": len(lu.strip().split('\\n'))})\n",
    "for au in archive_unique:\n",
    "    first_line = au.strip().split('\\n')[0]\n",
    "    diff['archive'].append({\"root\": first_line, \"numlines\": len(au.strip().split('\\n'))})\n",
    "print(json.dumps(diff, indent=4))"
   ]
  },
  {
   "cell_type": "markdown",
   "metadata": {},
   "source": [
    "### Check the assumption of archive's writes are always a subset of live"
   ]
  },
  {
   "cell_type": "code",
   "execution_count": 14,
   "metadata": {},
   "outputs": [
    {
     "name": "stdout",
     "output_type": "stream",
     "text": [
      "live_unique number []\n",
      "archive_unique number [2, 2, 2, 2, 2, 2]\n",
      "nimhd.nih.gov_1 [] [0, 0, 0, 0, 0, 0]\n"
     ]
    },
    {
     "name": "stderr",
     "output_type": "stream",
     "text": [
      "/home/jingyz/anaconda3/lib/python3.9/site-packages/bs4/__init__.py:404: MarkupResemblesLocatorWarning: The input looks more like a URL than markup. You may want to use an HTTP client like requests to get the document behind the URL, and feed that document to Beautiful Soup.\n",
      "  warnings.warn(\n"
     ]
    },
    {
     "name": "stdout",
     "output_type": "stream",
     "text": [
      "live_unique number [2, 1, 1]\n",
      "archive_unique number [2, 1, 7, 1]\n",
      "eta.lbl.gov_1 [5, 0, 0] [0, 0, 0, 0]\n",
      "live_unique number [11, 9, 1, 1]\n",
      "archive_unique number [1, 1]\n",
      "www.slideshare.net_1 [22, 22, 1, 1] [0, 0]\n",
      "live_unique number [11, 7, 1, 1, 1, 1, 47]\n",
      "archive_unique number [11, 7, 1, 1, 1, 1, 36]\n",
      "www.nato.int_1 [150, 90, 0, 0, 0, 0, 274] [0, 0, 0, 0, 0, 0, 0]\n",
      "live_unique number [2, 3, 1, 3, 3, 3, 2, 2, 2, 2, 2, 2, 2, 2, 2, 2, 2, 1]\n",
      "archive_unique number [2, 1]\n",
      "www.sewp.nasa.gov_1 [0, 0, 0, 0, 0, 0, 0, 0, 0, 0, 0, 0, 0, 0, 0, 0, 0, 0] [0, 0]\n",
      "live_unique number [1, 3, 1, 1, 1, 1, 1, 1, 1, 1, 1, 1, 1, 1, 1, 1, 1, 1, 1, 1, 1, 61, 1, 1]\n",
      "archive_unique number [1, 3, 1, 1, 1, 1, 1, 1, 1, 1, 1, 1, 1, 1, 1, 1, 1, 1, 1, 1, 1, 47, 1, 1]\n",
      "dra.gov_1 [0, 4, 2, 1, 1, 1, 0, 0, 0, 0, 0, 0, 0, 0, 0, 0, 0, 0, 1, 1, 1, 72, 6, 6] [0, 0, 0, 0, 0, 0, 0, 0, 0, 0, 0, 0, 0, 0, 0, 0, 0, 0, 0, 0, 0, 0, 0, 0]\n",
      "live_unique number [4, 1, 1, 1, 1, 1, 1]\n",
      "archive_unique number [2, 1, 1, 2, 1, 1, 6, 1, 1, 5, 1, 1, 1, 1, 1, 1, 1, 1, 1, 1, 1, 2, 5]\n"
     ]
    },
    {
     "name": "stderr",
     "output_type": "stream",
     "text": [
      "/home/jingyz/anaconda3/lib/python3.9/site-packages/bs4/builder/__init__.py:545: XMLParsedAsHTMLWarning: It looks like you're parsing an XML document using an HTML parser. If this really is an HTML document (maybe it's XHTML?), you can ignore or filter this warning. If it's XML, you should know that using an XML parser will be more reliable. To parse this document as XML, make sure you have the lxml package installed, and pass the keyword argument `features=\"xml\"` into the BeautifulSoup constructor.\n",
      "  warnings.warn(\n"
     ]
    },
    {
     "name": "stdout",
     "output_type": "stream",
     "text": [
      "www.globe.gov_1 [7, 0, 0, 1, 1, 0, 0] [0, 0, 0, 0, 0, 0, 0, 0, 0, 0, 0, 0, 0, 0, 0, 0, 0, 0, 0, 0, 0, 2, 3]\n"
     ]
    }
   ],
   "source": [
    "dirs = os.listdir('../record_replay/writes')\n",
    "for dirr in dirs:\n",
    "    key_writes = find_diff_writes.locate_key_writes(f'../record_replay/writes/{dirr}')\n",
    "    live_additional = [len(w['key_related_writes']) for w in key_writes['live']]\n",
    "    archive_additional = [len(w['key_related_writes']) for w in key_writes['archive']]\n",
    "    print(dirr)\n",
    "    print('live:', live_additional)\n",
    "    print('archive:' archive_additional)\n",
    "    print('\\n')"
   ]
  }
 ],
 "metadata": {
  "kernelspec": {
   "display_name": "base",
   "language": "python",
   "name": "python3"
  },
  "language_info": {
   "codemirror_mode": {
    "name": "ipython",
    "version": 3
   },
   "file_extension": ".py",
   "mimetype": "text/x-python",
   "name": "python",
   "nbconvert_exporter": "python",
   "pygments_lexer": "ipython3",
   "version": "3.9.13"
  }
 },
 "nbformat": 4,
 "nbformat_minor": 2
}

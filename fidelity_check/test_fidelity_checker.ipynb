{
 "cells": [
  {
   "cell_type": "code",
   "execution_count": 1,
   "metadata": {},
   "outputs": [],
   "source": [
    "%load_ext autoreload\n",
    "%autoreload 2"
   ]
  },
  {
   "cell_type": "code",
   "execution_count": 8,
   "metadata": {},
   "outputs": [],
   "source": [
    "import json\n",
    "import pandas as pd\n",
    "import sys\n",
    "import difflib\n",
    "sys.path.append(\"../\")\n",
    "from utils import fidelity_check"
   ]
  },
  {
   "cell_type": "code",
   "execution_count": 3,
   "metadata": {},
   "outputs": [],
   "source": [
    "screenshot_similarity = json.load(open(\"../record_replay/screenshots/onload_screenshot_similarity.json\", 'r'))\n",
    "screenshot_similarity = {s['directory']: s['screenshot_similarity'] for s in screenshot_similarity for s in screenshot_similarity}"
   ]
  },
  {
   "cell_type": "code",
   "execution_count": 6,
   "metadata": {},
   "outputs": [],
   "source": [
    "def check_fidelity(dirr):\n",
    "    screenshot_simi = screenshot_similarity[dirr.split('/')[-1]]\n",
    "    live_html = open(f\"{dirr}/live.html\").read()\n",
    "    archive_html = open(f\"{dirr}/archive.html\").read()\n",
    "    live_element = json.load(open(f\"{dirr}/live_elements.json\"))\n",
    "    archive_element = json.load(open(f\"{dirr}/archive_elements.json\"))\n",
    "    my_fidelity = fidelity_check.verify(live_html, live_element, archive_html, archive_element)\n",
    "    print(screenshot_simi >= 1, my_fidelity)\n",
    "\n",
    "# check_fidelity('testcases/theftaz.azag.gov_1')"
   ]
  },
  {
   "cell_type": "markdown",
   "metadata": {},
   "source": [
    "#### Test difflib"
   ]
  },
  {
   "cell_type": "code",
   "execution_count": 27,
   "metadata": {},
   "outputs": [
    {
     "name": "stdout",
     "output_type": "stream",
     "text": [
      "/a/b /a/b True\n"
     ]
    },
    {
     "data": {
      "text/plain": [
       "True"
      ]
     },
     "execution_count": 27,
     "metadata": {},
     "output_type": "execute_result"
    }
   ],
   "source": [
    "e1 = fidelity_check.htmlElement({'xpath': '/a/b', 'text': 'hello'})\n",
    "e2 = fidelity_check.htmlElement({'xpath': '/a/b', 'text': 'hello'})\n",
    "e1 == e2"
   ]
  },
  {
   "cell_type": "markdown",
   "metadata": {},
   "source": [
    "## Check archive differences"
   ]
  },
  {
   "cell_type": "code",
   "execution_count": 64,
   "metadata": {},
   "outputs": [
    {
     "name": "stdout",
     "output_type": "stream",
     "text": [
      "2 0\n",
      "live:\n",
      "   <div role=\"dialog\" id=\"0d65c1f7-d305-4e2f-a572-5cbc31c158a3\" aria-label=\"Cookie Consent Banner\" aria-describedby=\"0d65c1f7-d305-4e2f-a572-5cbc31c158a3__label\" class=\"osano-cm-window__dialog osano-cm-dialog osano-cm-dialog--position_bottom-right osano-cm-dialog--type_box\">\n",
      "    <button class=\" osano-cm-dialog__close osano-cm-close \">\n",
      "      <svg width=\"20px\" height=\"20px\" viewBox=\"0 0 20 20\" role=\"img\" aria-labelledby=\"419aab7f-534c-4264-a1fc-ed2d3ac7a889\">\n",
      "        <line role=\"presentation\" x1=\"2\" y1=\"2\" x2=\"18\" y2=\"18\">\n",
      "        <line role=\"presentation\" x1=\"2\" y1=\"18\" x2=\"18\" y2=\"2\">\n",
      "    <div class=\" osano-cm-dialog__content osano-cm-content \">\n",
      "      <a rel=\"noopener\" tabindex=\"0\" href=\"https://www.slideshare.net/privacy\" target=\"_blank\" class=\" osano-cm-storage-policy osano-cm-content__link osano-cm-link \" aria-describedby=\"osano-cm-aria.newWindow\">\n",
      "        Cookie Policy\n",
      "      <span id=\"0d65c1f7-d305-4e2f-a572-5cbc31c158a3__label\" class=\" osano-cm-content__message osano-cm-message \">\n",
      "        This website utilizes technologies such as cookies to enable essential site functionality, as well as for analytics, personalization, and targeted advertising purposes.\n",
      "        To learn more, view the following link:\n",
      "\n",
      "live:\n",
      "   <div role=\"dialog\" aria-modal=\"true\" id=\"9f206881-ad6c-4105-a892-89be99b8f42d\" aria-labelledby=\"9f206881-ad6c-4105-a892-89be99b8f42d__label\" aria-hidden=\"true\" class=\" osano-cm-window__info-dialog osano-cm-info-dialog osano-cm-info-dialog--hidden \">\n",
      "    <div role=\"presentation\" class=\" osano-cm-info-dialog__info osano-cm-info osano-cm-info--position_right \">\n",
      "      <div role=\"presentation\" class=\" osano-cm-info__info-dialog-header osano-cm-info-dialog-header \">\n",
      "        <button class=\" osano-cm-info-dialog-header__close osano-cm-close \">\n",
      "          <svg width=\"20px\" height=\"20px\" viewBox=\"0 0 20 20\" role=\"img\" aria-labelledby=\"9b03f7e9-8c9c-4e5c-a599-102f749aa97a\">\n",
      "            <line role=\"presentation\" x1=\"2\" y1=\"2\" x2=\"18\" y2=\"18\">\n",
      "            <line role=\"presentation\" x1=\"2\" y1=\"18\" x2=\"18\" y2=\"2\">\n",
      "        <p role=\"heading\" aria-level=\"1\" id=\"9f206881-ad6c-4105-a892-89be99b8f42d__label\" class=\" osano-cm-info-dialog-header__header osano-cm-header \">\n",
      "      <div role=\"presentation\" class=\" osano-cm-info__info-views osano-cm-info-views osano-cm-info-views--hidden osano-cm-info-views--position_0 \">\n",
      "\n"
     ]
    }
   ],
   "source": [
    "dirr = 'testcases/www.slideshare.net_1'\n",
    "\n",
    "live_element = json.load(open(f\"{dirr}/live_elements.json\"))\n",
    "archive_element = json.load(open(f\"{dirr}/archive_elements.json\"))\n",
    "# fidelity_check.verify( live_element, archive_element)\n",
    "live_unique, archive_unique = fidelity_check.diff(live_element, archive_element)\n",
    "print(len(live_unique), len(archive_unique))\n",
    "for i in live_unique:\n",
    "    print(\"live:\\n\", i)\n",
    "for i in archive_unique:\n",
    "    print(\"archive:\\n\", i)"
   ]
  }
 ],
 "metadata": {
  "kernelspec": {
   "display_name": "base",
   "language": "python",
   "name": "python3"
  },
  "language_info": {
   "codemirror_mode": {
    "name": "ipython",
    "version": 3
   },
   "file_extension": ".py",
   "mimetype": "text/x-python",
   "name": "python",
   "nbconvert_exporter": "python",
   "pygments_lexer": "ipython3",
   "version": "3.9.13"
  }
 },
 "nbformat": 4,
 "nbformat_minor": 2
}

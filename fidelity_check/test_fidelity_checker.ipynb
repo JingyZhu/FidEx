{
 "cells": [
  {
   "cell_type": "code",
   "execution_count": 2,
   "metadata": {},
   "outputs": [],
   "source": [
    "%load_ext autoreload\n",
    "%autoreload 2"
   ]
  },
  {
   "cell_type": "code",
   "execution_count": 8,
   "metadata": {},
   "outputs": [],
   "source": [
    "import json\n",
    "import pandas as pd\n",
    "import os\n",
    "import sys\n",
    "import cv2\n",
    "sys.path.append('..')\n",
    "import matplotlib.pyplot as plt\n",
    "from fidelity_check import find_diff_writes"
   ]
  },
  {
   "cell_type": "markdown",
   "metadata": {},
   "source": [
    "### Check the assumption of archive's writes are always a subset of live"
   ]
  },
  {
   "cell_type": "markdown",
   "metadata": {},
   "source": [
    "### Fidelity check"
   ]
  },
  {
   "cell_type": "code",
   "execution_count": 39,
   "metadata": {},
   "outputs": [
    {
     "name": "stdout",
     "output_type": "stream",
     "text": [
      "fixedIdx -1\n"
     ]
    },
    {
     "ename": "FileNotFoundError",
     "evalue": "[Errno 2] No such file or directory: '../revert_rewrite/writes/lni.wa.gov_12080/exception_-1_elements.json'",
     "output_type": "error",
     "traceback": [
      "\u001b[0;31m---------------------------------------------------------------------------\u001b[0m",
      "\u001b[0;31mFileNotFoundError\u001b[0m                         Traceback (most recent call last)",
      "\u001b[0;32m<ipython-input-39-206dad6de3b6>\u001b[0m in \u001b[0;36m<module>\u001b[0;34m\u001b[0m\n\u001b[1;32m      4\u001b[0m \u001b[0mleft\u001b[0m \u001b[0;34m=\u001b[0m \u001b[0;34m'initial'\u001b[0m\u001b[0;34m\u001b[0m\u001b[0;34m\u001b[0m\u001b[0m\n\u001b[1;32m      5\u001b[0m \u001b[0mright\u001b[0m \u001b[0;34m=\u001b[0m \u001b[0;34mf'exception_{fixedIdx}'\u001b[0m\u001b[0;34m\u001b[0m\u001b[0;34m\u001b[0m\u001b[0m\n\u001b[0;32m----> 6\u001b[0;31m \u001b[0missue\u001b[0m\u001b[0;34m,\u001b[0m \u001b[0;34m(\u001b[0m\u001b[0mleft_u\u001b[0m\u001b[0;34m,\u001b[0m \u001b[0mright_u\u001b[0m\u001b[0;34m)\u001b[0m \u001b[0;34m=\u001b[0m \u001b[0mfind_diff_writes\u001b[0m\u001b[0;34m.\u001b[0m\u001b[0mfidelity_issue\u001b[0m\u001b[0;34m(\u001b[0m\u001b[0mdirr\u001b[0m\u001b[0;34m,\u001b[0m \u001b[0mleft\u001b[0m\u001b[0;34m,\u001b[0m \u001b[0mright\u001b[0m\u001b[0;34m)\u001b[0m\u001b[0;34m\u001b[0m\u001b[0;34m\u001b[0m\u001b[0m\n\u001b[0m\u001b[1;32m      7\u001b[0m \u001b[0mprint\u001b[0m\u001b[0;34m(\u001b[0m\u001b[0missue\u001b[0m\u001b[0;34m)\u001b[0m\u001b[0;34m\u001b[0m\u001b[0;34m\u001b[0m\u001b[0m\n\u001b[1;32m      8\u001b[0m \u001b[0mprint\u001b[0m\u001b[0;34m(\u001b[0m\u001b[0mjson\u001b[0m\u001b[0;34m.\u001b[0m\u001b[0mdumps\u001b[0m\u001b[0;34m(\u001b[0m\u001b[0mleft_u\u001b[0m\u001b[0;34m,\u001b[0m \u001b[0mindent\u001b[0m\u001b[0;34m=\u001b[0m\u001b[0;36m2\u001b[0m\u001b[0;34m)\u001b[0m\u001b[0;34m)\u001b[0m\u001b[0;34m\u001b[0m\u001b[0;34m\u001b[0m\u001b[0m\n",
      "\u001b[0;32m/vault-swift/jingyz/archive-fidelity/fidelity_check/find_diff_writes.py\u001b[0m in \u001b[0;36mfidelity_issue\u001b[0;34m(dirr, left_prefix, right_prefix)\u001b[0m\n\u001b[1;32m     17\u001b[0m \u001b[0;32mdef\u001b[0m \u001b[0mfidelity_issue\u001b[0m\u001b[0;34m(\u001b[0m\u001b[0mdirr\u001b[0m\u001b[0;34m,\u001b[0m \u001b[0mleft_prefix\u001b[0m\u001b[0;34m=\u001b[0m\u001b[0;34m'live'\u001b[0m\u001b[0;34m,\u001b[0m \u001b[0mright_prefix\u001b[0m\u001b[0;34m=\u001b[0m\u001b[0;34m'archive'\u001b[0m\u001b[0;34m)\u001b[0m \u001b[0;34m->\u001b[0m \u001b[0;34m(\u001b[0m\u001b[0mbool\u001b[0m\u001b[0;34m,\u001b[0m \u001b[0;34m(\u001b[0m\u001b[0mlist\u001b[0m\u001b[0;34m,\u001b[0m \u001b[0mlist\u001b[0m\u001b[0;34m)\u001b[0m\u001b[0;34m)\u001b[0m\u001b[0;34m:\u001b[0m\u001b[0;34m\u001b[0m\u001b[0;34m\u001b[0m\u001b[0m\n\u001b[1;32m     18\u001b[0m     \u001b[0;34m\"\"\"Returns: (if fidelity issue, detailed unique elements in live and archive)\"\"\"\u001b[0m\u001b[0;34m\u001b[0m\u001b[0;34m\u001b[0m\u001b[0m\n\u001b[0;32m---> 19\u001b[0;31m     \u001b[0mleft_unique\u001b[0m\u001b[0;34m,\u001b[0m \u001b[0mright_unique\u001b[0m \u001b[0;34m=\u001b[0m \u001b[0mfind_diff_elements\u001b[0m\u001b[0;34m(\u001b[0m\u001b[0mdirr\u001b[0m\u001b[0;34m,\u001b[0m \u001b[0;34mf'{left_prefix}_elements'\u001b[0m\u001b[0;34m,\u001b[0m \u001b[0;34mf'{right_prefix}_elements'\u001b[0m\u001b[0;34m)\u001b[0m\u001b[0;34m\u001b[0m\u001b[0;34m\u001b[0m\u001b[0m\n\u001b[0m\u001b[1;32m     20\u001b[0m     \u001b[0;32mreturn\u001b[0m \u001b[0mlen\u001b[0m\u001b[0;34m(\u001b[0m\u001b[0mleft_unique\u001b[0m\u001b[0;34m)\u001b[0m \u001b[0;34m+\u001b[0m \u001b[0mlen\u001b[0m\u001b[0;34m(\u001b[0m\u001b[0mright_unique\u001b[0m\u001b[0;34m)\u001b[0m \u001b[0;34m>\u001b[0m \u001b[0;36m0\u001b[0m\u001b[0;34m,\u001b[0m \u001b[0;34m(\u001b[0m\u001b[0mleft_unique\u001b[0m\u001b[0;34m,\u001b[0m \u001b[0mright_unique\u001b[0m\u001b[0;34m)\u001b[0m\u001b[0;34m\u001b[0m\u001b[0;34m\u001b[0m\u001b[0m\n\u001b[1;32m     21\u001b[0m \u001b[0;34m\u001b[0m\u001b[0m\n",
      "\u001b[0;32m/vault-swift/jingyz/archive-fidelity/fidelity_check/find_diff_writes.py\u001b[0m in \u001b[0;36mfind_diff_elements\u001b[0;34m(dirr, left_file, right_file)\u001b[0m\n\u001b[1;32m     11\u001b[0m     \"\"\"\n\u001b[1;32m     12\u001b[0m     \u001b[0mleft_element\u001b[0m \u001b[0;34m=\u001b[0m \u001b[0mjson\u001b[0m\u001b[0;34m.\u001b[0m\u001b[0mload\u001b[0m\u001b[0;34m(\u001b[0m\u001b[0mopen\u001b[0m\u001b[0;34m(\u001b[0m\u001b[0;34mf\"{dirr}/{left_file}.json\"\u001b[0m\u001b[0;34m)\u001b[0m\u001b[0;34m)\u001b[0m\u001b[0;34m\u001b[0m\u001b[0;34m\u001b[0m\u001b[0m\n\u001b[0;32m---> 13\u001b[0;31m     \u001b[0mright_element\u001b[0m \u001b[0;34m=\u001b[0m \u001b[0mjson\u001b[0m\u001b[0;34m.\u001b[0m\u001b[0mload\u001b[0m\u001b[0;34m(\u001b[0m\u001b[0mopen\u001b[0m\u001b[0;34m(\u001b[0m\u001b[0;34mf\"{dirr}/{right_file}.json\"\u001b[0m\u001b[0;34m)\u001b[0m\u001b[0;34m)\u001b[0m\u001b[0;34m\u001b[0m\u001b[0;34m\u001b[0m\u001b[0m\n\u001b[0m\u001b[1;32m     14\u001b[0m     \u001b[0mleft_unique\u001b[0m\u001b[0;34m,\u001b[0m \u001b[0mright_unique\u001b[0m \u001b[0;34m=\u001b[0m \u001b[0mcheck_utils\u001b[0m\u001b[0;34m.\u001b[0m\u001b[0mdiff\u001b[0m\u001b[0;34m(\u001b[0m\u001b[0mleft_element\u001b[0m\u001b[0;34m,\u001b[0m \u001b[0mright_element\u001b[0m\u001b[0;34m,\u001b[0m \u001b[0mreturnHTML\u001b[0m\u001b[0;34m=\u001b[0m\u001b[0;32mFalse\u001b[0m\u001b[0;34m)\u001b[0m\u001b[0;34m\u001b[0m\u001b[0;34m\u001b[0m\u001b[0m\n\u001b[1;32m     15\u001b[0m     \u001b[0;32mreturn\u001b[0m \u001b[0mleft_unique\u001b[0m\u001b[0;34m,\u001b[0m \u001b[0mright_unique\u001b[0m\u001b[0;34m\u001b[0m\u001b[0;34m\u001b[0m\u001b[0m\n",
      "\u001b[0;31mFileNotFoundError\u001b[0m: [Errno 2] No such file or directory: '../revert_rewrite/writes/lni.wa.gov_12080/exception_-1_elements.json'"
     ]
    }
   ],
   "source": [
    "dirr = '../revert_rewrite/writes/lni.wa.gov_12080'\n",
    "fixedIdx = json.load(open(os.path.join(dirr, 'result_log.json'), 'r'))[\"fixedIdx\"]\n",
    "print(\"fixedIdx\", fixedIdx)\n",
    "left = 'initial'\n",
    "right = f'exception_{fixedIdx}'\n",
    "issue, (left_u, right_u) = find_diff_writes.fidelity_issue(dirr, left, right)\n",
    "print(issue)\n",
    "print(json.dumps(left_u, indent=2))\n",
    "print(json.dumps(right_u, indent=2))\n"
   ]
  },
  {
   "cell_type": "markdown",
   "metadata": {},
   "source": [
    "### Screenshot similarity"
   ]
  },
  {
   "cell_type": "code",
   "execution_count": 35,
   "metadata": {},
   "outputs": [
    {
     "name": "stdout",
     "output_type": "stream",
     "text": [
      "0.9981350405808179\n"
     ]
    },
    {
     "data": {
      "text/plain": [
       "True"
      ]
     },
     "execution_count": 35,
     "metadata": {},
     "output_type": "execute_result"
    }
   ],
   "source": [
    "dirr = '../revert_rewrite/writes/fs.usda.gov_11099'\n",
    "fixedIdx = json.load(open(os.path.join(dirr, 'result_log.json'), 'r'))[\"fixedIdx\"]\n",
    "initial = os.path.join(dirr, 'initial.png')\n",
    "exception = os.path.join(dirr, f'exception_{fixedIdx}.png')\n",
    "\n",
    "def compare_screenshot(live_img, archive_img):\n",
    "    if not os.path.exists(live_img) or not os.path.exists(archive_img):\n",
    "        return -1\n",
    "    img1 = cv2.imread(live_img)\n",
    "    img2 = cv2.imread(archive_img)\n",
    "    height = min(img1.shape[0], img2.shape[0])\n",
    "    width = min([img1.shape[1], img2.shape[1]])\n",
    "    img1 = img1[:height,:width,:]\n",
    "    img2 = img2[:height,:width,:]\n",
    "    diff = img1 - img2\n",
    "    total = img1.shape[0]*img1.shape[1]*img1.shape[2]\n",
    "    same = np.count_nonzero(diff == 0)\n",
    "    return same / total, diff\n",
    "\n",
    "simi, diff = compare_screenshot(initial, exception)\n",
    "print(simi)\n",
    "cv2.imwrite(os.path.join(dirr, 'diff.png'), diff)"
   ]
  },
  {
   "cell_type": "code",
   "execution_count": null,
   "metadata": {},
   "outputs": [],
   "source": [
    "dirs = os.listdir('../record_replay/writes')\n",
    "num_diff, num_diff_writes = 0, 0\n",
    "total = 0\n",
    "for dirr in dirs:\n",
    "    if not os.path.exists(f'../record_replay/writes/{dirr}/live_elements.json') or not os.path.exists(f'../record_replay/writes/{dirr}/archive_elements.json'):\n",
    "        continue\n",
    "    key_writes = find_diff_writes.locate_key_writes(f'../record_replay/writes/{dirr}')\n",
    "    live_additional = [len(w['key_related_writes']) for w in key_writes['live']]\n",
    "    archive_additional = [len(w['key_related_writes']) for w in key_writes['archive']]\n",
    "\n",
    "    total += 1\n",
    "    if len(live_additional) > 0 or len(archive_additional) > 0:\n",
    "        num_diff += 1\n",
    "    # if sum(archive_additional) > 0:\n",
    "    #     num_diff_writes += 1\n",
    "\n",
    "    ive_unique_elements, archive_unique_elements = find_diff_writes.find_diff_elements(f'../record_replay/writes/{dirr}')\n",
    "    diff_writes = find_diff_writes.collect_diff_writes(f'../record_replay/writes/{dirr}')\n",
    "    if len(diff_writes['archive']) > 0:\n",
    "        print(len(diff_writes['archive']), len(archive_unique_elements))\n",
    "        num_diff_writes += 1\n",
    "print(\"Total\", total)\n",
    "print(\"Number of different layout trees\", num_diff)\n",
    "print(\"Number of archive's additional writes\", num_diff_writes)"
   ]
  },
  {
   "cell_type": "markdown",
   "metadata": {},
   "source": [
    "### fidelity check on a set of loads"
   ]
  },
  {
   "cell_type": "code",
   "execution_count": 14,
   "metadata": {},
   "outputs": [],
   "source": [
    "def valid_dir(dirr):\n",
    "    valid = os.path.exists(f'{dirr}/live_elements.json') and os.path.exists(f'{dirr}/archive_elements.json')\n",
    "    return valid\n",
    "\n",
    "base = '../record_replay/writes'\n",
    "data = json.load(open(f'{base}/fidelity_check_metadata.json', 'r'))\n",
    "results = []\n",
    "for url, info in list(data.items()):\n",
    "    dirr = info['directory']\n",
    "    if not valid_dir(f\"{base}/{dirr}\"):\n",
    "        continue\n",
    "    issue, _ =  find_diff_writes.fidelity_issue(f\"{base}/{dirr}\")\n",
    "    issue_screenshot, simi = find_diff_writes.fidelity_issue_screenshot(f\"{base}/{dirr}\")\n",
    "    results.append({\n",
    "        'directory': dirr,\n",
    "        'issue': issue,\n",
    "        'issue_screenshot': issue_screenshot,\n",
    "        'screenshot_similarity': simi\n",
    "    })\n",
    "json.dump(results, open('fidelity_check.json', 'w+'), indent=2)"
   ]
  }
 ],
 "metadata": {
  "kernelspec": {
   "display_name": "base",
   "language": "python",
   "name": "python3"
  },
  "language_info": {
   "codemirror_mode": {
    "name": "ipython",
    "version": 3
   },
   "file_extension": ".py",
   "mimetype": "text/x-python",
   "name": "python",
   "nbconvert_exporter": "python",
   "pygments_lexer": "ipython3",
   "version": "3.8.5"
  }
 },
 "nbformat": 4,
 "nbformat_minor": 2
}

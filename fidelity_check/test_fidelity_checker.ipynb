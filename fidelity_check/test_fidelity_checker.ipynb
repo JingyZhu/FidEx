{
 "cells": [
  {
   "cell_type": "code",
   "execution_count": 2,
   "metadata": {},
   "outputs": [],
   "source": [
    "%load_ext autoreload\n",
    "%autoreload 2"
   ]
  },
  {
   "cell_type": "code",
   "execution_count": 3,
   "metadata": {},
   "outputs": [],
   "source": [
    "import json\n",
    "import pandas as pd\n",
    "import os\n",
    "import sys\n",
    "import cv2\n",
    "import numpy as np\n",
    "sys.path.append('..')\n",
    "import matplotlib.pyplot as plt\n",
    "from fidelity_check import fidelity_detect, check_utils"
   ]
  },
  {
   "cell_type": "markdown",
   "metadata": {},
   "source": [
    "### Check the assumption of archive's writes are always a subset of live"
   ]
  },
  {
   "cell_type": "markdown",
   "metadata": {},
   "source": [
    "### Fidelity check"
   ]
  },
  {
   "cell_type": "code",
   "execution_count": 33,
   "metadata": {},
   "outputs": [
    {
     "name": "stdout",
     "output_type": "stream",
     "text": [
      "stage load\n",
      "fixedIdx 0_2\n",
      "1710 1753\n",
      "True\n",
      "[\n",
      "  [\n",
      "    \"/html[1]/body[1]/section[1]/div[2]/header[1]/nav[1]/div[1]/a[1]\",\n",
      "    \"/html[1]/body[1]/section[1]/div[2]/header[1]/nav[1]/div[1]/a[1]/span[1]\"\n",
      "  ],\n",
      "  [\n",
      "    \"/html[1]/body[1]/section[1]/div[2]/header[1]/nav[1]/div[1]/div[1]\",\n",
      "    \"/html[1]/body[1]/section[1]/div[2]/header[1]/nav[1]/div[1]/div[1]/ul[1]\",\n",
      "    \"/html[1]/body[1]/section[1]/div[2]/header[1]/nav[1]/div[1]/div[1]/ul[1]/li[1]\",\n",
      "    \"/html[1]/body[1]/section[1]/div[2]/header[1]/nav[1]/div[1]/div[1]/ul[1]/li[2]\",\n",
      "    \"/html[1]/body[1]/section[1]/div[2]/header[1]/nav[1]/div[1]/div[1]/ul[1]/li[3]\",\n",
      "    \"/html[1]/body[1]/section[1]/div[2]/header[1]/nav[1]/div[1]/div[1]/ul[1]/li[4]\",\n",
      "    \"/html[1]/body[1]/section[1]/div[2]/header[1]/nav[1]/div[1]/div[1]/ul[1]/li[5]\",\n",
      "    \"/html[1]/body[1]/section[1]/div[2]/header[1]/nav[1]/div[1]/div[1]/ul[1]/li[6]\"\n",
      "  ],\n",
      "  [\n",
      "    \"/html[1]/body[1]/section[1]/div[2]/header[1]/nav[1]/div[1]/div[2]\",\n",
      "    \"/html[1]/body[1]/section[1]/div[2]/header[1]/nav[1]/div[1]/div[2]/ul[1]\",\n",
      "    \"/html[1]/body[1]/section[1]/div[2]/header[1]/nav[1]/div[1]/div[2]/ul[1]/li[1]\",\n",
      "    \"/html[1]/body[1]/section[1]/div[2]/header[1]/nav[1]/div[1]/div[2]/ul[1]/li[2]\",\n",
      "    \"/html[1]/body[1]/section[1]/div[2]/header[1]/nav[1]/div[1]/div[2]/ul[1]/li[3]\"\n",
      "  ],\n",
      "  [\n",
      "    \"/html[1]/body[1]/section[1]/div[2]/header[1]/nav[1]/div[1]/div[3]\",\n",
      "    \"/html[1]/body[1]/section[1]/div[2]/header[1]/nav[1]/div[1]/div[3]/div[1]\",\n",
      "    \"/html[1]/body[1]/section[1]/div[2]/header[1]/nav[1]/div[1]/div[3]/h3[1]\"\n",
      "  ]\n",
      "]\n",
      "[\n",
      "  [\n",
      "    \"/html[1]/body[1]/section[1]/div[2]/header[1]/nav[1]/div[1]/a[1]\",\n",
      "    \"/html[1]/body[1]/section[1]/div[2]/header[1]/nav[1]/div[1]/a[1]/span[1]\"\n",
      "  ],\n",
      "  [\n",
      "    \"/html[1]/body[1]/section[1]/div[2]/header[1]/nav[1]/div[1]/div[1]\",\n",
      "    \"/html[1]/body[1]/section[1]/div[2]/header[1]/nav[1]/div[1]/div[1]/ul[1]\",\n",
      "    \"/html[1]/body[1]/section[1]/div[2]/header[1]/nav[1]/div[1]/div[1]/ul[1]/li[1]\",\n",
      "    \"/html[1]/body[1]/section[1]/div[2]/header[1]/nav[1]/div[1]/div[1]/ul[1]/li[2]\",\n",
      "    \"/html[1]/body[1]/section[1]/div[2]/header[1]/nav[1]/div[1]/div[1]/ul[1]/li[3]\",\n",
      "    \"/html[1]/body[1]/section[1]/div[2]/header[1]/nav[1]/div[1]/div[1]/ul[1]/li[4]\",\n",
      "    \"/html[1]/body[1]/section[1]/div[2]/header[1]/nav[1]/div[1]/div[1]/ul[1]/li[5]\",\n",
      "    \"/html[1]/body[1]/section[1]/div[2]/header[1]/nav[1]/div[1]/div[1]/ul[1]/li[6]\"\n",
      "  ],\n",
      "  [\n",
      "    \"/html[1]/body[1]/section[1]/div[2]/header[1]/nav[1]/div[1]/div[2]\",\n",
      "    \"/html[1]/body[1]/section[1]/div[2]/header[1]/nav[1]/div[1]/div[2]/ul[1]\",\n",
      "    \"/html[1]/body[1]/section[1]/div[2]/header[1]/nav[1]/div[1]/div[2]/ul[1]/li[1]\",\n",
      "    \"/html[1]/body[1]/section[1]/div[2]/header[1]/nav[1]/div[1]/div[2]/ul[1]/li[2]\",\n",
      "    \"/html[1]/body[1]/section[1]/div[2]/header[1]/nav[1]/div[1]/div[2]/ul[1]/li[3]\"\n",
      "  ],\n",
      "  [\n",
      "    \"/html[1]/body[1]/section[1]/div[2]/header[1]/nav[1]/div[1]/div[3]\",\n",
      "    \"/html[1]/body[1]/section[1]/div[2]/header[1]/nav[1]/div[1]/div[3]/div[1]\",\n",
      "    \"/html[1]/body[1]/section[1]/div[2]/header[1]/nav[1]/div[1]/div[3]/h3[1]\"\n",
      "  ],\n",
      "  [\n",
      "    \"/html[1]/body[1]/section[1]/div[2]/header[1]/nav[1]/ul[1]\",\n",
      "    \"/html[1]/body[1]/section[1]/div[2]/header[1]/nav[1]/ul[1]/li[1]\",\n",
      "    \"/html[1]/body[1]/section[1]/div[2]/header[1]/nav[1]/ul[1]/li[1]/div[1]\",\n",
      "    \"/html[1]/body[1]/section[1]/div[2]/header[1]/nav[1]/ul[1]/li[1]/div[1]/a[1]\",\n",
      "    \"/html[1]/body[1]/section[1]/div[2]/header[1]/nav[1]/ul[1]/li[1]/div[1]/a[1]/#text[1]\",\n",
      "    \"/html[1]/body[1]/section[1]/div[2]/header[1]/nav[1]/ul[1]/li[1]/div[1]/button[1]\",\n",
      "    \"/html[1]/body[1]/section[1]/div[2]/header[1]/nav[1]/ul[1]/li[1]/div[1]/button[1]/svg[1]\",\n",
      "    \"/html[1]/body[1]/section[1]/div[2]/header[1]/nav[1]/ul[1]/li[1]/div[1]/button[1]/svg[1]/path[1]\",\n",
      "    \"/html[1]/body[1]/section[1]/div[2]/header[1]/nav[1]/ul[1]/li[2]\",\n",
      "    \"/html[1]/body[1]/section[1]/div[2]/header[1]/nav[1]/ul[1]/li[2]/div[1]\",\n",
      "    \"/html[1]/body[1]/section[1]/div[2]/header[1]/nav[1]/ul[1]/li[2]/div[1]/a[1]\",\n",
      "    \"/html[1]/body[1]/section[1]/div[2]/header[1]/nav[1]/ul[1]/li[2]/div[1]/a[1]/#text[1]\",\n",
      "    \"/html[1]/body[1]/section[1]/div[2]/header[1]/nav[1]/ul[1]/li[2]/div[1]/button[1]\",\n",
      "    \"/html[1]/body[1]/section[1]/div[2]/header[1]/nav[1]/ul[1]/li[2]/div[1]/button[1]/svg[1]\",\n",
      "    \"/html[1]/body[1]/section[1]/div[2]/header[1]/nav[1]/ul[1]/li[2]/div[1]/button[1]/svg[1]/path[1]\",\n",
      "    \"/html[1]/body[1]/section[1]/div[2]/header[1]/nav[1]/ul[1]/li[3]\",\n",
      "    \"/html[1]/body[1]/section[1]/div[2]/header[1]/nav[1]/ul[1]/li[3]/div[1]\",\n",
      "    \"/html[1]/body[1]/section[1]/div[2]/header[1]/nav[1]/ul[1]/li[3]/div[1]/a[1]\",\n",
      "    \"/html[1]/body[1]/section[1]/div[2]/header[1]/nav[1]/ul[1]/li[3]/div[1]/a[1]/#text[1]\",\n",
      "    \"/html[1]/body[1]/section[1]/div[2]/header[1]/nav[1]/ul[1]/li[3]/div[1]/button[1]\",\n",
      "    \"/html[1]/body[1]/section[1]/div[2]/header[1]/nav[1]/ul[1]/li[3]/div[1]/button[1]/svg[1]\",\n",
      "    \"/html[1]/body[1]/section[1]/div[2]/header[1]/nav[1]/ul[1]/li[3]/div[1]/button[1]/svg[1]/path[1]\",\n",
      "    \"/html[1]/body[1]/section[1]/div[2]/header[1]/nav[1]/ul[1]/li[4]\",\n",
      "    \"/html[1]/body[1]/section[1]/div[2]/header[1]/nav[1]/ul[1]/li[4]/div[1]\",\n",
      "    \"/html[1]/body[1]/section[1]/div[2]/header[1]/nav[1]/ul[1]/li[4]/div[1]/a[1]\",\n",
      "    \"/html[1]/body[1]/section[1]/div[2]/header[1]/nav[1]/ul[1]/li[4]/div[1]/a[1]/#text[1]\",\n",
      "    \"/html[1]/body[1]/section[1]/div[2]/header[1]/nav[1]/ul[1]/li[4]/div[1]/button[1]\",\n",
      "    \"/html[1]/body[1]/section[1]/div[2]/header[1]/nav[1]/ul[1]/li[4]/div[1]/button[1]/svg[1]\",\n",
      "    \"/html[1]/body[1]/section[1]/div[2]/header[1]/nav[1]/ul[1]/li[4]/div[1]/button[1]/svg[1]/path[1]\",\n",
      "    \"/html[1]/body[1]/section[1]/div[2]/header[1]/nav[1]/ul[1]/li[5]\",\n",
      "    \"/html[1]/body[1]/section[1]/div[2]/header[1]/nav[1]/ul[1]/li[5]/div[1]\",\n",
      "    \"/html[1]/body[1]/section[1]/div[2]/header[1]/nav[1]/ul[1]/li[5]/div[1]/a[1]\",\n",
      "    \"/html[1]/body[1]/section[1]/div[2]/header[1]/nav[1]/ul[1]/li[5]/div[1]/a[1]/#text[1]\",\n",
      "    \"/html[1]/body[1]/section[1]/div[2]/header[1]/nav[1]/ul[1]/li[5]/div[1]/button[1]\",\n",
      "    \"/html[1]/body[1]/section[1]/div[2]/header[1]/nav[1]/ul[1]/li[5]/div[1]/button[1]/svg[1]\",\n",
      "    \"/html[1]/body[1]/section[1]/div[2]/header[1]/nav[1]/ul[1]/li[5]/div[1]/button[1]/svg[1]/path[1]\",\n",
      "    \"/html[1]/body[1]/section[1]/div[2]/header[1]/nav[1]/ul[1]/li[6]\",\n",
      "    \"/html[1]/body[1]/section[1]/div[2]/header[1]/nav[1]/ul[1]/li[6]/div[1]\",\n",
      "    \"/html[1]/body[1]/section[1]/div[2]/header[1]/nav[1]/ul[1]/li[6]/div[1]/a[1]\",\n",
      "    \"/html[1]/body[1]/section[1]/div[2]/header[1]/nav[1]/ul[1]/li[6]/div[1]/a[1]/#text[1]\",\n",
      "    \"/html[1]/body[1]/section[1]/div[2]/header[1]/nav[1]/ul[1]/li[6]/div[1]/button[1]\",\n",
      "    \"/html[1]/body[1]/section[1]/div[2]/header[1]/nav[1]/ul[1]/li[6]/div[1]/button[1]/svg[1]\",\n",
      "    \"/html[1]/body[1]/section[1]/div[2]/header[1]/nav[1]/ul[1]/li[6]/div[1]/button[1]/svg[1]/path[1]\"\n",
      "  ]\n",
      "]\n"
     ]
    }
   ],
   "source": [
    "# dirr = '../revert_rewrite/writes/www.paulkasmingallery.com_641_3_4c30cf2b47f220b75ebeb15b727ca9b0594ed2a2a1a778d3e700940540db2017'\n",
    "dirr = '../revert_rewrite/test/load_override/writes/golfdigest.com'\n",
    "results = json.load(open(os.path.join(dirr, 'results.json'), 'r'))\n",
    "stage, fixedIdx = None, None\n",
    "for stage, result in results.items():\n",
    "    if result['fixedIdx'] == -1:\n",
    "        continue\n",
    "    fixedIdx = result['fixedIdx']\n",
    "    break\n",
    "# stage = 'interaction_2'\n",
    "# result = results[stage]\n",
    "# fixedIdx = result['fixedIdx']\n",
    "print(\"stage\", stage)\n",
    "print(\"fixedIdx\", fixedIdx)\n",
    "left = f'{stage}_initial'\n",
    "right = f'{stage}_exception_{fixedIdx}'\n",
    "print(len(json.load(open(os.path.join(dirr, f'{left}_elements.json')))), len(json.load(open(os.path.join(dirr, f'{right}_elements.json')))))\n",
    "issue, (left_u, right_u) = fidelity_detect.fidelity_issue(dirr, left, right)\n",
    "print(issue)\n",
    "print(json.dumps(left_u, indent=2))\n",
    "print(json.dumps(right_u, indent=2))"
   ]
  },
  {
   "cell_type": "markdown",
   "metadata": {},
   "source": [
    "### Screenshot similarity"
   ]
  },
  {
   "cell_type": "code",
   "execution_count": 26,
   "metadata": {},
   "outputs": [
    {
     "name": "stdout",
     "output_type": "stream",
     "text": [
      "1.0\n"
     ]
    },
    {
     "data": {
      "text/plain": [
       "True"
      ]
     },
     "execution_count": 26,
     "metadata": {},
     "output_type": "execute_result"
    }
   ],
   "source": [
    "dirr = '../revert_rewrite/writes/test'\n",
    "# dirr = '../revert_rewrite/test/load_override/writes/spanish.malabo.usembassy.gov_11513'\n",
    "fixedIdx = json.load(open(os.path.join(dirr, 'result_log.json'), 'r'))[\"fixedIdx\"]\n",
    "initial = os.path.join(dirr, 'initial.png')\n",
    "exception = os.path.join(dirr, f'exception_{fixedIdx}.png')\n",
    "\n",
    "def compare_screenshot(live_img, archive_img):\n",
    "    if not os.path.exists(live_img) or not os.path.exists(archive_img):\n",
    "        return -1\n",
    "    img1 = cv2.imread(live_img)\n",
    "    img2 = cv2.imread(archive_img)\n",
    "    height = min(img1.shape[0], img2.shape[0])\n",
    "    width = min([img1.shape[1], img2.shape[1]])\n",
    "    img1 = img1[:height,:width,:]\n",
    "    img2 = img2[:height,:width,:]\n",
    "    diff = img1 - img2\n",
    "    total = img1.shape[0]*img1.shape[1]*img1.shape[2]\n",
    "    same = np.count_nonzero(diff == 0)\n",
    "    return same / total, diff\n",
    "\n",
    "simi, diff = compare_screenshot(initial, exception)\n",
    "print(simi)\n",
    "cv2.imwrite(os.path.join(dirr, 'diff.png'), diff)"
   ]
  },
  {
   "cell_type": "markdown",
   "metadata": {},
   "source": [
    "### Diff writes"
   ]
  },
  {
   "cell_type": "code",
   "execution_count": 30,
   "metadata": {},
   "outputs": [
    {
     "name": "stdout",
     "output_type": "stream",
     "text": [
      "Length of writes 42 43\n"
     ]
    },
    {
     "data": {
      "text/plain": [
       "([('head', 'script', 'appendChild'),\n",
       "  ('head', 'style', 'insertBefore'),\n",
       "  ('div', 'div', 'removeChild')],\n",
       " [('head', 'link', 'appendChild'),\n",
       "  ('div', 'div', 'appendChild'),\n",
       "  ('n.length;s++)o=n', 'iframe', '#text', 'insertBefore')])"
      ]
     },
     "execution_count": 30,
     "metadata": {},
     "output_type": "execute_result"
    }
   ],
   "source": [
    "dirr = '../revert_rewrite/writes/www.nytimes.com_1073_3_aebb2a70fcc39ea0202fcedcc6e8c81852149174e479d139da024d11887cf02b'\n",
    "# dirr = '../revert_rewrite/test/load_override/writes/grunt.ca'\n",
    "stage = 'load'\n",
    "idx = '0_2'\n",
    "attribute = 'rawWrites'\n",
    "left_writes = json.load(open(os.path.join(dirr, f'{stage}_initial_writes.json')))\n",
    "right_writes = json.load(open(os.path.join(dirr, f'{stage}_exception_{idx}_writes.json')))\n",
    "print(\"Length of writes\", len(left_writes[attribute]), len(right_writes[attribute]))\n",
    "left_unique, right_unique = check_utils.diff_writes(left_writes, right_writes, attribute=attribute)\n",
    "# len(left_unique), len(right_unique)\n",
    "list(left_unique.keys()), list(right_unique.keys())"
   ]
  },
  {
   "cell_type": "code",
   "execution_count": 32,
   "metadata": {},
   "outputs": [
    {
     "name": "stdout",
     "output_type": "stream",
     "text": [
      "antimundo.org_702_2_5a7caff81b39d21034316034ac713eb594e6d8d2748d464786f7e03af80c6c72 load\n",
      "0 0\n",
      "smithsonianapa.org_884_0_05e534a1579f85e97ce6bee2047b6e349ac59e1860e2b733145013a4b0a13a4b load\n",
      "0 0\n",
      "www.paulkasmingallery.com_641_3_4c30cf2b47f220b75ebeb15b727ca9b0594ed2a2a1a778d3e700940540db2017 load\n",
      "0 3\n",
      "www.moma.org_531_2_4da7841d3805c7dd84abdfb099872933d3f95a24f851dbfc51492241402c0fa5 interaction_4\n",
      "0 0\n",
      "festival.si.edu_740_1_91bd2d5a28ffde09b540e5f3db1033287aeaced2bec240c3a159e605440af341 interaction_0\n",
      "0 0\n",
      "sassas.org_875_0_3041e2c8680579738802ac328f56337b7ee1c5a27c04ddfe00378be1c2f51fd4 load\n",
      "0 0\n",
      "www.moma.org_309_0_dbb4363b8dd9feae3b609edae0fc9d794c0e24ab71e60f1ebe4250d89533d1ba extraInteraction\n",
      "13 37\n",
      "www.moma.org_447_1_c4ffd66ad48ad3c5633f4a07db84e1c0eeb9500897974e2684ec2eee8462fe5d load\n",
      "12 12\n",
      "www.moma.org_356_1_7ec3e5a3dee8eb4f7b9c506c1497332a7950ad6783e4dfce22117cbbc1884082 load\n",
      "12 12\n",
      "www.moma.org_487_1_8d2b921e5f6d87ed6c1ca85222df9810a04d3c554740c93b1537cfc57b4f1443 extraInteraction\n",
      "13 37\n",
      "www.accioncultural.es_113_3_4e73ec37f45d81cc544aa73528a578404b8d9a2debf98711d2868feab1e81beb load\n",
      "0 0\n",
      "mineralsciences.si.edu_822_2_4cf7ac97f297a2e3fc53f7a93c86cc6ec808b3918ea6b7aaaa702de2bf54708c load\n",
      "0 0\n",
      "josebedia.com_63_1_fe599c160d3d7d17493bcdc2c518cbed163d585fae2bb981a90e04a33f186f3a load\n",
      "0 0\n",
      "www.getty.edu_1019_3_584174db1b6078537f632c76fd805f8fcd47877defe360795ba9e960ef50e0f4 load\n",
      "0 0\n",
      "www.nytimes.com_1073_3_aebb2a70fcc39ea0202fcedcc6e8c81852149174e479d139da024d11887cf02b load\n",
      "3 3\n",
      "www.moma.org_278_3_a74bd9b587f6ebc65b9e374a330757973d7b3b1a9340f956bd7b8b52adf35f68 interaction_2\n",
      "0 2\n",
      "www.fgi.org_978_0_6fa6deafb0c03ad5a049ca6b64f53b9c4b0e119321dbc6acb6dfe238fcc9de6d load\n",
      "0 0\n",
      "www.moma.org_295_2_e567f8337389980622b534ba5d4d8358d28a543191e8e80863647802c9dfed56 load\n",
      "12 12\n",
      "sassas.org_872_1_8cf24a250803fcf5e54b235204b2dc693a30910e038c8aaed1cc09a4d0f321e6 load\n",
      "0 0\n",
      "philadelphia.cbslocal.com_856_0_29d5f17b7031ac63929e494152c7989939a31741c8d41b0a9f174a461688ba99 load\n",
      "0 0\n",
      "www.corita.org_956_3_b8ac65793e56e4db4cb4a342f056b4aba0df3fc79b7358c55e92031325551260 load\n",
      "0 0\n",
      "www.moma.org_241_0_83f05ab0a17b0bd0f7656ed46c2fe29b09c0456c02fa4d167d7b39d1fceb23e0 load\n",
      "5 10\n",
      "www.moma.org_489_3_bd284c06d19221940065b238e32334464a06c71add17c0496699385f130e9c43 extraInteraction\n",
      "13 37\n",
      "www.getty.edu_1018_1_2a324bc732736cb16952e70e43ac019c03f08a5ac1d00daf9426053b71e5b55d load\n",
      "0 24\n",
      "northwestairlineshistory.org_81_0_1e309792670b2b7bcf158d6841ac3d3d675ee00f77870c73c47dbc65eaa6a94e interaction_0\n",
      "0 0\n",
      "www.moma.org_402_1_c37ca827899b3971031a27881ea2a8edc30bba4cb319058c72ffdacb2e62187a load\n",
      "12 12\n",
      "www.si.edu_1089_0_75d7b909a6619830c2453ca4ee8f556b0c02e83b0454bc0ee4f03c1a7686a67c load\n",
      "7 5\n",
      "www.lsunow.com_170_2_4edec4f00b28cf508d6e5a3983e6f969ab47e525ded74f0fd27dd0f03fb527c0 load\n",
      "0 0\n",
      "pinchukartcentre.org_88_1_8b6849de636d4828c2615661e399199309ed5cd9c60fdd22a1a917395e8616a8 load\n",
      "0 0\n",
      "americanhistory.si.edu_698_0_8a9fca87fc4ac549f9da9c9ecc01cc8cfd159392f40a7b33388e5f4cfb30836a load\n",
      "0 0\n",
      "www.moma.org_447_2_ce9db8ab803951d37581ea636ab7b0995043428178140039851de283fd02be65 extraInteraction\n",
      "12 37\n"
     ]
    }
   ],
   "source": [
    "fixed = json.load(open('../revert_rewrite/fixed_count.json'))\n",
    "attribute = 'rawWrites'\n",
    "for dirr, stage in fixed.items():\n",
    "    print(dirr, stage)\n",
    "    all_dirr = f'../revert_rewrite/writes/{dirr}'\n",
    "    result = json.load(open(os.path.join(all_dirr, 'results.json'), 'r'))[stage]\n",
    "    idx = result['fixedIdx']\n",
    "    left_writes = json.load(open(os.path.join(all_dirr, f'{stage}_initial_writes.json')))\n",
    "    right_writes = json.load(open(os.path.join(all_dirr, f'{stage}_exception_{idx}_writes.json')))\n",
    "    left_unique, right_unique = check_utils.diff_writes(left_writes, right_writes, attribute=attribute)\n",
    "    print(len(left_unique), len(right_unique))"
   ]
  },
  {
   "cell_type": "markdown",
   "metadata": {},
   "source": [
    "### fidelity check on a set of loads"
   ]
  },
  {
   "cell_type": "code",
   "execution_count": 14,
   "metadata": {},
   "outputs": [],
   "source": [
    "def valid_dir(dirr):\n",
    "    valid = os.path.exists(f'{dirr}/live_elements.json') and os.path.exists(f'{dirr}/archive_elements.json')\n",
    "    return valid\n",
    "\n",
    "base = '../record_replay/writes'\n",
    "data = json.load(open(f'{base}/fidelity_check_metadata.json', 'r'))\n",
    "results = []\n",
    "for url, info in list(data.items()):\n",
    "    dirr = info['directory']\n",
    "    if not valid_dir(f\"{base}/{dirr}\"):\n",
    "        continue\n",
    "    issue, _ =  fidelity_detect.fidelity_issue(f\"{base}/{dirr}\")\n",
    "    issue_screenshot, simi = fidelity_detect.fidelity_issue_screenshot(f\"{base}/{dirr}\")\n",
    "    results.append({\n",
    "        'directory': dirr,\n",
    "        'issue': issue,\n",
    "        'issue_screenshot': issue_screenshot,\n",
    "        'screenshot_similarity': simi\n",
    "    })\n",
    "json.dump(results, open('fidelity_check.json', 'w+'), indent=2)"
   ]
  },
  {
   "cell_type": "markdown",
   "metadata": {},
   "source": [
    "### fidelity check (single)"
   ]
  },
  {
   "cell_type": "code",
   "execution_count": 25,
   "metadata": {},
   "outputs": [
    {
     "name": "stdout",
     "output_type": "stream",
     "text": [
      "False\n",
      "[]\n",
      "[]\n"
     ]
    }
   ],
   "source": [
    "base = '/vault-swift/jingyz/fidelity-files/writes/ground_truth/'\n",
    "dirr = 'tech.ed.gov'\n",
    "issue, (left_u, right_u) = fidelity_detect.fidelity_issue(os.path.join(base, dirr), 'live', 'archive')\n",
    "print(issue)\n",
    "print(json.dumps(left_u, indent=2))\n",
    "print(json.dumps(right_u, indent=2))"
   ]
  }
 ],
 "metadata": {
  "kernelspec": {
   "display_name": "base",
   "language": "python",
   "name": "python3"
  },
  "language_info": {
   "codemirror_mode": {
    "name": "ipython",
    "version": 3
   },
   "file_extension": ".py",
   "mimetype": "text/x-python",
   "name": "python",
   "nbconvert_exporter": "python",
   "pygments_lexer": "ipython3",
   "version": "3.8.5"
  }
 },
 "nbformat": 4,
 "nbformat_minor": 2
}

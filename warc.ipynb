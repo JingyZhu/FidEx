{
 "cells": [
  {
   "cell_type": "code",
   "execution_count": 1,
   "metadata": {},
   "outputs": [],
   "source": [
    "%load_ext autoreload\n",
    "%autoreload 2"
   ]
  },
  {
   "cell_type": "code",
   "execution_count": 4,
   "metadata": {},
   "outputs": [],
   "source": [
    "from warcio.capture_http import capture_http\n",
    "import requests  # requests must be imported after capture_http"
   ]
  },
  {
   "cell_type": "code",
   "execution_count": 8,
   "metadata": {},
   "outputs": [],
   "source": [
    "r = requests.get(\"https://www.eyedrum.org/calendar-events-performances-art-music/simone-baron-arco-belo-at-eyedrum\")\n",
    "f = open('test.html', 'w+')\n",
    "f.write(r.text)\n",
    "f.close()"
   ]
  },
  {
   "cell_type": "code",
   "execution_count": 4,
   "metadata": {},
   "outputs": [],
   "source": [
    "with capture_http('test.warc.gz'):\n",
    "    r = requests.get(\"https://fingerprinter-production.herokuapp.com/visitors/9da0eb5b2cac163039f1a7900f452aae/audience_segments\")\n"
   ]
  },
  {
   "cell_type": "code",
   "execution_count": 2,
   "metadata": {},
   "outputs": [
    {
     "name": "stdout",
     "output_type": "stream",
     "text": [
      "https://elibrary.ferc.gov/eLibrary/\n",
      "https://elibrary.ferc.gov/eLibrary/1.421a146bd2644be1bc1c.js\n",
      "https://elibrary.ferc.gov/eLibrary/2.a1c8bc6dcaabb3f4b86b.js\n",
      "https://elibrary.ferc.gov/eLibrary/5.57734a9fe71c5f374989.js\n",
      "https://elibrary.ferc.gov/eLibrary/MaterialIcons-Regular.0509ab09c1b0d2200a41.woff2\n",
      "https://elibrary.ferc.gov/eLibrary/Roboto-Bold.b52fac2bb93c5858f3f2.woff2\n",
      "https://elibrary.ferc.gov/eLibrary/Roboto-Medium.90d1676003d9c28c0499.woff2\n",
      "https://elibrary.ferc.gov/eLibrary/Roboto-Regular.73f0a88bbca1bec19fb1.woff2\n",
      "https://elibrary.ferc.gov/eLibrary/appsettings.js\n",
      "https://elibrary.ferc.gov/eLibrary/assets/css/style.sea.css\n",
      "https://elibrary.ferc.gov/eLibrary/assets/img/FERC-banner.png\n",
      "https://elibrary.ferc.gov/eLibrary/assets/stylesheets/eLIbarary1024.css\n",
      "https://elibrary.ferc.gov/eLibrary/assets/vendor/style-default.css\n",
      "https://elibrary.ferc.gov/eLibrary/common.175402aeed6487506102.js\n",
      "https://elibrary.ferc.gov/eLibrary/faviconferc.ico\n",
      "https://elibrary.ferc.gov/eLibrary/main.0e958ff6864c4e859a72.js\n",
      "https://elibrary.ferc.gov/eLibrary/polyfills.a7cec5046c57408eb4a3.js\n",
      "https://elibrary.ferc.gov/eLibrary/runtime.6196d23ae959f50e5704.js\n",
      "https://elibrary.ferc.gov/eLibrary/scripts.35b6eab355f9e8d62532.js\n",
      "https://elibrary.ferc.gov/eLibrary/styles.1bfadf7bc2dd2e8afda7.css\n",
      "https://elibrary.ferc.gov/eLibrarywebapi/api/File/Login\n",
      "https://elibrary.ferc.gov/eLibrarywebapi/api/Search/GetClassTypes\n",
      "https://fonts.googleapis.com/css?family=Roboto:300,400,500\n",
      "https://fonts.googleapis.com/icon?family=Material+Icons\n",
      "https://use.fontawesome.com/releases/v5.8.1/css/all.css\n"
     ]
    }
   ],
   "source": [
    "from warcio.archiveiterator import ArchiveIterator\n",
    "\n",
    "with open('synchronization/downloads/test.warc', 'rb') as stream:\n",
    "# with open('erma.wacz', 'rb') as stream:\n",
    "    for record in ArchiveIterator(stream):\n",
    "        if record.rec_type == 'response':\n",
    "            print(record.rec_headers.get_header('WARC-Target-URI'))"
   ]
  }
 ],
 "metadata": {
  "kernelspec": {
   "display_name": "Python 3.8.5 ('base')",
   "language": "python",
   "name": "python3"
  },
  "language_info": {
   "codemirror_mode": {
    "name": "ipython",
    "version": 3
   },
   "file_extension": ".py",
   "mimetype": "text/x-python",
   "name": "python",
   "nbconvert_exporter": "python",
   "pygments_lexer": "ipython3",
   "version": "3.9.13"
  },
  "orig_nbformat": 4,
  "vscode": {
   "interpreter": {
    "hash": "0c292508d750f23631e46b494a05df669fdd5381cef64ac7bdb79a67da33c038"
   }
  }
 },
 "nbformat": 4,
 "nbformat_minor": 2
}

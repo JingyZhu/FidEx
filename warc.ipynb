{
 "cells": [
  {
   "cell_type": "code",
   "execution_count": 3,
   "metadata": {},
   "outputs": [
    {
     "name": "stdout",
     "output_type": "stream",
     "text": [
      "The autoreload extension is already loaded. To reload it, use:\n",
      "  %reload_ext autoreload\n"
     ]
    }
   ],
   "source": [
    "%load_ext autoreload\n",
    "%autoreload 2"
   ]
  },
  {
   "cell_type": "code",
   "execution_count": 4,
   "metadata": {},
   "outputs": [],
   "source": [
    "from warcio.capture_http import capture_http\n",
    "import requests  # requests must be imported after capture_http"
   ]
  },
  {
   "cell_type": "code",
   "execution_count": 8,
   "metadata": {},
   "outputs": [],
   "source": [
    "r = requests.get(\"https://www.eyedrum.org/calendar-events-performances-art-music/simone-baron-arco-belo-at-eyedrum\")\n",
    "f = open('test.html', 'w+')\n",
    "f.write(r.text)\n",
    "f.close()"
   ]
  },
  {
   "cell_type": "code",
   "execution_count": 4,
   "metadata": {},
   "outputs": [],
   "source": [
    "with capture_http('test.warc.gz'):\n",
    "    r = requests.get(\"https://fingerprinter-production.herokuapp.com/visitors/9da0eb5b2cac163039f1a7900f452aae/audience_segments\")\n"
   ]
  },
  {
   "cell_type": "code",
   "execution_count": 11,
   "metadata": {},
   "outputs": [
    {
     "name": "stdout",
     "output_type": "stream",
     "text": [
      "https://nevada.egrantsmanagement.com/Images/NV_New_Logo.png\n",
      "https://nevada.egrantsmanagement.com/ScriptResource.axd?d=NJmAwtEo3Ipnlaxl6CMhvpHELhqt1ER2HyuSgnfGpbcF3xuclrSoif6e30TxqlI5bj1SXkLrE7PldaxKXNhtY30Mp0GXl_DvlWgpz_SAEkQC1sz0r0QjkowoI-VAkkMsRcty6FkU1NIGh1dyt324hW_qveOSqurQA-Qw7xnuUGo1&t=49337fe8\n",
      "https://nevada.egrantsmanagement.com/ScriptResource.axd?d=dwY9oWetJoJoVpgL6Zq8OFjjEQM2TdpLKAgxxe-TRerL5gMtDOr8bG_bhm7586WaZTG0zRdCRk6eFdqP5FXh2OWc4tlsR4n3ymKlg2yiq6Slc0gflYuI1iJOaISCsp7o9te2sZ-1qoDtR1KKHWnDoyf4q4a4VJeeLDYzlxQZVFg1&t=49337fe8\n",
      "https://nevada.egrantsmanagement.com/ScriptResource.axd?d=zvkqIRNUspAvS1yKeFhMbxcZGUwYem7Iv1beimQMBZGxV1atB_zKjSrEI46FSpZwlmS4k0kN_-uTlKa_15PjbziZQEC_jRA_PunUuBVtz52u8vFf94M4vXvlcN_RfnZHbgDWRqaXBZb4UuMTQSTZ8Q2&t=ffffffff866f772c\n",
      "https://nevada.egrantsmanagement.com/WebResource.axd?d=YAYach_zykzn7tRotFpEUiM4McBsh8TAwOMojhVNpAMT4XY6tOFWyLR6nc3ba2wp_ZmwVF1AF-9QsNpbzI5oiJlsqasYiEltDVF6k5LrOyY1&t=637814660020000000\n",
      "https://nevada.egrantsmanagement.com/WebResource.axd?d=pynGkmcFUV13He1Qd6_TZO67l92uuJo9Ipe8IY7aOFNqrw7jvC3sBqqE9GZCX5FTepPtSF7N-XdAzR_W7_sTgg2&t=637814660020000000\n",
      "https://nevada.egrantsmanagement.com/bundles/additionaljquery?v=0SFrJ543bdj2NktXleqnHkrettud7ClxNE1scsx2ezk1\n",
      "https://nevada.egrantsmanagement.com/bundles/ajax?v=PzHUHzi0BWrrTMt8H4fbeYPpBAJipAum5up61KdOC6I1\n",
      "https://nevada.egrantsmanagement.com/bundles/bootstrap?v=a0JlrK3HWJYO4CANWtnjZQ6r-FHTgFewh3ItuNGmfr41\n",
      "https://nevada.egrantsmanagement.com/bundles/decimal?v=rzMgQDaM721n1Z4n67G4X5rjM2mo_5cvSm3f6NuXLxo1\n",
      "https://nevada.egrantsmanagement.com/bundles/javascriptfunctions?v=pntqWZ6o5WtVutPy_PnhSl4Wis7noZi-sPHw_cBc3n41\n",
      "https://nevada.egrantsmanagement.com/bundles/jquery?v=ywRv5tGf_C8UyV9Nh0RJf-e9u4Rh_SmIN-qx3i-kH8Y1\n",
      "https://nevada.egrantsmanagement.com/bundles/selectionList?v=DSNjyfvEJDkPPOODHc3J0sRXl-Gf05h6tMctU6xty-w1\n",
      "https://nevada.egrantsmanagement.com/bundles/styles?v=o3Z0ixrJOY-coFEqeJoZF6dcorLX5kzfVJMkIRuMwyQ1\n",
      "https://nevada.egrantsmanagement.com/default.aspx?ccipSessionKey=638178663865789316\n",
      "https://nevada.egrantsmanagement.com/favicon.ico\n",
      "https://nevada.egrantsmanagement.com/images/ODE_SafeLock.gif\n"
     ]
    }
   ],
   "source": [
    "from warcio.archiveiterator import ArchiveIterator\n",
    "\n",
    "with open('synchronization/downloads/nevada.egrantsmanagement.com_1.warc', 'rb') as stream:\n",
    "# with open('erma.wacz', 'rb') as stream:\n",
    "    for record in ArchiveIterator(stream):\n",
    "        if record.rec_type == 'response':\n",
    "            print(record.rec_headers.get_header('WARC-Target-URI'))"
   ]
  }
 ],
 "metadata": {
  "kernelspec": {
   "display_name": "Python 3.8.5 ('base')",
   "language": "python",
   "name": "python3"
  },
  "language_info": {
   "codemirror_mode": {
    "name": "ipython",
    "version": 3
   },
   "file_extension": ".py",
   "mimetype": "text/x-python",
   "name": "python",
   "nbconvert_exporter": "python",
   "pygments_lexer": "ipython3",
   "version": "3.9.13"
  },
  "orig_nbformat": 4,
  "vscode": {
   "interpreter": {
    "hash": "0c292508d750f23631e46b494a05df669fdd5381cef64ac7bdb79a67da33c038"
   }
  }
 },
 "nbformat": 4,
 "nbformat_minor": 2
}

{
 "cells": [
  {
   "cell_type": "code",
   "execution_count": 1,
   "metadata": {},
   "outputs": [],
   "source": [
    "%load_ext autoreload\n",
    "%autoreload 2"
   ]
  },
  {
   "cell_type": "code",
   "execution_count": 4,
   "metadata": {},
   "outputs": [],
   "source": [
    "from warcio.capture_http import capture_http\n",
    "import requests  # requests must be imported after capture_http\n",
    "from warcio.archiveiterator import ArchiveIterator\n",
    "from warcio import WARCWriter\n",
    "import io"
   ]
  },
  {
   "cell_type": "code",
   "execution_count": 8,
   "metadata": {},
   "outputs": [],
   "source": [
    "r = requests.get(\"https://www.eyedrum.org/calendar-events-performances-art-music/simone-baron-arco-belo-at-eyedrum\")\n",
    "f = open('test.html', 'w+')\n",
    "f.write(r.text)\n",
    "f.close()"
   ]
  },
  {
   "cell_type": "code",
   "execution_count": 4,
   "metadata": {},
   "outputs": [],
   "source": [
    "with capture_http('test.warc.gz'):\n",
    "    r = requests.get(\"https://fingerprinter-production.herokuapp.com/visitors/9da0eb5b2cac163039f1a7900f452aae/audience_segments\")\n"
   ]
  },
  {
   "cell_type": "markdown",
   "metadata": {},
   "source": [
    "### Replace target warc"
   ]
  },
  {
   "cell_type": "code",
   "execution_count": 7,
   "metadata": {},
   "outputs": [],
   "source": [
    "warc = '/home/jingyz/Downloads/fidelity-issues.warc'\n",
    "new_warc = '/home/jingyz/fidelity-issues.warc'\n",
    "target_url_q = 'f4c9f.1f3ed359e8.js'\n",
    "replace = lambda x: x.replace('cancelIdleCallback(w),', 'cancelIdleCallback(w), (()=>{throw Error(\"jingyz\");})(),')\n",
    "\n",
    "with open(warc, 'rb') as stream, open(new_warc, 'wb') as out:\n",
    "    writer = WARCWriter(out, gzip=False)\n",
    "    for record in ArchiveIterator(stream):\n",
    "        uri = record.rec_headers.get_header('WARC-Target-URI')\n",
    "        body = record.content_stream().read()\n",
    "        if uri and target_url_q in uri and record.rec_type == 'response':\n",
    "            print(body)\n",
    "            body = replace(body.decode())\n",
    "            body = body.encode()\n",
    "            print(body)\n",
    "        new_record = writer.create_warc_record(record.rec_headers.get_header('WARC-Target-URI'), \n",
    "                                            record.rec_type,\n",
    "                                            payload=io.BytesIO(body),\n",
    "                                            warc_headers=record.rec_headers,\n",
    "                                            http_headers=record.http_headers)\n",
    "        writer.write_record(new_record)"
   ]
  }
 ],
 "metadata": {
  "kernelspec": {
   "display_name": "Python 3.8.5 ('base')",
   "language": "python",
   "name": "python3"
  },
  "language_info": {
   "codemirror_mode": {
    "name": "ipython",
    "version": 3
   },
   "file_extension": ".py",
   "mimetype": "text/x-python",
   "name": "python",
   "nbconvert_exporter": "python",
   "pygments_lexer": "ipython3",
   "version": "3.9.13"
  },
  "orig_nbformat": 4,
  "vscode": {
   "interpreter": {
    "hash": "0c292508d750f23631e46b494a05df669fdd5381cef64ac7bdb79a67da33c038"
   }
  }
 },
 "nbformat": 4,
 "nbformat_minor": 2
}

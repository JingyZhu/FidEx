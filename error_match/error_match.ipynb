{
 "cells": [
  {
   "cell_type": "code",
   "execution_count": 1,
   "metadata": {},
   "outputs": [],
   "source": [
    "%load_ext autoreload\n",
    "%autoreload 2"
   ]
  },
  {
   "cell_type": "code",
   "execution_count": 8,
   "metadata": {},
   "outputs": [],
   "source": [
    "import os\n",
    "import json\n",
    "import sys\n",
    "import random\n",
    "import pandas as pd\n",
    "import glob\n",
    "from collections import defaultdict\n",
    "\n",
    "sys.path.append('..')\n",
    "from utils import plotly_utils"
   ]
  },
  {
   "cell_type": "markdown",
   "metadata": {},
   "source": [
    "### Number of exceptions encountered and number of exceptions tackled"
   ]
  },
  {
   "cell_type": "code",
   "execution_count": 19,
   "metadata": {},
   "outputs": [],
   "source": [
    "writes_dir = '../revert_rewrite/writes'\n",
    "dirs = os.listdir(writes_dir)\n",
    "exception_recorded = defaultdict(int)\n",
    "for dirr in dirs:\n",
    "    if not os.path.exists(f'{writes_dir}/{dirr}/results.json'):\n",
    "        continue\n",
    "    results = json.load(open(f'{writes_dir}/{dirr}/results.json'))\n",
    "    load_exceptions= results['load']['results'][0]['exceptions']\n",
    "    exception_map = {}\n",
    "    for exception in load_exceptions:\n",
    "        description = exception['description'].split('\\n')[0]\n",
    "        # print(exception['idx'], description)\n",
    "        exception_map[str(exception['idx'])] = description\n",
    "    records = glob.glob(f'{writes_dir}/{dirr}/load_exception_*_elements.json')\n",
    "    for record in records:\n",
    "        record = record.split('/')[-1]\n",
    "        idx = record.split('_')[2]\n",
    "        fix = record.split('_')[3]\n",
    "        if str(idx) not in exception_map:\n",
    "            continue\n",
    "        desc = exception_map[str(idx)]\n",
    "        exception_recorded[desc] += 1\n",
    "exception_recorded = sorted(exception_recorded.items(), key=lambda x: x[1], reverse=True)\n",
    "json.dump(exception_recorded, open('exception_recorded.json', 'w'), indent=2)\n"
   ]
  }
 ],
 "metadata": {
  "kernelspec": {
   "display_name": "base",
   "language": "python",
   "name": "python3"
  },
  "language_info": {
   "codemirror_mode": {
    "name": "ipython",
    "version": 3
   },
   "file_extension": ".py",
   "mimetype": "text/x-python",
   "name": "python",
   "nbconvert_exporter": "python",
   "pygments_lexer": "ipython3",
   "version": "3.8.5"
  }
 },
 "nbformat": 4,
 "nbformat_minor": 2
}

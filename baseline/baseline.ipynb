{
 "cells": [
  {
   "cell_type": "code",
   "execution_count": 2,
   "metadata": {},
   "outputs": [],
   "source": [
    "import pandas as pd\n",
    "import os\n",
    "import json"
   ]
  },
  {
   "cell_type": "code",
   "execution_count": 3,
   "metadata": {},
   "outputs": [
    {
     "name": "stdout",
     "output_type": "stream",
     "text": [
      "{'TP': 13, 'FP': 49, 'TN': 28, 'FN': 0}\n",
      "{'TP': 6, 'FP': 18, 'TN': 59, 'FN': 7}\n"
     ]
    }
   ],
   "source": [
    "df = pd.read_csv('baseline_carta.csv')\n",
    "screenshot = {'TP': [], 'FP': [], 'TN': [], 'FN': []}\n",
    "ff = {'TP': [], 'FP': [], 'TN': [], 'FN': []}\n",
    "excep = {'TP': [], 'FP': [], 'TN': [], 'FN': []}\n",
    "\n",
    "def screenshot_label(row):\n",
    "    truth = int(row['page different?']) == 1\n",
    "    pred = not float(row['screenshot_similarity']) >= 1\n",
    "    label = 'P' if pred else 'N'\n",
    "    label = 'T' + label if pred == truth else 'F' + label\n",
    "    return label    \n",
    "\n",
    "def ff_label(row):\n",
    "    truth = int(row['page different?']) == 1\n",
    "    if int(row['archive_delta_failfetch']) > 0:\n",
    "        pred = True\n",
    "    else:\n",
    "        pred = False\n",
    "    label = 'P' if pred else 'N'\n",
    "    label = 'T' + label if pred == truth else 'F' + label\n",
    "    return label\n",
    "\n",
    "def excep_label(row):\n",
    "    truth = int(row['page different?']) == 1\n",
    "    if int(row['archive_delta_exception']) > 0:\n",
    "        pred = True\n",
    "    else:\n",
    "        pred = False\n",
    "    label = 'P' if pred else 'N'\n",
    "    label = 'T' + label if pred == truth else 'F' + label\n",
    "    return label\n",
    "\n",
    "for _, row in df.iterrows():\n",
    "    label = row['page different?']\n",
    "    if not isinstance(label, str) or not label.isdigit():\n",
    "        continue\n",
    "    slabel = screenshot_label(row)\n",
    "    screenshot[slabel].append(row['directory'])\n",
    "    eflabel = ff_label(row)\n",
    "    ff[eflabel].append(row['directory'])\n",
    "    eflabel = excep_label(row)\n",
    "    excep[eflabel].append(row['directory'])\n",
    "\n",
    "print({k: len(v) for k, v in screenshot.items()})\n",
    "print({k: len(v) for k, v in excep.items()})\n",
    "json.dump(excep, open('excep_ff_exceptiongt0.json', 'w+'), indent=2)\n"
   ]
  }
 ],
 "metadata": {
  "kernelspec": {
   "display_name": "base",
   "language": "python",
   "name": "python3"
  },
  "language_info": {
   "codemirror_mode": {
    "name": "ipython",
    "version": 3
   },
   "file_extension": ".py",
   "mimetype": "text/x-python",
   "name": "python",
   "nbconvert_exporter": "python",
   "pygments_lexer": "ipython3",
   "version": "3.9.13"
  },
  "orig_nbformat": 4
 },
 "nbformat": 4,
 "nbformat_minor": 2
}
